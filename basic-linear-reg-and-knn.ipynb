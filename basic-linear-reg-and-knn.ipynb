{
 "cells": [
  {
   "cell_type": "markdown",
   "metadata": {},
   "source": [
    "# Basic Linear Regression Model"
   ]
  },
  {
   "cell_type": "markdown",
   "metadata": {},
   "source": [
    "## Imports"
   ]
  },
  {
   "cell_type": "code",
   "execution_count": 1,
   "metadata": {},
   "outputs": [],
   "source": [
    "import numpy as np\n",
    "import matplotlib as mpl\n",
    "import matplotlib.pyplot as plt\n",
    "import pandas as pd\n",
    "from scipy import stats, integrate\n",
    "import seaborn as sns\n",
    "\n",
    "import pprint\n",
    "p = pprint.PrettyPrinter(indent=4)\n",
    "\n",
    "import config as config\n",
    "\n",
    "%matplotlib inline\n"
   ]
  },
  {
   "cell_type": "markdown",
   "metadata": {},
   "source": [
    "## Importing utilities object\n",
    "+ imports dataset as lists (a training and test set)\n"
   ]
  },
  {
   "cell_type": "code",
   "execution_count": 3,
   "metadata": {},
   "outputs": [
    {
     "name": "stderr",
     "output_type": "stream",
     "text": [
      "/home/rshn/anaconda3/envs/python2/lib/python2.7/site-packages/pandas/core/computation/check.py:17: UserWarning: The installed version of numexpr 2.2.2 is not supported in pandas and will be not be used\n",
      "The minimum supported version is 2.4.6\n",
      "\n",
      "  ver=ver, min_ver=_MIN_NUMEXPR_VERSION), UserWarning)\n"
     ]
    }
   ],
   "source": [
    "%run utilities.py\n",
    "util = Utilities({}, use_json=False)\n",
    "training_list, testing_list = util.get_datasets()\n",
    "\n",
    "# turning the datasets into pandas DataFrames \n",
    "training_DF, testing_DF = util.create_dataframes(training_list, testing_list)\n",
    "\n",
    "# generate the energy and dance measures \n",
    "training_DF, testing_DF = util.generate_energy_measure(training_DF, testing_DF)\n",
    "training_DF, testing_DF = util.generate_dance_measure(training_DF, testing_DF)\n"
   ]
  },
  {
   "cell_type": "markdown",
   "metadata": {},
   "source": [
    "# Makin Linear Reg Learners!"
   ]
  },
  {
   "cell_type": "code",
   "execution_count": 4,
   "metadata": {},
   "outputs": [],
   "source": [
    "from sklearn.linear_model import LinearRegression\n",
    "from sklearn import metrics \n",
    "# Look at utilities.py for RunAndTestLinearRegModel() "
   ]
  },
  {
   "cell_type": "markdown",
   "metadata": {},
   "source": [
    "### using metadata (familiarity and artist_hott)"
   ]
  },
  {
   "cell_type": "code",
   "execution_count": 5,
   "metadata": {},
   "outputs": [
    {
     "name": "stdout",
     "output_type": "stream",
     "text": [
      "artist_familiarity                       training_error:\t0.0209722605506\n",
      "artist_familiarity                       testing_error:\t\t\t0.0215771284529\n",
      "artist_hotttnesss                        training_error:\t0.0213953658299\n",
      "artist_hotttnesss                        testing_error:\t\t\t0.0222403846493\n",
      "artist_hotttnesss artist_familiarity     training_error:\t0.0203608697767\n",
      "artist_hotttnesss artist_familiarity     testing_error:\t\t\t0.0210909167516\n"
     ]
    }
   ],
   "source": [
    "metadata = ['artist_familiarity', 'artist_hotttnesss', 'artist_hotttnesss artist_familiarity']\n",
    "\n",
    "for item in metadata:\n",
    "    X_cols = item\n",
    "    results = util.RunAndTestLinearRegModel(X_cols, training_DF, testing_DF)\n",
    "#     print results\n",
    "    #  [x][1] = Mean squared error regression loss (bc its the smallest value lol)\n",
    "    mserr_training = results[1][1]\n",
    "    mserr_testing = results[2][1]\n",
    "\n",
    "    print \"{:<40}\".format(item), \"training_error:\\t\", mserr_training\n",
    "    print \"{:<40}\".format(item), \"testing_error:\\t\\t\\t\", mserr_testing\n",
    "    # print \"The min error values were:\", min(results[1]), min(results[2])\n",
    "    # print \"std of hot is:\", results[3]\n",
    "    # -------------------------------------------------\n"
   ]
  },
  {
   "cell_type": "markdown",
   "metadata": {},
   "source": [
    "#### Conclusions?\n",
    "can see that a combination of both features perform better"
   ]
  },
  {
   "cell_type": "markdown",
   "metadata": {},
   "source": [
    "### using acoustic features "
   ]
  },
  {
   "cell_type": "code",
   "execution_count": 6,
   "metadata": {},
   "outputs": [
    {
     "name": "stdout",
     "output_type": "stream",
     "text": [
      "segments_avg                                                 training_error:\t0.0281400841003\n",
      "tatums_avg                                                   training_error:\t0.0278723578916\n",
      "beats_avg                                                    training_error:\t0.0279674090187\n",
      "bars_avg                                                     training_error:\t0.0281332010789\n",
      "sections_avg                                                 training_error:\t0.0280646021003\n",
      "segments_avg tatums_avg beats_avg bars_avg sections_avg      training_error:\t0.027649427754\n",
      "key                                                          training_error:\t0.0281365941353\n",
      "loudness                                                     training_error:\t0.0269978016227\n",
      "duration                                                     training_error:\t0.028140511597\n",
      "tempo                                                        training_error:\t0.0279922208325\n",
      "time_signature                                               training_error:\t0.0280921246675\n",
      "key loudness duration tempo time_signature                   training_error:\t0.0269057158009\n",
      "0.167892339146\n"
     ]
    }
   ],
   "source": [
    "allsegs = 'segments_avg tatums_avg beats_avg bars_avg sections_avg '\n",
    "allrawacous = 'key loudness duration tempo time_signature'\n",
    "\n",
    "raw_acous = []\n",
    "for each in allsegs.split():\n",
    "    raw_acous.append(each)\n",
    "\n",
    "raw_acous.append(allsegs)\n",
    "\n",
    "for each in allrawacous.split():\n",
    "    raw_acous.append(each)   \n",
    "raw_acous.append(allrawacous)\n",
    "\n",
    "for item in raw_acous:\n",
    "    X_cols = item\n",
    "    results = util.RunAndTestLinearRegModel(X_cols, training_DF, testing_DF)\n",
    "\n",
    "    #  [x][1] = Mean squared error regression loss (bc its the smallest value lol)\n",
    "    mserr_training = results[1][1]\n",
    "    mserr_testing = results[2][1]\n",
    "\n",
    "    print \"{:<60}\".format(item), \"training_error:\\t\", mserr_training\n",
    "#     print \"{:<40}\".format(item), \"testing_error:\\t\\t\\t\", mserr_testing\n",
    "    # print \"The min error values were:\", min(results[1]), min(results[2])\n",
    "#     print \"std of hot is:\", results[3]\n",
    "    # -------------------------------------------------\n",
    "print results[3]"
   ]
  },
  {
   "cell_type": "code",
   "execution_count": 7,
   "metadata": {},
   "outputs": [
    {
     "data": {
      "text/plain": [
       "11.910203208423416"
      ]
     },
     "execution_count": 7,
     "metadata": {},
     "output_type": "execute_result"
    }
   ],
   "source": [
    "0.02/0.167923247404*100"
   ]
  },
  {
   "cell_type": "markdown",
   "metadata": {},
   "source": [
    "## Finding the best energy measure"
   ]
  },
  {
   "cell_type": "code",
   "execution_count": 8,
   "metadata": {},
   "outputs": [
    {
     "name": "stdout",
     "output_type": "stream",
     "text": [
      "energy1                                  training_error:\t0.0212063840075\n",
      "energy2                                  training_error:\t0.0220835666\n",
      "energy3                                  training_error:\t0.0215252606148\n",
      "energy4                                  training_error:\t0.023340289915\n",
      "energy1 energy2 energy3 energy4          training_error:\t0.0211614262626\n"
     ]
    }
   ],
   "source": [
    "energylsit = ['energy1', 'energy2', 'energy3', 'energy4', 'energy1 energy2 energy3 energy4']\n",
    "\n",
    "for item in energylsit:\n",
    "    X_cols = item\n",
    "    results = util.RunAndTestLinearRegModel(X_cols, training_DF, testing_DF)\n",
    "\n",
    "    #  [x][1] = Mean squared error regression loss (bc its the smallest value lol)\n",
    "    mserr_training = results[1][1]\n",
    "    mserr_testing = results[2][1]\n",
    "\n",
    "    print \"{:<40}\".format(item), \"training_error:\\t\", mserr_training\n",
    "    # print \"d1 testing_error\\t\", mserr_testing\n",
    "    # print \"The min error values were:\", min(results[1]), min(results[2])\n",
    "    # print \"std of hot is:\", results[3]\n",
    "    # -------------------------------------------------\n",
    "\n",
    "\n"
   ]
  },
  {
   "cell_type": "code",
   "execution_count": 9,
   "metadata": {
    "scrolled": true
   },
   "outputs": [
    {
     "name": "stdout",
     "output_type": "stream",
     "text": [
      "energy1 energy2 energy3 energy4 tatums_avg beats_avg                   training_error:\t0.0211130907734\n",
      "energy1 energy2 energy3 energy4 tempo loudness                         training_error:\t0.0205244765226\n",
      "energy1 energy2 energy3 energy4 tempo loudness tatums_avg beats_avg    training_error:\t0.0205207925284\n"
     ]
    }
   ],
   "source": [
    "# Comparing acoustic results\n",
    "acous_compare = [\"energy1 energy2 energy3 energy4 tatums_avg beats_avg\", \n",
    "                 \"energy1 energy2 energy3 energy4 tempo loudness\", \n",
    "                 \"energy1 energy2 energy3 energy4 tempo loudness tatums_avg beats_avg\"]\n",
    "\n",
    "for item in acous_compare:\n",
    "    X_cols = item\n",
    "    results = util.RunAndTestLinearRegModel(X_cols, training_DF, testing_DF)\n",
    "\n",
    "    #  [x][1] = Mean squared error regression loss (bc its the smallest value lol)\n",
    "    mserr_training = results[1][1]\n",
    "    mserr_testing = results[2][1]\n",
    "\n",
    "    print \"{:<70}\".format(item), \"training_error:\\t\", mserr_training\n",
    "    # print \"d1 testing_error\\t\", mserr_testing\n",
    "    # print \"The min error values were:\", min(results[1]), min(results[2])\n",
    "    # print \"std of hot is:\", results[3]\n",
    "    # -------------------------------------------------\n",
    "\n",
    "\n",
    "\n"
   ]
  },
  {
   "cell_type": "markdown",
   "metadata": {},
   "source": [
    "## lets play with the dance measure now"
   ]
  },
  {
   "cell_type": "code",
   "execution_count": 10,
   "metadata": {},
   "outputs": [
    {
     "name": "stdout",
     "output_type": "stream",
     "text": [
      "dance1                                   training_error:\t0.0229539347096\n",
      "dance2                                   training_error:\t0.0222344508512\n",
      "dance3                                   training_error:\t0.0240572218225\n",
      "dance4                                   training_error:\t0.0241017306605\n",
      "dance1 dance2 dance3 dance4              training_error:\t0.0219152188339\n"
     ]
    }
   ],
   "source": [
    "dancelist = ['dance1', 'dance2', 'dance3', 'dance4', 'dance1 dance2 dance3 dance4']\n",
    "\n",
    "for item in dancelist:\n",
    "    # dance1\n",
    "    X_cols = item\n",
    "    results = util.RunAndTestLinearRegModel(X_cols, training_DF, testing_DF)\n",
    "\n",
    "    #  [x][1] = Mean squared error regression loss (bc its the smallest value lol)\n",
    "    mserr_training = results[1][1]\n",
    "    mserr_testing = results[2][1]\n",
    "\n",
    "    print \"{:<40}\".format(item), \"training_error:\\t\", mserr_training\n",
    "    # print \"d1 testing_error\\t\", mserr_testing\n",
    "    # print \"The min error values were:\", min(results[1]), min(results[2])\n",
    "    # print \"std of hot is:\", results[3]\n",
    "    # -------------------------------------------------\n",
    "\n",
    "\n"
   ]
  },
  {
   "cell_type": "code",
   "execution_count": 11,
   "metadata": {},
   "outputs": [
    {
     "name": "stdout",
     "output_type": "stream",
     "text": [
      "dance1 dance2 dance3 dance4                                            training_error:\t0.0219152188339\n",
      "energy1 energy2 energy3 energy4                                        training_error:\t0.0211614262626\n",
      "dance1 dance2 dance3 dance4 energy1 energy2 energy3 energy4            training_error:\t0.0203509789523\n",
      "artist_familiarity artist_hotttnesss                                   training_error:\t0.0203608697767\n",
      "alleng alldance allmeta                                                training_error:\t0.0200099104971\n"
     ]
    }
   ],
   "source": [
    "dancelist = 'dance1 dance2 dance3 dance4 '\n",
    "energylist = 'energy1 energy2 energy3 energy4 '\n",
    "\n",
    "acousitc =[]\n",
    "acousitc.append(dancelist)\n",
    "acousitc.append(energylist)\n",
    "acousitc.append(dancelist+energylist)\n",
    "acousitc.append(\"artist_familiarity artist_hotttnesss\")\n",
    "acousitc.append(dancelist+energylist+\"artist_familiarity artist_hotttnesss\")\n",
    "\n",
    "for item in acousitc:\n",
    "    # dance1\n",
    "    X_cols = item\n",
    "    results = util.RunAndTestLinearRegModel(X_cols, training_DF, testing_DF)\n",
    "\n",
    "    #  [x][1] = Mean squared error regression loss (bc its the smallest value lol)\n",
    "    mserr_training = results[1][1]\n",
    "    mserr_testing = results[2][1]\n",
    "\n",
    "    if(len(item)>70):\n",
    "        item='alleng alldance allmeta'\n",
    "    \n",
    "    print \"{:<70}\".format(item), \"training_error:\\t\", mserr_training\n",
    "#     print \"{:<70}\".format(item), \"training_error:\\t\\t\", mserr_testing\n",
    "    # print \"The min error values were:\", min(results[1]), min(results[2])\n",
    "    # print \"std of hot is:\", results[3]\n",
    "    # -------------------------------------------------\n",
    "\n",
    "\n"
   ]
  },
  {
   "cell_type": "code",
   "execution_count": 12,
   "metadata": {},
   "outputs": [
    {
     "name": "stdout",
     "output_type": "stream",
     "text": [
      "alleng alldance allmeta                                                training_error:\t0.0200099104971\n",
      "alleng alldance allmeta                                                training_error:\t\t0.0204623449656\n",
      "std of hot is:\t\t0.167892339146\n",
      "12.1877776376\n"
     ]
    }
   ],
   "source": [
    "finalset = [dancelist+energylist+\"artist_familiarity artist_hotttnesss\"]\n",
    "\n",
    "for item in finalset:\n",
    "    X_cols = item\n",
    "    results = util.RunAndTestLinearRegModel(X_cols, training_DF, testing_DF)\n",
    "\n",
    "    #  [x][1] = Mean squared error regression loss (bc its the smallest value lol)\n",
    "    mserr_training = results[1][1]\n",
    "    mserr_testing = results[2][1]\n",
    "\n",
    "    if(len(item)>70):\n",
    "        item='alleng alldance allmeta'\n",
    "    \n",
    "    print \"{:<70}\".format(item), \"training_error:\\t\", mserr_training\n",
    "    print \"{:<70}\".format(item), \"training_error:\\t\\t\", mserr_testing\n",
    "    # print \"The min error values were:\", min(results[1]), min(results[2])\n",
    "    print \"std of hot is:\\t\\t\", results[3]\n",
    "    print mserr_testing/results[3]*100\n",
    "    # -------------------------------------------------\n",
    "\n"
   ]
  },
  {
   "cell_type": "code",
   "execution_count": null,
   "metadata": {},
   "outputs": [],
   "source": []
  },
  {
   "cell_type": "markdown",
   "metadata": {},
   "source": [
    "## THROW IT ALL IN THERE \n"
   ]
  },
  {
   "cell_type": "code",
   "execution_count": 13,
   "metadata": {},
   "outputs": [
    {
     "name": "stdout",
     "output_type": "stream",
     "text": [
      "allfeatures                                                            training_error:\t0.0199577504479\n",
      "allfeatures                                                            training_error:\t0.0204399432671\n"
     ]
    }
   ],
   "source": [
    "all_features = [dancelist+energylist+'tempo loudness tatums_avg beats_avg'+\" artist_familiarity artist_hotttnesss\"]\n",
    "\n",
    "for item in all_features:\n",
    "    X_cols = item\n",
    "    results = util.RunAndTestLinearRegModel(X_cols, training_DF, testing_DF)\n",
    "\n",
    "    #  [x][1] = Mean squared error regression loss (bc its the smallest value lol)\n",
    "    mserr_training = results[1][1]\n",
    "    mserr_testing = results[2][1]\n",
    "\n",
    "    if(len(item)>70):\n",
    "        item=\"allfeatures\"\n",
    "    \n",
    "    print \"{:<70}\".format(item), \"training_error:\\t\", mserr_training\n",
    "    print \"{:<70}\".format(item), \"training_error:\\t\", mserr_testing\n",
    "    # print \"The min error values were:\", min(results[1]), min(results[2])\n",
    "    # print \"std of hot is:\", results[3]\n",
    "    # -------------------------------------------------\n"
   ]
  },
  {
   "cell_type": "code",
   "execution_count": null,
   "metadata": {},
   "outputs": [],
   "source": []
  },
  {
   "cell_type": "code",
   "execution_count": null,
   "metadata": {},
   "outputs": [],
   "source": []
  },
  {
   "cell_type": "code",
   "execution_count": null,
   "metadata": {},
   "outputs": [],
   "source": []
  },
  {
   "cell_type": "code",
   "execution_count": null,
   "metadata": {},
   "outputs": [],
   "source": []
  },
  {
   "cell_type": "code",
   "execution_count": null,
   "metadata": {},
   "outputs": [],
   "source": []
  },
  {
   "cell_type": "code",
   "execution_count": null,
   "metadata": {},
   "outputs": [],
   "source": []
  },
  {
   "cell_type": "markdown",
   "metadata": {},
   "source": [
    "\n",
    "---\n"
   ]
  },
  {
   "cell_type": "markdown",
   "metadata": {},
   "source": [
    "# KNN STUFF"
   ]
  },
  {
   "cell_type": "markdown",
   "metadata": {},
   "source": [
    "### using metadata (familiarity and artist_hott)"
   ]
  },
  {
   "cell_type": "code",
   "execution_count": 24,
   "metadata": {},
   "outputs": [
    {
     "name": "stdout",
     "output_type": "stream",
     "text": [
      "Score for Training: \t0.451219512195\n",
      "Score for Testing: \t0.26493256262\n",
      "artist_familiarity                       training_error:\t\t0.032535096815\n",
      "artist_familiarity                       testing_error:\t\t\t0.0391009597448\n",
      "artist_familiarity                       discrete training_error:\t0.0261328626444\n",
      "artist_familiarity                       discrete testing_error:\t0.0331695568401\n",
      "\n",
      "Score for Training: \t0.451861360719\n",
      "Score for Testing: \t0.288053949904\n",
      "artist_hotttnesss                        training_error:\t\t0.0344070905994\n",
      "artist_hotttnesss                        testing_error:\t\t\t0.0423473824439\n",
      "artist_hotttnesss                        discrete training_error:\t0.0277310654685\n",
      "artist_hotttnesss                        discrete testing_error:\t0.035366088632\n",
      "\n",
      "Score for Training: \t0.44351732991\n",
      "Score for Testing: \t0.274566473988\n",
      "artist_hotttnesss artist_familiarity     training_error:\t\t0.0331897379804\n",
      "artist_hotttnesss artist_familiarity     testing_error:\t\t\t0.0387646084964\n",
      "artist_hotttnesss artist_familiarity     discrete training_error:\t0.0268709884467\n",
      "artist_hotttnesss artist_familiarity     discrete testing_error:\t0.032591522158\n",
      "\n"
     ]
    }
   ],
   "source": [
    "metadata = ['artist_familiarity', 'artist_hotttnesss', 'artist_hotttnesss artist_familiarity']\n",
    "\n",
    "for item in metadata:\n",
    "    X_cols = item\n",
    "    results = util.RunAndTestKNNModel(X_cols, training_DF, testing_DF, 7)\n",
    "\n",
    "    #  [x][1] = Mean squared error regression loss (bc its the smallest value lol)\n",
    "    mserr_training = results[1][1]\n",
    "    mserr_testing = results[2][1]\n",
    "    discrete_mserr_training = results[4][1]\n",
    "    discrete_mserr_testing = results[5][1]\n",
    "\n",
    "    print \"{:<40}\".format(item), \"training_error:\\t\\t\", mserr_training\n",
    "    print \"{:<40}\".format(item), \"testing_error:\\t\\t\\t\", mserr_testing\n",
    "    print \"{:<40}\".format(item), \"discrete training_error:\\t\", discrete_mserr_training\n",
    "    print \"{:<40}\".format(item), \"discrete testing_error:\\t\", discrete_mserr_testing\n",
    "    print \"\"\n",
    "    # print \"The min error values were:\", min(results[1]), min(results[2])\n",
    "    # print \"std of hot is:\", results[3]\n",
    "    # -------------------------------------------------"
   ]
  },
  {
   "cell_type": "markdown",
   "metadata": {},
   "source": [
    "### using acoustic features "
   ]
  },
  {
   "cell_type": "code",
   "execution_count": 15,
   "metadata": {},
   "outputs": [
    {
     "name": "stdout",
     "output_type": "stream",
     "text": [
      "Score for Training: \t0.490051347882\n",
      "Score for Testing: \t0.209055876686\n",
      "segments_avg                                                 training_error:\t\t0.053716573654\n",
      "segments_avg                                                 testing_error:\t\t0.0659548363973\n",
      "segments_avg                                                 discrete training_error:\t0.0415982028241\n",
      "segments_avg                                                 discrete testing_error:\t0.0542003853565\n",
      "\n",
      "Score for Training: \t0.481707317073\n",
      "Score for Testing: \t0.214836223507\n",
      "tatums_avg                                                   training_error:\t\t0.0524520835091\n",
      "tatums_avg                                                   testing_error:\t\t0.0673719584393\n",
      "tatums_avg                                                   discrete training_error:\t0.0400770218228\n",
      "tatums_avg                                                   discrete testing_error:\t0.0550674373796\n",
      "\n",
      "Score for Training: \t0.486842105263\n",
      "Score for Testing: \t0.208092485549\n",
      "beats_avg                                                    training_error:\t\t0.0532750460444\n",
      "beats_avg                                                    testing_error:\t\t0.0680931643511\n",
      "beats_avg                                                    discrete training_error:\t0.040917843389\n",
      "beats_avg                                                    discrete testing_error:\t0.0555684007707\n",
      "\n",
      "Score for Training: \t0.488767650834\n",
      "Score for Testing: \t0.208092485549\n",
      "bars_avg                                                     training_error:\t\t0.0528191835463\n",
      "bars_avg                                                     testing_error:\t\t0.0680478634233\n",
      "bars_avg                                                     discrete training_error:\t0.040580872914\n",
      "bars_avg                                                     discrete testing_error:\t0.0553949903661\n",
      "\n",
      "Score for Training: \t0.492297817715\n",
      "Score for Testing: \t0.200385356455\n",
      "sections_avg                                                 training_error:\t\t0.0512798907849\n",
      "sections_avg                                                 testing_error:\t\t0.0680381234905\n",
      "sections_avg                                                 discrete training_error:\t0.0391784338896\n",
      "sections_avg                                                 discrete testing_error:\t0.0565895953757\n",
      "\n",
      "Score for Training: \t0.482349165597\n",
      "Score for Testing: \t0.199421965318\n",
      "segments_avg tatums_avg beats_avg bars_avg sections_avg      training_error:\t\t0.0529203869251\n",
      "segments_avg tatums_avg beats_avg bars_avg sections_avg      testing_error:\t\t0.0672885825931\n",
      "segments_avg tatums_avg beats_avg bars_avg sections_avg      discrete training_error:\t0.0406129653402\n",
      "segments_avg tatums_avg beats_avg bars_avg sections_avg      discrete testing_error:\t0.0549518304432\n",
      "\n",
      "Score for Training: \t0.205712451861\n",
      "Score for Testing: \t0.21387283237\n",
      "key                                                          training_error:\t\t0.079040663444\n",
      "key                                                          testing_error:\t\t0.0779486484765\n",
      "key                                                          discrete training_error:\t0.0615179717587\n",
      "key                                                          discrete testing_error:\t0.0606840077071\n",
      "\n",
      "Score for Training: \t0.498395378691\n",
      "Score for Testing: \t0.199421965318\n",
      "loudness                                                     training_error:\t\t0.0500617150593\n",
      "loudness                                                     testing_error:\t\t0.0656610452647\n",
      "loudness                                                     discrete training_error:\t0.0381996148909\n",
      "loudness                                                     discrete testing_error:\t0.0546242774566\n",
      "\n",
      "Score for Training: \t0.487483953787\n",
      "Score for Testing: \t0.190751445087\n",
      "duration                                                     training_error:\t\t0.0530218282203\n",
      "duration                                                     testing_error:\t\t0.0688634603549\n",
      "duration                                                     discrete training_error:\t0.0404075738126\n",
      "duration                                                     discrete testing_error:\t0.0565606936416\n",
      "\n",
      "Score for Training: \t0.493581514763\n",
      "Score for Testing: \t0.186897880539\n",
      "tempo                                                        training_error:\t\t0.0513097946834\n",
      "tempo                                                        testing_error:\t\t0.0677674517925\n",
      "tempo                                                        discrete training_error:\t0.0393709884467\n",
      "tempo                                                        discrete testing_error:\t0.0558670520231\n",
      "\n",
      "Score for Training: \t0.21405648267\n",
      "Score for Testing: \t0.222543352601\n",
      "time_signature                                               training_error:\t\t0.089433673877\n",
      "time_signature                                               testing_error:\t\t0.0883014917674\n",
      "time_signature                                               discrete training_error:\t0.0683664955071\n",
      "time_signature                                               discrete testing_error:\t0.0675144508671\n",
      "\n",
      "Score for Training: \t0.497753530167\n",
      "Score for Testing: \t0.211946050096\n",
      "key loudness duration tempo time_signature                   training_error:\t\t0.0499928556678\n",
      "key loudness duration tempo time_signature                   testing_error:\t\t0.0663920658097\n",
      "key loudness duration tempo time_signature                   discrete training_error:\t0.0382188703466\n",
      "key loudness duration tempo time_signature                   discrete testing_error:\t0.0546050096339\n",
      "\n",
      "0.167892339146\n"
     ]
    }
   ],
   "source": [
    "allsegs = 'segments_avg tatums_avg beats_avg bars_avg sections_avg '\n",
    "allrawacous = 'key loudness duration tempo time_signature'\n",
    "\n",
    "raw_acous = []\n",
    "for each in allsegs.split():\n",
    "    raw_acous.append(each)\n",
    "\n",
    "raw_acous.append(allsegs)\n",
    "\n",
    "for each in allrawacous.split():\n",
    "    raw_acous.append(each)   \n",
    "raw_acous.append(allrawacous)\n",
    "\n",
    "for item in raw_acous:\n",
    "    X_cols = item\n",
    "    results = util.RunAndTestKNNModel(X_cols, training_DF, testing_DF)\n",
    "\n",
    "    #  [x][1] = Mean squared error regression loss (bc its the smallest value lol)\n",
    "    mserr_training = results[1][1]\n",
    "    mserr_testing = results[2][1]\n",
    "    discrete_mserr_training = results[4][1]\n",
    "    discrete_mserr_testing = results[5][1]\n",
    "\n",
    "    print \"{:<60}\".format(item), \"training_error:\\t\\t\", mserr_training\n",
    "    print \"{:<60}\".format(item), \"testing_error:\\t\\t\", mserr_testing\n",
    "    print \"{:<60}\".format(item), \"discrete training_error:\\t\", discrete_mserr_training\n",
    "    print \"{:<60}\".format(item), \"discrete testing_error:\\t\", discrete_mserr_testing\n",
    "    print \"\"\n",
    "    # print \"The min error values were:\", min(results[1]), min(results[2])\n",
    "#     print \"std of hot is:\", results[3]\n",
    "    # -------------------------------------------------\n",
    "print results[3]"
   ]
  },
  {
   "cell_type": "markdown",
   "metadata": {},
   "source": [
    "### Finding the best energy measure"
   ]
  },
  {
   "cell_type": "code",
   "execution_count": 16,
   "metadata": {},
   "outputs": [
    {
     "name": "stdout",
     "output_type": "stream",
     "text": [
      "Score for Training: \t0.534659820282\n",
      "Score for Testing: \t0.215799614644\n",
      "energy1                                  training_error:\t\t0.0383636590119\n",
      "energy1                                  testing_error:\t\t\t0.0548165902725\n",
      "energy1                                  discrete training_error:\t0.0285911424904\n",
      "energy1                                  discrete testing_error:\t0.0440269749518\n",
      "\n",
      "Score for Training: \t0.509627727856\n",
      "Score for Testing: \t0.215799614644\n",
      "energy2                                  training_error:\t\t0.0413729864433\n",
      "energy2                                  testing_error:\t\t\t0.055978689906\n",
      "energy2                                  discrete training_error:\t0.0307349165597\n",
      "energy2                                  discrete testing_error:\t0.0451252408478\n",
      "\n",
      "Score for Training: \t0.51026957638\n",
      "Score for Testing: \t0.19267822736\n",
      "energy3                                  training_error:\t\t0.0415272816446\n",
      "energy3                                  testing_error:\t\t\t0.0538887723157\n",
      "energy3                                  discrete training_error:\t0.0311392811297\n",
      "energy3                                  discrete testing_error:\t0.0428998073218\n",
      "\n",
      "Score for Training: \t0.517008985879\n",
      "Score for Testing: \t0.203275529865\n",
      "energy4                                  training_error:\t\t0.0434596819971\n",
      "energy4                                  testing_error:\t\t\t0.0593457594614\n",
      "energy4                                  discrete training_error:\t0.0326315789474\n",
      "energy4                                  discrete testing_error:\t0.0486416184971\n",
      "\n",
      "Score for Training: \t0.534980744544\n",
      "Score for Testing: \t0.215799614644\n",
      "energy1 energy2 energy3 energy4          training_error:\t\t0.0389512650171\n",
      "energy1 energy2 energy3 energy4          testing_error:\t\t\t0.0527535024261\n",
      "energy1 energy2 energy3 energy4          discrete training_error:\t0.0289345314506\n",
      "energy1 energy2 energy3 energy4          discrete testing_error:\t0.0421098265896\n",
      "\n"
     ]
    }
   ],
   "source": [
    "energylsit = ['energy1', 'energy2', 'energy3', 'energy4', 'energy1 energy2 energy3 energy4']\n",
    "\n",
    "for item in energylsit:\n",
    "    X_cols = item\n",
    "    results = util.RunAndTestKNNModel(X_cols, training_DF, testing_DF)\n",
    "\n",
    "    #  [x][1] = Mean squared error regression loss (bc its the smallest value lol)\n",
    "    mserr_training = results[1][1]\n",
    "    mserr_testing = results[2][1]\n",
    "    discrete_mserr_training = results[4][1]\n",
    "    discrete_mserr_testing = results[5][1]\n",
    "\n",
    "    print \"{:<40}\".format(item), \"training_error:\\t\\t\", mserr_training\n",
    "    print \"{:<40}\".format(item), \"testing_error:\\t\\t\\t\", mserr_testing\n",
    "    print \"{:<40}\".format(item), \"discrete training_error:\\t\", discrete_mserr_training\n",
    "    print \"{:<40}\".format(item), \"discrete testing_error:\\t\", discrete_mserr_testing\n",
    "    print \"\"\n",
    "#     print \"d1 testing_error\\t\", mserr_testing\n",
    "    # print \"The min error values were:\", min(results[1]), min(results[2])\n",
    "    # print \"std of hot is:\", results[3]\n",
    "    # -------------------------------------------------\n",
    "\n",
    "\n"
   ]
  },
  {
   "cell_type": "code",
   "execution_count": 17,
   "metadata": {},
   "outputs": [
    {
     "name": "stdout",
     "output_type": "stream",
     "text": [
      "Score for Training: \t0.54107830552\n",
      "Score for Testing: \t0.220616570328\n",
      "energy1 energy2 energy3 energy4 tatums_avg beats_avg                   training_error:\t\t0.038252880177\n",
      "energy1 energy2 energy3 energy4 tatums_avg beats_avg                   testing_error:\t\t0.0545856462781\n",
      "energy1 energy2 energy3 energy4 tatums_avg beats_avg                   discrete training_error:\t0.0282862644416\n",
      "energy1 energy2 energy3 energy4 tatums_avg beats_avg                   discrete testing_error:\t0.0441136801541\n",
      "\n",
      "Score for Training: \t0.508664955071\n",
      "Score for Testing: \t0.208092485549\n",
      "energy1 energy2 energy3 energy4 tempo loudness                         training_error:\t\t0.0473793536626\n",
      "energy1 energy2 energy3 energy4 tempo loudness                         testing_error:\t\t0.0606222535455\n",
      "energy1 energy2 energy3 energy4 tempo loudness                         discrete training_error:\t0.0361071887035\n",
      "energy1 energy2 energy3 energy4 tempo loudness                         discrete testing_error:\t0.0497398843931\n",
      "\n",
      "Score for Training: \t0.509627727856\n",
      "Score for Testing: \t0.207129094412\n",
      "energy1 energy2 energy3 energy4 tempo loudness tatums_avg beats_avg    training_error:\t\t0.0472752070104\n",
      "energy1 energy2 energy3 energy4 tempo loudness tatums_avg beats_avg    testing_error:\t\t0.0607573290942\n",
      "energy1 energy2 energy3 energy4 tempo loudness tatums_avg beats_avg    discrete training_error:\t0.0360237483954\n",
      "energy1 energy2 energy3 energy4 tempo loudness tatums_avg beats_avg    discrete testing_error:\t0.0498458574181\n",
      "\n"
     ]
    }
   ],
   "source": [
    "# Comparing acoustic results\n",
    "acous_compare = [\"energy1 energy2 energy3 energy4 tatums_avg beats_avg\", \n",
    "                 \"energy1 energy2 energy3 energy4 tempo loudness\", \n",
    "                 \"energy1 energy2 energy3 energy4 tempo loudness tatums_avg beats_avg\"]\n",
    "\n",
    "for item in acous_compare:\n",
    "    X_cols = item\n",
    "    results = util.RunAndTestKNNModel(X_cols, training_DF, testing_DF)\n",
    "\n",
    "    #  [x][1] = Mean squared error regression loss (bc its the smallest value lol)\n",
    "    mserr_training = results[1][1]\n",
    "    mserr_testing = results[2][1]\n",
    "    discrete_mserr_training = results[4][1]\n",
    "    discrete_mserr_testing = results[5][1]\n",
    "\n",
    "    print \"{:<70}\".format(item), \"training_error:\\t\\t\", mserr_training\n",
    "    print \"{:<70}\".format(item), \"testing_error:\\t\\t\", mserr_testing\n",
    "    print \"{:<70}\".format(item), \"discrete training_error:\\t\", discrete_mserr_training\n",
    "    print \"{:<70}\".format(item), \"discrete testing_error:\\t\", discrete_mserr_testing\n",
    "    print \"\"\n",
    "#     print \"d1 testing_error\\t\", mserr_testing\n",
    "    # print \"The min error values were:\", min(results[1]), min(results[2])\n",
    "    # print \"std of hot is:\", results[3]\n",
    "    # -------------------------------------------------\n",
    "\n",
    "\n"
   ]
  },
  {
   "cell_type": "markdown",
   "metadata": {},
   "source": [
    "### lets play with the dance measure now"
   ]
  },
  {
   "cell_type": "code",
   "execution_count": 18,
   "metadata": {},
   "outputs": [
    {
     "name": "stdout",
     "output_type": "stream",
     "text": [
      "Score for Training: \t0.527278562259\n",
      "Score for Testing: \t0.234104046243\n",
      "dance1                                   training_error:\t\t0.0422484436616\n",
      "dance1                                   testing_error:\t\t\t0.0596307554549\n",
      "dance1                                   discrete training_error:\t0.0317297817715\n",
      "dance1                                   discrete testing_error:\t0.0487668593449\n",
      "\n",
      "Score for Training: \t0.515725288832\n",
      "Score for Testing: \t0.227360308285\n",
      "dance2                                   training_error:\t\t0.0424797707184\n",
      "dance2                                   testing_error:\t\t\t0.0574139028251\n",
      "dance2                                   discrete training_error:\t0.0318934531451\n",
      "dance2                                   discrete testing_error:\t0.0461078998073\n",
      "\n",
      "Score for Training: \t0.5\n",
      "Score for Testing: \t0.221579961464\n",
      "dance3                                   training_error:\t\t0.0454673563543\n",
      "dance3                                   testing_error:\t\t\t0.0603035476369\n",
      "dance3                                   discrete training_error:\t0.0341174582798\n",
      "dance3                                   discrete testing_error:\t0.0490173410405\n",
      "\n",
      "Score for Training: \t0.500962772786\n",
      "Score for Testing: \t0.208092485549\n",
      "dance4                                   training_error:\t\t0.0463823789593\n",
      "dance4                                   testing_error:\t\t\t0.060301035991\n",
      "dance4                                   discrete training_error:\t0.0351957637997\n",
      "dance4                                   discrete testing_error:\t0.0481502890173\n",
      "\n",
      "Score for Training: \t0.521822849807\n",
      "Score for Testing: \t0.23506743738\n",
      "dance1 dance2 dance3 dance4              training_error:\t\t0.0406380832174\n",
      "dance1 dance2 dance3 dance4              testing_error:\t\t\t0.0542938640762\n",
      "dance1 dance2 dance3 dance4              discrete training_error:\t0.0305231065469\n",
      "dance1 dance2 dance3 dance4              discrete testing_error:\t0.0439884393064\n",
      "\n"
     ]
    }
   ],
   "source": [
    "dancelist = ['dance1', 'dance2', 'dance3', 'dance4', 'dance1 dance2 dance3 dance4']\n",
    "\n",
    "for item in dancelist:\n",
    "    # dance1\n",
    "    X_cols = item\n",
    "    results = util.RunAndTestKNNModel(X_cols, training_DF, testing_DF)\n",
    "\n",
    "    #  [x][1] = Mean squared error regression loss (bc its the smallest value lol)\n",
    "    mserr_training = results[1][1]\n",
    "    mserr_testing = results[2][1]\n",
    "    discrete_mserr_training = results[4][1]\n",
    "    discrete_mserr_testing = results[5][1]\n",
    "\n",
    "    print \"{:<40}\".format(item), \"training_error:\\t\\t\", mserr_training\n",
    "    print \"{:<40}\".format(item), \"testing_error:\\t\\t\\t\", mserr_testing\n",
    "    print \"{:<40}\".format(item), \"discrete training_error:\\t\", discrete_mserr_training\n",
    "    print \"{:<40}\".format(item), \"discrete testing_error:\\t\", discrete_mserr_testing\n",
    "    print \"\"\n",
    "    # print \"d1 testing_error\\t\", mserr_testing\n",
    "    # print \"The min error values were:\", min(results[1]), min(results[2])\n",
    "    # print \"std of hot is:\", results[3]\n",
    "    # -------------------------------------------------\n",
    "\n"
   ]
  },
  {
   "cell_type": "code",
   "execution_count": 19,
   "metadata": {},
   "outputs": [
    {
     "name": "stdout",
     "output_type": "stream",
     "text": [
      "Score for Training: \t0.521822849807\n",
      "Score for Testing: \t0.23506743738\n",
      "dance1 dance2 dance3 dance4                                            training_error:\t\t0.0406380832174\n",
      "dance1 dance2 dance3 dance4                                            testing_error:\t\t0.0542938640762\n",
      "dance1 dance2 dance3 dance4                                            discrete training_error:\t0.0305231065469\n",
      "dance1 dance2 dance3 dance4                                            discrete testing_error:\t0.0439884393064\n",
      "\n",
      "Score for Training: \t0.534980744544\n",
      "Score for Testing: \t0.215799614644\n",
      "energy1 energy2 energy3 energy4                                        training_error:\t\t0.0389512650171\n",
      "energy1 energy2 energy3 energy4                                        testing_error:\t\t0.0527535024261\n",
      "energy1 energy2 energy3 energy4                                        discrete training_error:\t0.0289345314506\n",
      "energy1 energy2 energy3 energy4                                        discrete testing_error:\t0.0421098265896\n",
      "\n",
      "Score for Training: \t0.523748395379\n",
      "Score for Testing: \t0.236030828516\n",
      "dance1 dance2 dance3 dance4 energy1 energy2 energy3 energy4            training_error:\t\t0.040252544863\n",
      "dance1 dance2 dance3 dance4 energy1 energy2 energy3 energy4            testing_error:\t\t0.0519242248056\n",
      "dance1 dance2 dance3 dance4 energy1 energy2 energy3 energy4            discrete training_error:\t0.0300770218228\n",
      "dance1 dance2 dance3 dance4 energy1 energy2 energy3 energy4            discrete testing_error:\t0.0414547206166\n",
      "\n",
      "Score for Training: \t0.551989730424\n",
      "Score for Testing: \t0.273603082852\n",
      "artist_familiarity artist_hotttnesss                                   training_error:\t\t0.0316835959615\n",
      "artist_familiarity artist_hotttnesss                                   testing_error:\t\t0.0447854321573\n",
      "artist_familiarity artist_hotttnesss                                   discrete training_error:\t0.0235173299101\n",
      "artist_familiarity artist_hotttnesss                                   discrete testing_error:\t0.0363391136802\n",
      "\n",
      "Score for Training: \t0.538831835687\n",
      "Score for Testing: \t0.249518304432\n",
      "alleng alldance allmeta                                                training_error:\t\t0.0379710864099\n",
      "alleng alldance allmeta                                                testing_error:\t\t0.0518358022649\n",
      "alleng alldance allmeta                                                discrete training_error:\t0.0282798459564\n",
      "alleng alldance allmeta                                                discrete testing_error:\t0.0410404624277\n",
      "\n"
     ]
    }
   ],
   "source": [
    "dancelist = 'dance1 dance2 dance3 dance4 '\n",
    "energylist = 'energy1 energy2 energy3 energy4 '\n",
    "\n",
    "acousitc =[]\n",
    "acousitc.append(dancelist)\n",
    "acousitc.append(energylist)\n",
    "acousitc.append(dancelist+energylist)\n",
    "acousitc.append(\"artist_familiarity artist_hotttnesss\")\n",
    "acousitc.append(dancelist+energylist+\"artist_familiarity artist_hotttnesss\")\n",
    "\n",
    "for item in acousitc:\n",
    "    # dance1\n",
    "    X_cols = item\n",
    "    results = util.RunAndTestKNNModel(X_cols, training_DF, testing_DF)\n",
    "\n",
    "    #  [x][1] = Mean squared error regression loss (bc its the smallest value lol)\n",
    "    mserr_training = results[1][1]\n",
    "    mserr_testing = results[2][1]\n",
    "    discrete_mserr_training = results[4][1]\n",
    "    discrete_mserr_testing = results[5][1]\n",
    "\n",
    "    if(len(item)>70):\n",
    "        item='alleng alldance allmeta'\n",
    "    \n",
    "    print \"{:<70}\".format(item), \"training_error:\\t\\t\", mserr_training\n",
    "    print \"{:<70}\".format(item), \"testing_error:\\t\\t\", mserr_testing\n",
    "    print \"{:<70}\".format(item), \"discrete training_error:\\t\", discrete_mserr_training\n",
    "    print \"{:<70}\".format(item), \"discrete testing_error:\\t\", discrete_mserr_testing\n",
    "    print \"\"\n",
    "    # print \"The min error values were:\", min(results[1]), min(results[2])\n",
    "    # print \"std of hot is:\", results[3]\n",
    "    # -------------------------------------------------\n",
    "\n",
    "\n"
   ]
  },
  {
   "cell_type": "code",
   "execution_count": 20,
   "metadata": {},
   "outputs": [
    {
     "name": "stdout",
     "output_type": "stream",
     "text": [
      "Score for Training: \t0.538831835687\n",
      "Score for Testing: \t0.249518304432\n",
      "alleng alldance allmeta                                                training_error:\t\t0.0379710864099\n",
      "alleng alldance allmeta                                                testing_error:\t\t0.0518358022649\n",
      "alleng alldance allmeta                                                discrete training_error:\t0.0282798459564\n",
      "alleng alldance allmeta                                                discrete testing_error:\t0.0410404624277\n",
      "\n",
      "std of hot is:\t\t0.167892339146\n"
     ]
    }
   ],
   "source": [
    "finalset = [dancelist+energylist+\"artist_familiarity artist_hotttnesss\"]\n",
    "\n",
    "for item in finalset:\n",
    "    X_cols = item\n",
    "    results = util.RunAndTestKNNModel(X_cols, training_DF, testing_DF)\n",
    "\n",
    "    #  [x][1] = Mean squared error regression loss (bc its the smallest value lol)\n",
    "    mserr_training = results[1][1]\n",
    "    mserr_testing = results[2][1]\n",
    "    discrete_mserr_training = results[4][1]\n",
    "    discrete_mserr_testing = results[5][1]\n",
    "\n",
    "    if(len(item)>70):\n",
    "        item='alleng alldance allmeta'\n",
    "\n",
    "    print \"{:<70}\".format(item), \"training_error:\\t\\t\", mserr_training\n",
    "    print \"{:<70}\".format(item), \"testing_error:\\t\\t\", mserr_testing\n",
    "    print \"{:<70}\".format(item), \"discrete training_error:\\t\", discrete_mserr_training\n",
    "    print \"{:<70}\".format(item), \"discrete testing_error:\\t\", discrete_mserr_testing\n",
    "    print \"\"\n",
    "    # print \"The min error values were:\", min(results[1]), min(results[2])\n",
    "    print \"std of hot is:\\t\\t\", results[3]\n",
    "#     print mserr_testing/results[3]*100\n",
    "    # -------------------------------------------------\n",
    "\n"
   ]
  },
  {
   "cell_type": "markdown",
   "metadata": {},
   "source": [
    "### THROW IT ALL IN THERE "
   ]
  },
  {
   "cell_type": "code",
   "execution_count": 21,
   "metadata": {},
   "outputs": [
    {
     "name": "stdout",
     "output_type": "stream",
     "text": [
      "Score for Training: \t0.51026957638\n",
      "Score for Testing: \t0.207129094412\n",
      "allfeatures                                                            training_error:\t\t0.042592338119\n",
      "allfeatures                                                            testing_error:\t\t0.0588998550877\n",
      "allfeatures                                                            discrete training_error:\t0.0316816431322\n",
      "allfeatures                                                            discrete testing_error:\t0.0476396917148\n"
     ]
    }
   ],
   "source": [
    "all_features = [dancelist+energylist+'tempo loudness tatums_avg beats_avg'+\" artist_familiarity artist_hotttnesss\"]\n",
    "\n",
    "for item in all_features:\n",
    "    X_cols = item\n",
    "#     results = KNN(X_cols, training_DF, testing_DF)\n",
    "    results = util.RunAndTestKNNModel(X_cols, training_DF, testing_DF)\n",
    "\n",
    "    #  [x][1] = Mean squared error regression loss (bc its the smallest value lol)\n",
    "    mserr_training = results[1][1]\n",
    "    mserr_testing = results[2][1]\n",
    "    discrete_mserr_training = results[4][1]\n",
    "    discrete_mserr_testing = results[5][1]\n",
    "\n",
    "    if(len(item)>70):\n",
    "        item=\"allfeatures\"\n",
    "    \n",
    "    print \"{:<70}\".format(item), \"training_error:\\t\\t\", mserr_training\n",
    "    print \"{:<70}\".format(item), \"testing_error:\\t\\t\", mserr_testing\n",
    "    print \"{:<70}\".format(item), \"discrete training_error:\\t\", discrete_mserr_training\n",
    "    print \"{:<70}\".format(item), \"discrete testing_error:\\t\", discrete_mserr_testing\n",
    "    # print \"The min error values were:\", min(results[1]), min(results[2])\n",
    "    # print \"std of hot is:\", results[3]\n",
    "    # -------------------------------------------------\n"
   ]
  },
  {
   "cell_type": "code",
   "execution_count": null,
   "metadata": {},
   "outputs": [],
   "source": []
  },
  {
   "cell_type": "code",
   "execution_count": null,
   "metadata": {},
   "outputs": [],
   "source": []
  }
 ],
 "metadata": {
  "kernelspec": {
   "display_name": "Python 2",
   "language": "python",
   "name": "python2"
  },
  "language_info": {
   "codemirror_mode": {
    "name": "ipython",
    "version": 2
   },
   "file_extension": ".py",
   "mimetype": "text/x-python",
   "name": "python",
   "nbconvert_exporter": "python",
   "pygments_lexer": "ipython2",
   "version": "2.7.14"
  }
 },
 "nbformat": 4,
 "nbformat_minor": 2
}
