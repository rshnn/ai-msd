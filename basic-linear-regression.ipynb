{
 "cells": [
  {
   "cell_type": "markdown",
   "metadata": {},
   "source": [
    "# Basic Linear Regression Model"
   ]
  },
  {
   "cell_type": "code",
   "execution_count": 63,
   "metadata": {},
   "outputs": [
    {
     "name": "stdout",
     "output_type": "stream",
     "text": [
      "This jupyter notebook was executed with:\n",
      "2.7.14 |Anaconda custom (64-bit)| (default, Oct 16 2017, 17:29:19) \n",
      "[GCC 7.2.0]\n"
     ]
    }
   ],
   "source": [
    "import sys\n",
    "ver_info = sys.version\n",
    "print(\"This jupyter notebook was executed with:\\n{0}\".format(ver_info));\n"
   ]
  },
  {
   "cell_type": "markdown",
   "metadata": {},
   "source": [
    "## Imports"
   ]
  },
  {
   "cell_type": "code",
   "execution_count": 64,
   "metadata": {},
   "outputs": [],
   "source": [
    "import numpy as np\n",
    "import matplotlib as mpl\n",
    "import matplotlib.pyplot as plt\n",
    "import pandas as pd\n",
    "from scipy import stats, integrate\n",
    "import seaborn as sns\n",
    "\n",
    "import pprint\n",
    "p = pprint.PrettyPrinter(indent=4)\n",
    "\n",
    "import config as config\n",
    "\n",
    "%matplotlib inline\n"
   ]
  },
  {
   "cell_type": "markdown",
   "metadata": {},
   "source": [
    "## Importing utilities object\n",
    "+ imports dataset as lists (a training and test set)\n"
   ]
  },
  {
   "cell_type": "code",
   "execution_count": 65,
   "metadata": {
    "collapsed": true
   },
   "outputs": [],
   "source": [
    "%run utilities.py\n",
    "util = Utilities({}, use_json=False)\n",
    "training_list, testing_list = util.get_datasets()\n",
    "\n",
    "# turning the datasets into pandas DataFrames \n",
    "training_DF, testing_DF = util.create_dataframes(training_list, testing_list)\n",
    "\n",
    "# generate the energy and dance measures \n",
    "training_DF, testing_DF = util.generate_energy_measure(training_DF, testing_DF)\n",
    "training_DF, testing_DF = util.generate_dance_measure(training_DF, testing_DF)\n"
   ]
  },
  {
   "cell_type": "markdown",
   "metadata": {},
   "source": [
    "# Makin Linear Reg Learners!"
   ]
  },
  {
   "cell_type": "code",
   "execution_count": 66,
   "metadata": {
    "collapsed": true
   },
   "outputs": [],
   "source": [
    "from sklearn.linear_model import LinearRegression\n",
    "from sklearn import metrics \n",
    "# Look at utilities.py for RunAndTestLinearRegModel() "
   ]
  },
  {
   "cell_type": "markdown",
   "metadata": {},
   "source": [
    "### using metadata (familiarity and artist_hott)"
   ]
  },
  {
   "cell_type": "code",
   "execution_count": 68,
   "metadata": {},
   "outputs": [
    {
     "name": "stdout",
     "output_type": "stream",
     "text": [
<<<<<<< HEAD
      "Score for Training: \t0.255132975947\n",
      "Score for Testing: \t0.233162186137\n",
      "artist_familiarity                       training_error:\t0.0211373821493\n",
      "artist_familiarity                       testing_error:\t\t\t0.0211282853248\n",
      "Score for Training: \t0.235028860605\n",
      "Score for Testing: \t0.224139207112\n",
      "artist_hotttnesss                        training_error:\t0.0217078844739\n",
      "artist_hotttnesss                        testing_error:\t\t\t0.0213768907951\n",
      "Score for Training: \t0.274710728163\n",
      "Score for Testing: \t0.256581996887\n",
      "artist_hotttnesss artist_familiarity     training_error:\t0.0205818166365\n",
      "artist_hotttnesss artist_familiarity     testing_error:\t\t\t0.0204830114027\n"
=======
      "artist_familiarity                       training_error:\t0.0210615568338\n",
      "artist_familiarity                       testing_error:\t\t\t0.0213577107761\n",
      "artist_hotttnesss                        training_error:\t0.0213931859342\n",
      "artist_hotttnesss                        testing_error:\t\t\t0.022303188341\n",
      "artist_hotttnesss artist_familiarity     training_error:\t0.020440738042\n",
      "artist_hotttnesss artist_familiarity     testing_error:\t\t\t0.0209070104041\n"
>>>>>>> c5e12c61e1a6532873f6fbbb519bb63fd39d4292
     ]
    }
   ],
   "source": [
    "metadata = ['artist_familiarity', 'artist_hotttnesss', 'artist_hotttnesss artist_familiarity']\n",
    "\n",
    "for item in metadata:\n",
    "    X_cols = item\n",
    "    results = util.RunAndTestLinearRegModel(X_cols, training_DF, testing_DF)\n",
    "#     print results\n",
    "    #  [x][1] = Mean squared error regression loss (bc its the smallest value lol)\n",
    "    mserr_training = results[1][1]\n",
    "    mserr_testing = results[2][1]\n",
    "\n",
    "    print \"{:<40}\".format(item), \"training_error:\\t\", mserr_training\n",
    "    print \"{:<40}\".format(item), \"testing_error:\\t\\t\\t\", mserr_testing\n",
    "    # print \"The min error values were:\", min(results[1]), min(results[2])\n",
    "    # print \"std of hot is:\", results[3]\n",
    "    # -------------------------------------------------\n"
   ]
  },
  {
   "cell_type": "markdown",
   "metadata": {},
   "source": [
    "#### Conclusions?\n",
    "can see that a combination of both features perform better"
   ]
  },
  {
   "cell_type": "markdown",
   "metadata": {},
   "source": [
    "### using acoustic features "
   ]
  },
  {
   "cell_type": "code",
<<<<<<< HEAD
   "execution_count": 69,
   "metadata": {},
=======
   "execution_count": 6,
   "metadata": {
    "scrolled": true
   },
>>>>>>> c5e12c61e1a6532873f6fbbb519bb63fd39d4292
   "outputs": [
    {
     "name": "stdout",
     "output_type": "stream",
     "text": [
<<<<<<< HEAD
      "Score for Training: \t0.000376206195784\n",
      "Score for Testing: \t-0.00416762999149\n",
      "segments_avg                                                 training_error:\t0.0283667143972\n",
      "Score for Training: \t0.0108669067454\n",
      "Score for Testing: \t-0.00282267131821\n",
      "tatums_avg                                                   training_error:\t0.0280690156948\n",
      "Score for Training: \t0.00647814577224\n",
      "Score for Testing: \t-0.00118230171523\n",
      "beats_avg                                                    training_error:\t0.0281935572772\n",
      "Score for Training: \t0.00036115229939\n",
      "Score for Testing: \t-0.0044234567907\n",
      "bars_avg                                                     training_error:\t0.0283671415875\n",
      "Score for Training: \t0.0011973249511\n",
      "Score for Testing: \t-0.00136225473101\n",
      "sections_avg                                                 training_error:\t0.0283434131899\n",
      "Score for Training: \t0.0189030386353\n",
      "Score for Testing: \t0.00565327383947\n",
      "segments_avg tatums_avg beats_avg bars_avg sections_avg      training_error:\t0.0278409712448\n",
      "Score for Training: \t3.74857885999e-06\n",
      "Score for Testing: \t-0.00496256086563\n",
      "key                                                          training_error:\t0.0283772837723\n",
      "Score for Training: \t0.044641618636\n",
      "Score for Testing: \t0.0361161403341\n",
      "loudness                                                     training_error:\t0.0271105775183\n",
      "Score for Training: \t3.30008955033e-05\n",
      "Score for Testing: \t-0.00493843184062\n",
      "duration                                                     training_error:\t0.0283764536679\n",
      "Score for Training: \t0.00570283368465\n",
      "Score for Testing: \t-0.00268022745098\n",
      "tempo                                                        training_error:\t0.0282155586107\n",
      "Score for Training: \t0.00173916182769\n",
      "Score for Testing: \t-0.00344189341575\n",
      "time_signature                                               training_error:\t0.0283280372734\n",
      "Score for Training: \t0.0475156233089\n",
      "Score for Testing: \t0.0336302602401\n",
      "key loudness duration tempo time_signature                   training_error:\t0.0270290207664\n",
      "0.16793698574\n"
=======
      "segments_avg                             testing_error:\t\t\t0.028947303262\n",
      "tatums_avg                               testing_error:\t\t\t0.0288234858365\n",
      "beats_avg                                testing_error:\t\t\t0.0289073349998\n",
      "bars_avg                                 testing_error:\t\t\t0.0289791249152\n",
      "sections_avg                             testing_error:\t\t\t0.0288374165962\n",
      "segments_avg tatums_avg beats_avg bars_avg sections_avg  testing_error:\t\t\t0.0286068674162\n",
      "key                                      testing_error:\t\t\t0.028953069294\n",
      "loudness                                 testing_error:\t\t\t0.0274338005675\n",
      "duration                                 testing_error:\t\t\t0.0290466638605\n",
      "tempo                                    testing_error:\t\t\t0.0288841183369\n",
      "time_signature                           testing_error:\t\t\t0.0288774122332\n",
      "key loudness duration tempo time_signature testing_error:\t\t\t0.0275424240233\n",
      "key loudness duration tempo time_signature segments_avg tatums_avg beats_avg bars_avg sections_avg  testing_error:\t\t\t0.0273323042735\n"
>>>>>>> c5e12c61e1a6532873f6fbbb519bb63fd39d4292
     ]
    }
   ],
   "source": [
    "allsegs = 'segments_avg tatums_avg beats_avg bars_avg sections_avg '\n",
    "allrawacous = 'key loudness duration tempo time_signature'\n",
    "\n",
    "raw_acous = []\n",
    "for each in allsegs.split():\n",
    "    raw_acous.append(each)\n",
    "\n",
    "raw_acous.append(allsegs)\n",
    "\n",
    "\n",
    "for each in allrawacous.split():\n",
    "    raw_acous.append(each)   \n",
    "raw_acous.append(allrawacous)\n",
    "raw_acous.append((allrawacous+ ' ' + allsegs))\n",
    "\n",
    "\n",
    "for item in raw_acous:\n",
    "    X_cols = item\n",
    "    results = util.RunAndTestLinearRegModel(X_cols, training_DF, testing_DF)\n",
    "\n",
    "    #  [x][1] = Mean squared error regression loss (bc its the smallest value lol)\n",
    "    mserr_training = results[1][1]\n",
    "    mserr_testing = results[2][1]\n",
    "\n",
    "#     print \"{:<60}\".format(item), \"training_error:\\t\", mserr_training\n",
    "    print \"{:<40}\".format(item), \"testing_error:\\t\\t\\t\", mserr_testing\n",
    "    # print \"The min error values were:\", min(results[1]), min(results[2])\n",
    "#     print \"std of hot is:\", results[3]\n",
    "    # -------------------------------------------------\n",
<<<<<<< HEAD
    "print results[3]"
   ]
  },
  {
   "cell_type": "code",
   "execution_count": 70,
   "metadata": {},
   "outputs": [
    {
     "data": {
      "text/plain": [
       "11.910203208423416"
      ]
     },
     "execution_count": 70,
     "metadata": {},
     "output_type": "execute_result"
    }
   ],
   "source": [
    "0.02/0.167923247404*100"
=======
    "# print results[3]"
>>>>>>> c5e12c61e1a6532873f6fbbb519bb63fd39d4292
   ]
  },
  {
   "cell_type": "markdown",
   "metadata": {},
   "source": [
    "## Finding the best energy measure"
   ]
  },
  {
   "cell_type": "code",
   "execution_count": 71,
   "metadata": {},
   "outputs": [
    {
     "name": "stdout",
     "output_type": "stream",
     "text": [
<<<<<<< HEAD
      "Score for Training: \t0.24947169043\n",
      "Score for Testing: \t0.234114367887\n",
      "energy1                                  training_error:\t0.0212980346572\n",
      "Score for Training: \t0.219699422292\n",
      "Score for Testing: \t0.190936869547\n",
      "energy2                                  training_error:\t0.0221428939257\n",
      "Score for Training: \t0.241176238862\n",
      "Score for Testing: \t0.215072704288\n",
      "energy3                                  training_error:\t0.0215334379227\n",
      "Score for Training: \t0.178146516394\n",
      "Score for Testing: \t0.140252188003\n",
      "energy4                                  training_error:\t0.0233220569481\n",
      "Score for Training: \t0.251229474162\n",
      "Score for Testing: \t0.233449784928\n",
      "energy1 energy2 energy3 energy4          training_error:\t0.0212481533424\n"
=======
      "energy1\n",
      "energy2\n",
      "energy3\n",
      "energy4\n",
      "energy1 energy2 energy3 energy4\n"
>>>>>>> c5e12c61e1a6532873f6fbbb519bb63fd39d4292
     ]
    }
   ],
   "source": [
    "energylsit = ['energy1', 'energy2', 'energy3', 'energy4', 'energy1 energy2 energy3 energy4']\n",
    "\n",
    "for item in energylsit:\n",
    "    X_cols = item\n",
    "    results = util.RunAndTestLinearRegModel(X_cols, training_DF, testing_DF)\n",
    "\n",
    "    #  [x][1] = Mean squared error regression loss (bc its the smallest value lol)\n",
    "    mserr_training = results[1][1]\n",
    "    mserr_testing = results[2][1]\n",
    "\n",
    "#     print \"{:<40}\".format(item), \"training_error:\\t\", mserr_training\n",
    "    print item\n",
    "    # print \"d1 testing_error\\t\", mserr_testing\n",
    "    # print \"The min error values were:\", min(results[1]), min(results[2])\n",
    "    # print \"std of hot is:\", results[3]\n",
    "    # -------------------------------------------------\n",
    "\n",
    "\n"
   ]
  },
  {
   "cell_type": "code",
   "execution_count": 72,
   "metadata": {
    "scrolled": true
   },
   "outputs": [
    {
     "name": "stdout",
     "output_type": "stream",
     "text": [
<<<<<<< HEAD
      "Score for Training: \t0.253677038759\n",
      "Score for Testing: \t0.233573685826\n",
      "energy1 energy2 energy3 energy4 tatums_avg beats_avg                   training_error:\t0.0211786978469\n",
      "Score for Training: \t0.272477427196\n",
      "Score for Testing: \t0.251526400821\n",
      "energy1 energy2 energy3 energy4 tempo loudness                         training_error:\t0.0206451918893\n",
      "Score for Training: \t0.272481967206\n",
      "Score for Testing: \t0.25145480428\n",
      "energy1 energy2 energy3 energy4 tempo loudness tatums_avg beats_avg    training_error:\t0.0206450630557\n"
=======
      "energy1 energy2 energy3 energy4 tatums_avg beats_avg                   training_error:\t0.0211592256926\n",
      "energy1 energy2 energy3 energy4 tempo loudness                         training_error:\t0.0206005377593\n",
      "energy1 energy2 energy3 energy4 tempo loudness tatums_avg beats_avg    training_error:\t0.0205903925348\n"
>>>>>>> c5e12c61e1a6532873f6fbbb519bb63fd39d4292
     ]
    }
   ],
   "source": [
    "# Comparing acoustic results\n",
    "acous_compare = [\"energy1 energy2 energy3 energy4 tatums_avg beats_avg\", \n",
    "                 \"energy1 energy2 energy3 energy4 tempo loudness\", \n",
    "                 \"energy1 energy2 energy3 energy4 tempo loudness tatums_avg beats_avg\"]\n",
    "\n",
    "for item in acous_compare:\n",
    "    X_cols = item\n",
    "    results = util.RunAndTestLinearRegModel(X_cols, training_DF, testing_DF)\n",
    "\n",
    "    #  [x][1] = Mean squared error regression loss (bc its the smallest value lol)\n",
    "    mserr_training = results[1][1]\n",
    "    mserr_testing = results[2][1]\n",
    "\n",
    "    print \"{:<70}\".format(item), \"training_error:\\t\", mserr_training\n",
    "    # print \"d1 testing_error\\t\", mserr_testing\n",
    "    # print \"The min error values were:\", min(results[1]), min(results[2])\n",
    "    # print \"std of hot is:\", results[3]\n",
    "    # -------------------------------------------------\n",
    "\n",
    "\n",
    "\n"
   ]
  },
  {
   "cell_type": "markdown",
   "metadata": {},
   "source": [
    "## lets play with the dance measure now"
   ]
  },
  {
   "cell_type": "code",
<<<<<<< HEAD
   "execution_count": 73,
=======
   "execution_count": 14,
>>>>>>> c5e12c61e1a6532873f6fbbb519bb63fd39d4292
   "metadata": {},
   "outputs": [
    {
     "name": "stdout",
     "output_type": "stream",
     "text": [
<<<<<<< HEAD
      "Score for Training: \t0.184208234327\n",
      "Score for Testing: \t0.167452581961\n",
      "dance1                                   training_error:\t0.0231500412134\n",
      "Score for Training: \t0.210554378677\n",
      "Score for Testing: \t0.19033540945\n",
      "dance2                                   training_error:\t0.0224024063963\n",
      "Score for Training: \t0.150119822229\n",
      "Score for Testing: \t0.121890071186\n",
      "dance3                                   training_error:\t0.024117381383\n",
      "Score for Training: \t0.148668524141\n",
      "Score for Testing: \t0.117423330289\n",
      "dance4                                   training_error:\t0.024158565435\n",
      "Score for Training: \t0.221847659264\n",
      "Score for Testing: \t0.198068960725\n",
      "dance1 dance2 dance3 dance4              training_error:\t0.022081932567\n"
=======
      "dance1                                   training_error:\t0.0229094894437\n",
      "dance2                                   training_error:\t0.0221730934354\n",
      "dance3                                   training_error:\t0.0239712685124\n",
      "dance4                                   training_error:\t0.023969093992\n",
      "dance1 dance2 dance3 dance4              training_error:\t0.0218188639278\n"
>>>>>>> c5e12c61e1a6532873f6fbbb519bb63fd39d4292
     ]
    }
   ],
   "source": [
    "dancelist = ['dance1', 'dance2', 'dance3', 'dance4', 'dance1 dance2 dance3 dance4']\n",
    "\n",
    "for item in dancelist:\n",
    "    # dance1\n",
    "    X_cols = item\n",
    "    results = util.RunAndTestLinearRegModel(X_cols, training_DF, testing_DF)\n",
    "\n",
    "    #  [x][1] = Mean squared error regression loss (bc its the smallest value lol)\n",
    "    mserr_training = results[1][1]\n",
    "    mserr_testing = results[2][1]\n",
    "\n",
    "    print \"{:<40}\".format(item), \"training_error:\\t\", mserr_training\n",
    "#     print item\n",
    "    # print \"d1 testing_error\\t\", mserr_testing\n",
    "    # print \"The min error values were:\", min(results[1]), min(results[2])\n",
    "    # print \"std of hot is:\", results[3]\n",
    "    # -------------------------------------------------\n",
    "\n",
    "\n"
   ]
  },
  {
   "cell_type": "code",
   "execution_count": 74,
   "metadata": {},
   "outputs": [
    {
     "name": "stdout",
     "output_type": "stream",
     "text": [
<<<<<<< HEAD
      "Score for Training: \t0.221847659264\n",
      "Score for Testing: \t0.198068960725\n",
      "dance1 dance2 dance3 dance4                                            training_error:\t0.022081932567\n",
      "Score for Training: \t0.251229474162\n",
      "Score for Testing: \t0.233449784928\n",
      "energy1 energy2 energy3 energy4                                        training_error:\t0.0212481533424\n",
      "Score for Training: \t0.277358996187\n",
      "Score for Testing: \t0.261559943711\n",
      "dance1 dance2 dance3 dance4 energy1 energy2 energy3 energy4            training_error:\t0.0205066657015\n",
      "Score for Training: \t0.274710728163\n",
      "Score for Testing: \t0.256581996887\n",
      "artist_familiarity artist_hotttnesss                                   training_error:\t0.0205818166365\n",
      "Score for Training: \t0.290710079666\n",
      "Score for Testing: \t0.267449089038\n",
      "alleng alldance allmeta                                                training_error:\t0.0201277967968\n"
=======
      "dance1 dance2 dance3 dance4                                            testing_error:\t\t0.0228423383647\n",
      "energy1 energy2 energy3 energy4                                        testing_error:\t\t0.0212909912842\n",
      "dance1 dance2 dance3 dance4 energy1 energy2 energy3 energy4            testing_error:\t\t0.0208636930648\n",
      "artist_familiarity artist_hotttnesss                                   testing_error:\t\t0.0209070104041\n",
      "alleng alldance allmeta                                                testing_error:\t\t0.0204036653068\n"
>>>>>>> c5e12c61e1a6532873f6fbbb519bb63fd39d4292
     ]
    }
   ],
   "source": [
    "dancelist = 'dance1 dance2 dance3 dance4 '\n",
    "energylist = 'energy1 energy2 energy3 energy4 '\n",
    "\n",
    "acousitc =[]\n",
    "acousitc.append(dancelist)\n",
    "acousitc.append(energylist)\n",
    "acousitc.append(dancelist+energylist)\n",
    "acousitc.append(\"artist_familiarity artist_hotttnesss\")\n",
    "acousitc.append(dancelist+energylist+\"artist_familiarity artist_hotttnesss\")\n",
    "\n",
    "for item in acousitc:\n",
    "    # dance1\n",
    "    X_cols = item\n",
    "    results = util.RunAndTestLinearRegModel(X_cols, training_DF, testing_DF)\n",
    "\n",
    "    #  [x][1] = Mean squared error regression loss (bc its the smallest value lol)\n",
    "    mserr_training = results[1][1]\n",
    "    mserr_testing = results[2][1]\n",
    "\n",
    "    if(len(item)>70):\n",
    "        item='alleng alldance allmeta'\n",
    "    \n",
    "#     print \"{:<70}\".format(item), \"training_error:\\t\", mserr_training\n",
    "    print \"{:<70}\".format(item), \"testing_error:\\t\\t\", mserr_testing\n",
    "    # print \"The min error values were:\", min(results[1]), min(results[2])\n",
    "    # print \"std of hot is:\", results[3]\n",
    "    # -------------------------------------------------\n",
    "\n",
    "\n"
   ]
  },
  {
   "cell_type": "code",
   "execution_count": 75,
   "metadata": {},
   "outputs": [
    {
     "name": "stdout",
     "output_type": "stream",
     "text": [
<<<<<<< HEAD
      "Score for Training: \t0.290710079666\n",
      "Score for Testing: \t0.267449089038\n",
      "alleng alldance allmeta                                                training_error:\t0.0201277967968\n",
      "alleng alldance allmeta                                                training_error:\t\t0.0201835960381\n",
      "std of hot is:\t\t0.16793698574\n",
      "12.0185532384\n"
=======
      "alleng alldance allmeta                                                training_error:\t0.0200564508292\n",
      "alleng alldance allmeta                                                training_error:\t\t0.0204036653068\n",
      "std of hot is:\t\t0.167935342113\n",
      "12.1497149141\n"
>>>>>>> c5e12c61e1a6532873f6fbbb519bb63fd39d4292
     ]
    }
   ],
   "source": [
    "finalset = [dancelist+energylist+\"artist_familiarity artist_hotttnesss\"]\n",
    "\n",
    "for item in finalset:\n",
    "    X_cols = item\n",
    "    results = util.RunAndTestLinearRegModel(X_cols, training_DF, testing_DF)\n",
    "\n",
    "    #  [x][1] = Mean squared error regression loss (bc its the smallest value lol)\n",
    "    mserr_training = results[1][1]\n",
    "    mserr_testing = results[2][1]\n",
    "\n",
    "    if(len(item)>70):\n",
    "        item='alleng alldance allmeta'\n",
    "    \n",
    "    print \"{:<70}\".format(item), \"training_error:\\t\", mserr_training\n",
    "    print \"{:<70}\".format(item), \"training_error:\\t\\t\", mserr_testing\n",
    "    # print \"The min error values were:\", min(results[1]), min(results[2])\n",
    "    print \"std of hot is:\\t\\t\", results[3]\n",
    "    print mserr_testing/results[3]*100\n",
    "    # -------------------------------------------------\n",
    "\n"
   ]
  },
  {
   "cell_type": "code",
   "execution_count": null,
   "metadata": {
    "collapsed": true
   },
   "outputs": [],
   "source": []
  },
  {
   "cell_type": "markdown",
   "metadata": {},
   "source": [
    "## THROW IT ALL IN THERE \n"
   ]
  },
  {
   "cell_type": "code",
<<<<<<< HEAD
   "execution_count": 76,
=======
   "execution_count": 16,
>>>>>>> c5e12c61e1a6532873f6fbbb519bb63fd39d4292
   "metadata": {},
   "outputs": [
    {
     "name": "stdout",
     "output_type": "stream",
     "text": [
<<<<<<< HEAD
      "Score for Training: \t0.291835725504\n",
      "Score for Testing: \t0.270152805617\n",
      "allfeatures                                                            training_error:\t0.0200958539057\n",
      "allfeatures                                                            training_error:\t0.0201091019348\n"
=======
      "allfeatures                                                            training_error:\t0.0199210003694\n",
      "allfeatures                                                            training_error:\t0.0204565606284\n"
>>>>>>> c5e12c61e1a6532873f6fbbb519bb63fd39d4292
     ]
    }
   ],
   "source": [
    "rawacoustic = \" key loudness duration tempo time_signature segments_avg tatums_avg beats_avg bars_avg sections_avg  \"\n",
    "above = ' dance1 dance2 dance3 dance4 energy1 energy2 energy3 energy4 artist_familiarity artist_hotttnesss  '\n",
    "actual_all = [rawacoustic+above]\n",
    "\n",
    "for item in actual_all:\n",
    "    X_cols = item\n",
    "    results = util.RunAndTestLinearRegModel(X_cols, training_DF, testing_DF)\n",
    "\n",
    "    #  [x][1] = Mean squared error regression loss (bc its the smallest value lol)\n",
    "    mserr_training = results[1][1]\n",
    "    mserr_testing = results[2][1]\n",
    "\n",
    "    if(len(item)>70):\n",
    "        item=\"allfeatures\"\n",
    "    \n",
    "    print \"{:<70}\".format(item), \"training_error:\\t\", mserr_training\n",
    "    print \"{:<70}\".format(item), \"training_error:\\t\", mserr_testing\n",
    "    # print \"The min error values were:\", min(results[1]), min(results[2])\n",
    "    # print \"std of hot is:\", results[3]\n",
    "    # -------------------------------------------------\n"
   ]
  },
  {
   "cell_type": "markdown",
   "metadata": {},
   "source": [
    "# KNN STUFF"
   ]
  },
  {
   "cell_type": "markdown",
   "metadata": {},
   "source": [
    "### using metadata (familiarity and artist_hott)"
   ]
  },
  {
   "cell_type": "code",
   "execution_count": 47,
   "metadata": {},
   "outputs": [
    {
     "name": "stdout",
     "output_type": "stream",
     "text": [
      "Score for Training: \t0.547496790757\n",
      "Score for Testing: \t0.275529865125\n",
      "artist_familiarity                       training_error:\t\t0.0335744356211\n",
      "artist_familiarity                       testing_error:\t\t\t0.0433221522441\n",
      "artist_familiarity                       discrete training_error:\t0.0248876765083\n",
      "artist_familiarity                       discrete testing_error:\t0.0346531791908\n",
      "\n",
      "Score for Training: \t0.551668806162\n",
      "Score for Testing: \t0.2591522158\n",
      "artist_hotttnesss                        training_error:\t\t0.0340256567354\n",
      "artist_hotttnesss                        testing_error:\t\t\t0.0460462486485\n",
      "artist_hotttnesss                        discrete training_error:\t0.0254749679076\n",
      "artist_hotttnesss                        discrete testing_error:\t0.0371579961464\n",
      "\n",
      "Score for Training: \t0.548459563543\n",
      "Score for Testing: \t0.281310211946\n",
      "artist_hotttnesss artist_familiarity     training_error:\t\t0.0325157355157\n",
      "artist_hotttnesss artist_familiarity     testing_error:\t\t\t0.0419812007135\n",
      "artist_hotttnesss artist_familiarity     discrete training_error:\t0.0241238767651\n",
      "artist_hotttnesss artist_familiarity     discrete testing_error:\t0.0329479768786\n",
      "\n"
     ]
    }
   ],
   "source": [
    "metadata = ['artist_familiarity', 'artist_hotttnesss', 'artist_hotttnesss artist_familiarity']\n",
    "\n",
    "for item in metadata:\n",
    "    X_cols = item\n",
    "    results = util.RunAndTestKNNModel(X_cols, training_DF, testing_DF)\n",
    "\n",
    "    #  [x][1] = Mean squared error regression loss (bc its the smallest value lol)\n",
    "    mserr_training = results[1][1]\n",
    "    mserr_testing = results[2][1]\n",
    "    discrete_mserr_training = results[4][1]\n",
    "    discrete_mserr_testing = results[5][1]\n",
    "\n",
    "    print \"{:<40}\".format(item), \"training_error:\\t\\t\", mserr_training\n",
    "    print \"{:<40}\".format(item), \"testing_error:\\t\\t\\t\", mserr_testing\n",
    "    print \"{:<40}\".format(item), \"discrete training_error:\\t\", discrete_mserr_training\n",
    "    print \"{:<40}\".format(item), \"discrete testing_error:\\t\", discrete_mserr_testing\n",
    "    print \"\"\n",
    "    # print \"The min error values were:\", min(results[1]), min(results[2])\n",
    "    # print \"std of hot is:\", results[3]\n",
    "    # -------------------------------------------------"
   ]
  },
  {
   "cell_type": "markdown",
   "metadata": {},
   "source": [
    "### using acoustic features "
   ]
  },
  {
   "cell_type": "code",
   "execution_count": 50,
   "metadata": {},
   "outputs": [
    {
     "name": "stdout",
     "output_type": "stream",
     "text": [
      "Score for Training: \t0.500641848524\n",
      "Score for Testing: \t0.176300578035\n",
      "segments_avg                                                 training_error:\t\t0.0524303039622\n",
      "segments_avg                                                 testing_error:\t\t0.0683258090829\n",
      "segments_avg                                                 discrete training_error:\t0.0400898587933\n",
      "segments_avg                                                 discrete testing_error:\t0.0562716763006\n",
      "\n",
      "Score for Training: \t0.491335044929\n",
      "Score for Testing: \t0.184007707129\n",
      "tatums_avg                                                   training_error:\t\t0.0521997292321\n",
      "tatums_avg                                                   testing_error:\t\t0.065075683163\n",
      "tatums_avg                                                   discrete training_error:\t0.0402342747112\n",
      "tatums_avg                                                   discrete testing_error:\t0.0531599229287\n",
      "\n",
      "Score for Training: \t0.502246469833\n",
      "Score for Testing: \t0.158959537572\n",
      "beats_avg                                                    training_error:\t\t0.054042224259\n",
      "beats_avg                                                    testing_error:\t\t0.0686245173775\n",
      "beats_avg                                                    discrete training_error:\t0.0416784338896\n",
      "beats_avg                                                    discrete testing_error:\t0.0562909441233\n",
      "\n",
      "Score for Training: \t0.490051347882\n",
      "Score for Testing: \t0.210019267823\n",
      "bars_avg                                                     training_error:\t\t0.0539515475841\n",
      "bars_avg                                                     testing_error:\t\t0.0692829985027\n",
      "bars_avg                                                     discrete training_error:\t0.0415372272144\n",
      "bars_avg                                                     discrete testing_error:\t0.0562813102119\n",
      "\n",
      "Score for Training: \t0.490693196406\n",
      "Score for Testing: \t0.196531791908\n",
      "sections_avg                                                 training_error:\t\t0.0545291809314\n",
      "sections_avg                                                 testing_error:\t\t0.068824530068\n",
      "sections_avg                                                 discrete training_error:\t0.0417811296534\n",
      "sections_avg                                                 discrete testing_error:\t0.0560693641618\n",
      "\n",
      "Score for Training: \t0.495507060334\n",
      "Score for Testing: \t0.184007707129\n",
      "segments_avg tatums_avg beats_avg bars_avg sections_avg      training_error:\t\t0.0533264308901\n",
      "segments_avg tatums_avg beats_avg bars_avg sections_avg      testing_error:\t\t0.068514701254\n",
      "segments_avg tatums_avg beats_avg bars_avg sections_avg      discrete training_error:\t0.0408697047497\n",
      "segments_avg tatums_avg beats_avg bars_avg sections_avg      discrete testing_error:\t0.056676300578\n",
      "\n",
      "Score for Training: \t0.200577663671\n",
      "Score for Testing: \t0.18978805395\n",
      "key                                                          training_error:\t\t0.0650752837736\n",
      "key                                                          testing_error:\t\t0.0629711045431\n",
      "key                                                          discrete training_error:\t0.0533664955071\n",
      "key                                                          discrete testing_error:\t0.0511560693642\n",
      "\n",
      "Score for Training: \t0.497111681643\n",
      "Score for Testing: \t0.197495183044\n",
      "loudness                                                     training_error:\t\t0.0514752135081\n",
      "loudness                                                     testing_error:\t\t0.0661051897282\n",
      "loudness                                                     discrete training_error:\t0.0392747111682\n",
      "loudness                                                     discrete testing_error:\t0.054161849711\n",
      "\n",
      "Score for Training: \t0.48459563543\n",
      "Score for Testing: \t0.21098265896\n",
      "duration                                                     training_error:\t\t0.0544813176318\n",
      "duration                                                     testing_error:\t\t0.065497780758\n",
      "duration                                                     discrete training_error:\t0.0420410783055\n",
      "duration                                                     discrete testing_error:\t0.0535260115607\n",
      "\n",
      "Score for Training: \t0.499358151476\n",
      "Score for Testing: \t0.19267822736\n",
      "tempo                                                        training_error:\t\t0.0526616470613\n",
      "tempo                                                        testing_error:\t\t0.0681462736682\n",
      "tempo                                                        discrete training_error:\t0.0401508344031\n",
      "tempo                                                        discrete testing_error:\t0.0556262042389\n",
      "\n",
      "Score for Training: \t0.218549422336\n",
      "Score for Testing: \t0.208092485549\n",
      "time_signature                                               training_error:\t\t0.0880903968966\n",
      "time_signature                                               testing_error:\t\t0.087735062421\n",
      "time_signature                                               discrete training_error:\t0.0674358151476\n",
      "time_signature                                               discrete testing_error:\t0.0667148362235\n",
      "\n",
      "Score for Training: \t0.497753530167\n",
      "Score for Testing: \t0.194605009634\n",
      "key loudness duration tempo time_signature                   training_error:\t\t0.0517030324724\n",
      "key loudness duration tempo time_signature                   testing_error:\t\t0.068286901362\n",
      "key loudness duration tempo time_signature                   discrete training_error:\t0.0399229781772\n",
      "key loudness duration tempo time_signature                   discrete testing_error:\t0.0555780346821\n",
      "\n",
      "0.167895061754\n"
     ]
    }
   ],
   "source": [
    "allsegs = 'segments_avg tatums_avg beats_avg bars_avg sections_avg '\n",
    "allrawacous = 'key loudness duration tempo time_signature'\n",
    "\n",
    "raw_acous = []\n",
    "for each in allsegs.split():\n",
    "    raw_acous.append(each)\n",
    "\n",
    "raw_acous.append(allsegs)\n",
    "\n",
    "for each in allrawacous.split():\n",
    "    raw_acous.append(each)   \n",
    "raw_acous.append(allrawacous)\n",
    "\n",
    "for item in raw_acous:\n",
    "    X_cols = item\n",
    "    results = util.RunAndTestKNNModel(X_cols, training_DF, testing_DF)\n",
    "\n",
    "    #  [x][1] = Mean squared error regression loss (bc its the smallest value lol)\n",
    "    mserr_training = results[1][1]\n",
    "    mserr_testing = results[2][1]\n",
    "    discrete_mserr_training = results[4][1]\n",
    "    discrete_mserr_testing = results[5][1]\n",
    "\n",
    "    print \"{:<60}\".format(item), \"training_error:\\t\\t\", mserr_training\n",
    "    print \"{:<60}\".format(item), \"testing_error:\\t\\t\", mserr_testing\n",
    "    print \"{:<60}\".format(item), \"discrete training_error:\\t\", discrete_mserr_training\n",
    "    print \"{:<60}\".format(item), \"discrete testing_error:\\t\", discrete_mserr_testing\n",
    "    print \"\"\n",
    "    # print \"The min error values were:\", min(results[1]), min(results[2])\n",
    "#     print \"std of hot is:\", results[3]\n",
    "    # -------------------------------------------------\n",
    "print results[3]"
   ]
  },
  {
   "cell_type": "markdown",
   "metadata": {},
   "source": [
    "### Finding the best energy measure"
   ]
  },
  {
   "cell_type": "code",
   "execution_count": 52,
   "metadata": {},
   "outputs": [
    {
     "name": "stdout",
     "output_type": "stream",
     "text": [
      "Score for Training: \t0.533697047497\n",
      "Score for Testing: \t0.215799614644\n",
      "energy1                                  training_error:\t\t0.0404173562557\n",
      "energy1                                  testing_error:\t\t\t0.0493273516751\n",
      "energy1                                  discrete training_error:\t0.0301732991014\n",
      "energy1                                  discrete testing_error:\t0.0391425818882\n",
      "\n",
      "Score for Training: \t0.523427471117\n",
      "Score for Testing: \t0.219653179191\n",
      "energy2                                  training_error:\t\t0.0410751471039\n",
      "energy2                                  testing_error:\t\t\t0.0558969606136\n",
      "energy2                                  discrete training_error:\t0.0310237483954\n",
      "energy2                                  discrete testing_error:\t0.0454527938343\n",
      "\n",
      "Score for Training: \t0.514441591784\n",
      "Score for Testing: \t0.193641618497\n",
      "energy3                                  training_error:\t\t0.0411504492464\n",
      "energy3                                  testing_error:\t\t\t0.0543778902112\n",
      "energy3                                  discrete training_error:\t0.0307670089859\n",
      "energy3                                  discrete testing_error:\t0.043978805395\n",
      "\n",
      "Score for Training: \t0.522464698331\n",
      "Score for Testing: \t0.198458574181\n",
      "energy4                                  training_error:\t\t0.044508831982\n",
      "energy4                                  testing_error:\t\t\t0.0596149125518\n",
      "energy4                                  discrete training_error:\t0.0334756097561\n",
      "energy4                                  discrete testing_error:\t0.0481695568401\n",
      "\n",
      "Score for Training: \t0.530487804878\n",
      "Score for Testing: \t0.207129094412\n",
      "energy1 energy2 energy3 energy4          training_error:\t\t0.0401595745732\n",
      "energy1 energy2 energy3 energy4          testing_error:\t\t\t0.0537105974095\n",
      "energy1 energy2 energy3 energy4          discrete training_error:\t0.0296501925546\n",
      "energy1 energy2 energy3 energy4          discrete testing_error:\t0.0425529865125\n",
      "\n"
     ]
    }
   ],
   "source": [
    "energylsit = ['energy1', 'energy2', 'energy3', 'energy4', 'energy1 energy2 energy3 energy4']\n",
    "\n",
    "for item in energylsit:\n",
    "    X_cols = item\n",
    "    results = util.RunAndTestKNNModel(X_cols, training_DF, testing_DF)\n",
    "\n",
    "    #  [x][1] = Mean squared error regression loss (bc its the smallest value lol)\n",
    "    mserr_training = results[1][1]\n",
    "    mserr_testing = results[2][1]\n",
    "    discrete_mserr_training = results[4][1]\n",
    "    discrete_mserr_testing = results[5][1]\n",
    "\n",
    "    print \"{:<40}\".format(item), \"training_error:\\t\\t\", mserr_training\n",
    "    print \"{:<40}\".format(item), \"testing_error:\\t\\t\\t\", mserr_testing\n",
    "    print \"{:<40}\".format(item), \"discrete training_error:\\t\", discrete_mserr_training\n",
    "    print \"{:<40}\".format(item), \"discrete testing_error:\\t\", discrete_mserr_testing\n",
    "    print \"\"\n",
    "#     print \"d1 testing_error\\t\", mserr_testing\n",
    "    # print \"The min error values were:\", min(results[1]), min(results[2])\n",
    "    # print \"std of hot is:\", results[3]\n",
    "    # -------------------------------------------------\n",
    "\n",
    "\n"
   ]
  },
  {
   "cell_type": "code",
   "execution_count": 54,
   "metadata": {},
   "outputs": [
    {
     "name": "stdout",
     "output_type": "stream",
     "text": [
      "Score for Training: \t0.532413350449\n",
      "Score for Testing: \t0.212909441233\n",
      "energy1 energy2 energy3 energy4 tatums_avg beats_avg                   training_error:\t\t0.0397032286584\n",
      "energy1 energy2 energy3 energy4 tatums_avg beats_avg                   testing_error:\t\t0.0533025429889\n",
      "energy1 energy2 energy3 energy4 tatums_avg beats_avg                   discrete training_error:\t0.0293421052632\n",
      "energy1 energy2 energy3 energy4 tatums_avg beats_avg                   discrete testing_error:\t0.0423217726397\n",
      "\n",
      "Score for Training: \t0.492939666239\n",
      "Score for Testing: \t0.201348747592\n",
      "energy1 energy2 energy3 energy4 tempo loudness                         training_error:\t\t0.0499003756899\n",
      "energy1 energy2 energy3 energy4 tempo loudness                         testing_error:\t\t0.0644063148819\n",
      "energy1 energy2 energy3 energy4 tempo loudness                         discrete training_error:\t0.0380519897304\n",
      "energy1 energy2 energy3 energy4 tempo loudness                         discrete testing_error:\t0.0520520231214\n",
      "\n",
      "Score for Training: \t0.495507060334\n",
      "Score for Testing: \t0.199421965318\n",
      "energy1 energy2 energy3 energy4 tempo loudness tatums_avg beats_avg    training_error:\t\t0.0497358624388\n",
      "energy1 energy2 energy3 energy4 tempo loudness tatums_avg beats_avg    testing_error:\t\t0.0648721864694\n",
      "energy1 energy2 energy3 energy4 tempo loudness tatums_avg beats_avg    discrete training_error:\t0.0378754813864\n",
      "energy1 energy2 energy3 energy4 tempo loudness tatums_avg beats_avg    discrete testing_error:\t0.0524662813102\n",
      "\n"
     ]
    }
   ],
   "source": [
    "# Comparing acoustic results\n",
    "acous_compare = [\"energy1 energy2 energy3 energy4 tatums_avg beats_avg\", \n",
    "                 \"energy1 energy2 energy3 energy4 tempo loudness\", \n",
    "                 \"energy1 energy2 energy3 energy4 tempo loudness tatums_avg beats_avg\"]\n",
    "\n",
    "for item in acous_compare:\n",
    "    X_cols = item\n",
    "    results = util.RunAndTestKNNModel(X_cols, training_DF, testing_DF)\n",
    "\n",
    "    #  [x][1] = Mean squared error regression loss (bc its the smallest value lol)\n",
    "    mserr_training = results[1][1]\n",
    "    mserr_testing = results[2][1]\n",
    "    discrete_mserr_training = results[4][1]\n",
    "    discrete_mserr_testing = results[5][1]\n",
    "\n",
    "    print \"{:<70}\".format(item), \"training_error:\\t\\t\", mserr_training\n",
    "    print \"{:<70}\".format(item), \"testing_error:\\t\\t\", mserr_testing\n",
    "    print \"{:<70}\".format(item), \"discrete training_error:\\t\", discrete_mserr_training\n",
    "    print \"{:<70}\".format(item), \"discrete testing_error:\\t\", discrete_mserr_testing\n",
    "    print \"\"\n",
    "#     print \"d1 testing_error\\t\", mserr_testing\n",
    "    # print \"The min error values were:\", min(results[1]), min(results[2])\n",
    "    # print \"std of hot is:\", results[3]\n",
    "    # -------------------------------------------------\n",
    "\n",
    "\n"
   ]
  },
  {
   "cell_type": "markdown",
   "metadata": {},
   "source": [
    "### lets play with the dance measure now"
   ]
  },
  {
   "cell_type": "code",
   "execution_count": 56,
   "metadata": {},
   "outputs": [
    {
     "name": "stdout",
     "output_type": "stream",
     "text": [
      "Score for Training: \t0.522785622593\n",
      "Score for Testing: \t0.220616570328\n",
      "dance1                                   training_error:\t\t0.0441942630669\n",
      "dance1                                   testing_error:\t\t\t0.0575315100588\n",
      "dance1                                   discrete training_error:\t0.033501283697\n",
      "dance1                                   discrete testing_error:\t0.0466377649326\n",
      "\n",
      "Score for Training: \t0.508664955071\n",
      "Score for Testing: \t0.23506743738\n",
      "dance2                                   training_error:\t\t0.043166390997\n",
      "dance2                                   testing_error:\t\t\t0.0558991052907\n",
      "dance2                                   discrete training_error:\t0.0326059050064\n",
      "dance2                                   discrete testing_error:\t0.0446628131021\n",
      "\n",
      "Score for Training: \t0.501283697047\n",
      "Score for Testing: \t0.201348747592\n",
      "dance3                                   training_error:\t\t0.0459147568593\n",
      "dance3                                   testing_error:\t\t\t0.0602404837395\n",
      "dance3                                   discrete training_error:\t0.0345603337612\n",
      "dance3                                   discrete testing_error:\t0.0482369942197\n",
      "\n",
      "Score for Training: \t0.504172015404\n",
      "Score for Testing: \t0.195568400771\n",
      "dance4                                   training_error:\t\t0.0459401509065\n",
      "dance4                                   testing_error:\t\t\t0.0590352224943\n",
      "dance4                                   discrete training_error:\t0.0346405648267\n",
      "dance4                                   discrete testing_error:\t0.0479672447013\n",
      "\n",
      "Score for Training: \t0.522143774069\n",
      "Score for Testing: \t0.224470134875\n",
      "dance1 dance2 dance3 dance4              training_error:\t\t0.0408217827934\n",
      "dance1 dance2 dance3 dance4              testing_error:\t\t\t0.0540229779066\n",
      "dance1 dance2 dance3 dance4              discrete training_error:\t0.0305263157895\n",
      "dance1 dance2 dance3 dance4              discrete testing_error:\t0.0433333333333\n",
      "\n"
     ]
    }
   ],
   "source": [
    "dancelist = ['dance1', 'dance2', 'dance3', 'dance4', 'dance1 dance2 dance3 dance4']\n",
    "\n",
    "for item in dancelist:\n",
    "    # dance1\n",
    "    X_cols = item\n",
    "    results = util.RunAndTestKNNModel(X_cols, training_DF, testing_DF)\n",
    "\n",
    "    #  [x][1] = Mean squared error regression loss (bc its the smallest value lol)\n",
    "    mserr_training = results[1][1]\n",
    "    mserr_testing = results[2][1]\n",
    "    discrete_mserr_training = results[4][1]\n",
    "    discrete_mserr_testing = results[5][1]\n",
    "\n",
    "    print \"{:<40}\".format(item), \"training_error:\\t\\t\", mserr_training\n",
    "    print \"{:<40}\".format(item), \"testing_error:\\t\\t\\t\", mserr_testing\n",
    "    print \"{:<40}\".format(item), \"discrete training_error:\\t\", discrete_mserr_training\n",
    "    print \"{:<40}\".format(item), \"discrete testing_error:\\t\", discrete_mserr_testing\n",
    "    print \"\"\n",
    "    # print \"d1 testing_error\\t\", mserr_testing\n",
    "    # print \"The min error values were:\", min(results[1]), min(results[2])\n",
    "    # print \"std of hot is:\", results[3]\n",
    "    # -------------------------------------------------\n",
    "\n"
   ]
  },
  {
   "cell_type": "code",
   "execution_count": 58,
   "metadata": {},
   "outputs": [
    {
     "name": "stdout",
     "output_type": "stream",
     "text": [
      "Score for Training: \t0.522143774069\n",
      "Score for Testing: \t0.224470134875\n",
      "dance1 dance2 dance3 dance4                                            training_error:\t\t0.0408217827934\n",
      "dance1 dance2 dance3 dance4                                            testing_error:\t\t0.0540229779066\n",
      "dance1 dance2 dance3 dance4                                            discrete training_error:\t0.0305263157895\n",
      "dance1 dance2 dance3 dance4                                            discrete testing_error:\t0.0433333333333\n",
      "\n",
      "Score for Training: \t0.530487804878\n",
      "Score for Testing: \t0.207129094412\n",
      "energy1 energy2 energy3 energy4                                        training_error:\t\t0.0401595745732\n",
      "energy1 energy2 energy3 energy4                                        testing_error:\t\t0.0537105974095\n",
      "energy1 energy2 energy3 energy4                                        discrete training_error:\t0.0296501925546\n",
      "energy1 energy2 energy3 energy4                                        discrete testing_error:\t0.0425529865125\n",
      "\n",
      "Score for Training: \t0.521501925546\n",
      "Score for Testing: \t0.227360308285\n",
      "dance1 dance2 dance3 dance4 energy1 energy2 energy3 energy4            training_error:\t\t0.0399205473038\n",
      "dance1 dance2 dance3 dance4 energy1 energy2 energy3 energy4            testing_error:\t\t0.0505236653251\n",
      "dance1 dance2 dance3 dance4 energy1 energy2 energy3 energy4            discrete training_error:\t0.0295186136072\n",
      "dance1 dance2 dance3 dance4 energy1 energy2 energy3 energy4            discrete testing_error:\t0.0399807321773\n",
      "\n",
      "Score for Training: \t0.548459563543\n",
      "Score for Testing: \t0.281310211946\n",
      "artist_familiarity artist_hotttnesss                                   training_error:\t\t0.0325157355157\n",
      "artist_familiarity artist_hotttnesss                                   testing_error:\t\t0.0419812007135\n",
      "artist_familiarity artist_hotttnesss                                   discrete training_error:\t0.0241238767651\n",
      "artist_familiarity artist_hotttnesss                                   discrete testing_error:\t0.0329479768786\n",
      "\n",
      "Score for Training: \t0.539473684211\n",
      "Score for Testing: \t0.236994219653\n",
      "alleng alldance allmeta                                                training_error:\t\t0.039204796047\n",
      "alleng alldance allmeta                                                testing_error:\t\t0.0497268113929\n",
      "alleng alldance allmeta                                                discrete training_error:\t0.028973042362\n",
      "alleng alldance allmeta                                                discrete testing_error:\t0.0393256262042\n",
      "\n"
     ]
    }
   ],
   "source": [
    "dancelist = 'dance1 dance2 dance3 dance4 '\n",
    "energylist = 'energy1 energy2 energy3 energy4 '\n",
    "\n",
    "acousitc =[]\n",
    "acousitc.append(dancelist)\n",
    "acousitc.append(energylist)\n",
    "acousitc.append(dancelist+energylist)\n",
    "acousitc.append(\"artist_familiarity artist_hotttnesss\")\n",
    "acousitc.append(dancelist+energylist+\"artist_familiarity artist_hotttnesss\")\n",
    "\n",
    "for item in acousitc:\n",
    "    # dance1\n",
    "    X_cols = item\n",
    "    results = util.RunAndTestKNNModel(X_cols, training_DF, testing_DF)\n",
    "\n",
    "    #  [x][1] = Mean squared error regression loss (bc its the smallest value lol)\n",
    "    mserr_training = results[1][1]\n",
    "    mserr_testing = results[2][1]\n",
    "    discrete_mserr_training = results[4][1]\n",
    "    discrete_mserr_testing = results[5][1]\n",
    "\n",
    "    if(len(item)>70):\n",
    "        item='alleng alldance allmeta'\n",
    "    \n",
    "    print \"{:<70}\".format(item), \"training_error:\\t\\t\", mserr_training\n",
    "    print \"{:<70}\".format(item), \"testing_error:\\t\\t\", mserr_testing\n",
    "    print \"{:<70}\".format(item), \"discrete training_error:\\t\", discrete_mserr_training\n",
    "    print \"{:<70}\".format(item), \"discrete testing_error:\\t\", discrete_mserr_testing\n",
    "    print \"\"\n",
    "    # print \"The min error values were:\", min(results[1]), min(results[2])\n",
    "    # print \"std of hot is:\", results[3]\n",
    "    # -------------------------------------------------\n",
    "\n",
    "\n"
   ]
  },
  {
   "cell_type": "code",
   "execution_count": 60,
   "metadata": {},
   "outputs": [
    {
     "name": "stdout",
     "output_type": "stream",
     "text": [
      "Score for Training: \t0.539473684211\n",
      "Score for Testing: \t0.236994219653\n",
      "alleng alldance allmeta                                                training_error:\t\t0.039204796047\n",
      "alleng alldance allmeta                                                testing_error:\t\t0.0497268113929\n",
      "alleng alldance allmeta                                                discrete training_error:\t0.028973042362\n",
      "alleng alldance allmeta                                                discrete testing_error:\t0.0393256262042\n",
      "\n",
      "std of hot is:\t\t0.167895061754\n"
     ]
    }
   ],
   "source": [
    "finalset = [dancelist+energylist+\"artist_familiarity artist_hotttnesss\"]\n",
    "\n",
    "for item in finalset:\n",
    "    X_cols = item\n",
    "    results = util.RunAndTestKNNModel(X_cols, training_DF, testing_DF)\n",
    "\n",
    "    #  [x][1] = Mean squared error regression loss (bc its the smallest value lol)\n",
    "    mserr_training = results[1][1]\n",
    "    mserr_testing = results[2][1]\n",
    "    discrete_mserr_training = results[4][1]\n",
    "    discrete_mserr_testing = results[5][1]\n",
    "\n",
    "    if(len(item)>70):\n",
    "        item='alleng alldance allmeta'\n",
    "\n",
    "    print \"{:<70}\".format(item), \"training_error:\\t\\t\", mserr_training\n",
    "    print \"{:<70}\".format(item), \"testing_error:\\t\\t\", mserr_testing\n",
    "    print \"{:<70}\".format(item), \"discrete training_error:\\t\", discrete_mserr_training\n",
    "    print \"{:<70}\".format(item), \"discrete testing_error:\\t\", discrete_mserr_testing\n",
    "    print \"\"\n",
    "    # print \"The min error values were:\", min(results[1]), min(results[2])\n",
    "    print \"std of hot is:\\t\\t\", results[3]\n",
    "#     print mserr_testing/results[3]*100\n",
    "    # -------------------------------------------------\n",
    "\n"
   ]
  },
  {
   "cell_type": "markdown",
   "metadata": {},
   "source": [
    "### THROW IT ALL IN THERE "
   ]
  },
  {
   "cell_type": "code",
   "execution_count": 62,
   "metadata": {},
   "outputs": [
    {
     "name": "stdout",
     "output_type": "stream",
     "text": [
      "Score for Training: \t0.506739409499\n",
      "Score for Testing: \t0.21098265896\n",
      "allfeatures                                                            training_error:\t\t0.0453057779332\n",
      "allfeatures                                                            testing_error:\t\t0.0584209837508\n",
      "allfeatures                                                            discrete training_error:\t0.0339666238768\n",
      "allfeatures                                                            discrete testing_error:\t0.0463776493256\n"
     ]
    }
   ],
   "source": [
    "all_features = [dancelist+energylist+'tempo loudness tatums_avg beats_avg'+\" artist_familiarity artist_hotttnesss\"]\n",
    "\n",
    "for item in all_features:\n",
    "    X_cols = item\n",
    "#     results = KNN(X_cols, training_DF, testing_DF)\n",
    "    results = util.RunAndTestKNNModel(X_cols, training_DF, testing_DF)\n",
    "\n",
    "    #  [x][1] = Mean squared error regression loss (bc its the smallest value lol)\n",
    "    mserr_training = results[1][1]\n",
    "    mserr_testing = results[2][1]\n",
    "    discrete_mserr_training = results[4][1]\n",
    "    discrete_mserr_testing = results[5][1]\n",
    "\n",
    "    if(len(item)>70):\n",
    "        item=\"allfeatures\"\n",
    "    \n",
    "    print \"{:<70}\".format(item), \"training_error:\\t\\t\", mserr_training\n",
    "    print \"{:<70}\".format(item), \"testing_error:\\t\\t\", mserr_testing\n",
    "    print \"{:<70}\".format(item), \"discrete training_error:\\t\", discrete_mserr_training\n",
    "    print \"{:<70}\".format(item), \"discrete testing_error:\\t\", discrete_mserr_testing\n",
    "    # print \"The min error values were:\", min(results[1]), min(results[2])\n",
    "    # print \"std of hot is:\", results[3]\n",
    "    # -------------------------------------------------\n"
   ]
  },
  {
   "cell_type": "code",
   "execution_count": null,
   "metadata": {
    "collapsed": true
   },
   "outputs": [],
   "source": []
  },
  {
   "cell_type": "code",
   "execution_count": null,
   "metadata": {
    "collapsed": true
   },
   "outputs": [],
   "source": []
  }
 ],
 "metadata": {
  "kernelspec": {
   "display_name": "Python 2",
   "language": "python",
   "name": "python2"
  },
  "language_info": {
   "codemirror_mode": {
    "name": "ipython",
    "version": 2
   },
   "file_extension": ".py",
   "mimetype": "text/x-python",
   "name": "python",
   "nbconvert_exporter": "python",
   "pygments_lexer": "ipython2",
   "version": "2.7.14"
  }
 },
 "nbformat": 4,
 "nbformat_minor": 2
}
