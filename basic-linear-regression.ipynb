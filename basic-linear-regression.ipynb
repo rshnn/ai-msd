{
 "cells": [
  {
   "cell_type": "markdown",
   "metadata": {},
   "source": [
    "# Basic Linear Regression Model"
   ]
  },
  {
   "cell_type": "markdown",
   "metadata": {},
   "source": [
    "## Imports"
   ]
  },
  {
   "cell_type": "code",
   "execution_count": 3,
   "metadata": {},
   "outputs": [],
   "source": [
    "import numpy as np\n",
    "import matplotlib as mpl\n",
    "import matplotlib.pyplot as plt\n",
    "import pandas as pd\n",
    "from scipy import stats, integrate\n",
    "import seaborn as sns\n",
    "\n",
    "import pprint\n",
    "p = pprint.PrettyPrinter(indent=4)\n",
    "\n",
    "import config as config\n",
    "\n",
    "%matplotlib inline\n"
   ]
  },
  {
   "cell_type": "markdown",
   "metadata": {},
   "source": [
    "## Importing utilities object\n",
    "+ imports dataset as lists (a training and test set)\n"
   ]
  },
  {
   "cell_type": "code",
   "execution_count": 4,
   "metadata": {},
   "outputs": [],
   "source": [
    "%run utilities.py\n",
    "util = Utilities({}, use_json=False)\n",
    "training_list, testing_list = util.get_datasets()\n",
    "\n",
    "# turning the datasets into pandas DataFrames \n",
    "training_DF, testing_DF = util.create_dataframes(training_list, testing_list)\n",
    "\n",
    "# generate the energy and dance measures \n",
    "training_DF, testing_DF = util.generate_energy_measure(training_DF, testing_DF)\n",
    "training_DF, testing_DF = util.generate_dance_measure(training_DF, testing_DF)\n"
   ]
  },
  {
   "cell_type": "markdown",
   "metadata": {},
   "source": [
    "# Makin Linear Reg Learners!"
   ]
  },
  {
   "cell_type": "code",
   "execution_count": 5,
   "metadata": {},
   "outputs": [],
   "source": [
    "from sklearn.linear_model import LinearRegression\n",
    "from sklearn import metrics \n",
    "# Look at utilities.py for RunAndTestLinearRegModel() "
   ]
  },
  {
   "cell_type": "markdown",
   "metadata": {},
   "source": [
    "### using metadata (familiarity and artist_hott)"
   ]
  },
  {
   "cell_type": "code",
   "execution_count": 7,
   "metadata": {},
   "outputs": [
    {
     "name": "stdout",
     "output_type": "stream",
     "text": [
      "artist_familiarity                       training_error:\t0.021030005378670887\n",
      "artist_familiarity                       testing_error:\t\t\t0.02142993874774311\n",
      "artist_hotttnesss                        training_error:\t0.021238893507643818\n",
      "artist_hotttnesss                        testing_error:\t\t\t0.022749268586318712\n",
      "artist_hotttnesss artist_familiarity     training_error:\t0.020295593815473315\n",
      "artist_hotttnesss artist_familiarity     testing_error:\t\t\t0.021339939044369476\n"
     ]
    }
   ],
   "source": [
    "metadata = ['artist_familiarity', 'artist_hotttnesss', 'artist_hotttnesss artist_familiarity']\n",
    "\n",
    "for item in metadata:\n",
    "    X_cols = item\n",
    "    results = util.RunAndTestLinearRegModel(X_cols, training_DF, testing_DF)\n",
    "\n",
    "    #  [x][1] = Mean squared error regression loss (bc its the smallest value lol)\n",
    "    mserr_training = results[1][1]\n",
    "    mserr_testing = results[2][1]\n",
    "\n",
    "    print \"{:<40}\".format(item), \"training_error:\\t\", mserr_training\n",
    "    print \"{:<40}\".format(item), \"testing_error:\\t\\t\\t\", mserr_testing\n",
    "    # print \"The min error values were:\", min(results[1]), min(results[2])\n",
    "    # print \"std of hot is:\", results[3]\n",
    "    # -------------------------------------------------\n"
   ]
  },
  {
   "cell_type": "markdown",
   "metadata": {},
   "source": [
    "#### Conclusions?\n",
    "can see that a combination of both features perform better"
   ]
  },
  {
   "cell_type": "markdown",
   "metadata": {},
   "source": [
    "### using acoustic features "
   ]
  },
  {
   "cell_type": "code",
   "execution_count": 19,
   "metadata": {
    "scrolled": true
   },
   "outputs": [
    {
     "name": "stdout",
     "output_type": "stream",
     "text": [
      "segments_avg                             testing_error:\t\t\t0.028457186422077094\n",
      "tatums_avg                               testing_error:\t\t\t0.028180480371497084\n",
      "beats_avg                                testing_error:\t\t\t0.02811980102065815\n",
      "bars_avg                                 testing_error:\t\t\t0.028434217848738584\n",
      "sections_avg                             testing_error:\t\t\t0.02839814755945918\n",
      "segments_avg tatums_avg beats_avg bars_avg sections_avg  testing_error:\t\t\t0.02793461769772043\n",
      "key                                      testing_error:\t\t\t0.02845269047601641\n",
      "loudness                                 testing_error:\t\t\t0.02707379200876735\n",
      "duration                                 testing_error:\t\t\t0.02845381699716093\n",
      "tempo                                    testing_error:\t\t\t0.028159897678227058\n",
      "time_signature                           testing_error:\t\t\t0.028414960868019215\n",
      "key loudness duration tempo time_signature testing_error:\t\t\t0.026982405063956997\n",
      "key loudness duration tempo time_signature segments_avg tatums_avg beats_avg bars_avg sections_avg  testing_error:\t\t\t0.026714484351587266\n"
     ]
    }
   ],
   "source": [
    "allsegs = 'segments_avg tatums_avg beats_avg bars_avg sections_avg '\n",
    "allrawacous = 'key loudness duration tempo time_signature'\n",
    "\n",
    "raw_acous = []\n",
    "for each in allsegs.split():\n",
    "    raw_acous.append(each)\n",
    "\n",
    "raw_acous.append(allsegs)\n",
    "\n",
    "\n",
    "for each in allrawacous.split():\n",
    "    raw_acous.append(each)   \n",
    "raw_acous.append(allrawacous)\n",
    "raw_acous.append((allrawacous+ ' ' + allsegs))\n",
    "\n",
    "\n",
    "for item in raw_acous:\n",
    "    X_cols = item\n",
    "    results = util.RunAndTestLinearRegModel(X_cols, training_DF, testing_DF)\n",
    "\n",
    "    #  [x][1] = Mean squared error regression loss (bc its the smallest value lol)\n",
    "    mserr_training = results[1][1]\n",
    "    mserr_testing = results[2][1]\n",
    "\n",
    "#     print \"{:<60}\".format(item), \"training_error:\\t\", mserr_training\n",
    "    print \"{:<40}\".format(item), \"testing_error:\\t\\t\\t\", mserr_testing\n",
    "    # print \"The min error values were:\", min(results[1]), min(results[2])\n",
    "#     print \"std of hot is:\", results[3]\n",
    "    # -------------------------------------------------\n",
    "# print results[3]"
   ]
  },
  {
   "cell_type": "markdown",
   "metadata": {},
   "source": [
    "## Finding the best energy measure"
   ]
  },
  {
   "cell_type": "code",
   "execution_count": 20,
   "metadata": {},
   "outputs": [
    {
     "name": "stdout",
     "output_type": "stream",
     "text": [
      "energy1\n",
      "energy2\n",
      "energy3\n",
      "energy4\n",
      "energy1 energy2 energy3 energy4\n"
     ]
    }
   ],
   "source": [
    "energylsit = ['energy1', 'energy2', 'energy3', 'energy4', 'energy1 energy2 energy3 energy4']\n",
    "\n",
    "for item in energylsit:\n",
    "    X_cols = item\n",
    "    results = util.RunAndTestLinearRegModel(X_cols, training_DF, testing_DF)\n",
    "\n",
    "    #  [x][1] = Mean squared error regression loss (bc its the smallest value lol)\n",
    "    mserr_training = results[1][1]\n",
    "    mserr_testing = results[2][1]\n",
    "\n",
    "#     print \"{:<40}\".format(item), \"training_error:\\t\", mserr_training\n",
    "    print item\n",
    "    # print \"d1 testing_error\\t\", mserr_testing\n",
    "    # print \"The min error values were:\", min(results[1]), min(results[2])\n",
    "    # print \"std of hot is:\", results[3]\n",
    "    # -------------------------------------------------\n",
    "\n",
    "\n"
   ]
  },
  {
   "cell_type": "code",
   "execution_count": 21,
   "metadata": {
    "scrolled": true
   },
   "outputs": [
    {
     "name": "stdout",
     "output_type": "stream",
     "text": [
      "energy1 energy2 energy3 energy4 tatums_avg beats_avg                   training_error:\t0.021089367630256366\n",
      "energy1 energy2 energy3 energy4 tempo loudness                         training_error:\t0.020521568693150513\n",
      "energy1 energy2 energy3 energy4 tempo loudness tatums_avg beats_avg    training_error:\t0.02052106554974991\n"
     ]
    }
   ],
   "source": [
    "# Comparing acoustic results\n",
    "acous_compare = [\"energy1 energy2 energy3 energy4 tatums_avg beats_avg\", \n",
    "                 \"energy1 energy2 energy3 energy4 tempo loudness\", \n",
    "                 \"energy1 energy2 energy3 energy4 tempo loudness tatums_avg beats_avg\"]\n",
    "\n",
    "for item in acous_compare:\n",
    "    X_cols = item\n",
    "    results = util.RunAndTestLinearRegModel(X_cols, training_DF, testing_DF)\n",
    "\n",
    "    #  [x][1] = Mean squared error regression loss (bc its the smallest value lol)\n",
    "    mserr_training = results[1][1]\n",
    "    mserr_testing = results[2][1]\n",
    "\n",
    "    print \"{:<70}\".format(item), \"training_error:\\t\", mserr_training\n",
    "    # print \"d1 testing_error\\t\", mserr_testing\n",
    "    # print \"The min error values were:\", min(results[1]), min(results[2])\n",
    "    # print \"std of hot is:\", results[3]\n",
    "    # -------------------------------------------------\n",
    "\n",
    "\n",
    "\n"
   ]
  },
  {
   "cell_type": "markdown",
   "metadata": {},
   "source": [
    "## lets play with the dance measure now"
   ]
  },
  {
   "cell_type": "code",
   "execution_count": 22,
   "metadata": {},
   "outputs": [
    {
     "name": "stdout",
     "output_type": "stream",
     "text": [
      "dance1                                   training_error:\t0.023006615151422\n",
      "dance2                                   training_error:\t0.022262816360753654\n",
      "dance3                                   training_error:\t0.024228863127340797\n",
      "dance4                                   training_error:\t0.024297983871834624\n",
      "dance1 dance2 dance3 dance4              training_error:\t0.021928343537768374\n"
     ]
    }
   ],
   "source": [
    "dancelist = ['dance1', 'dance2', 'dance3', 'dance4', 'dance1 dance2 dance3 dance4']\n",
    "\n",
    "for item in dancelist:\n",
    "    # dance1\n",
    "    X_cols = item\n",
    "    results = util.RunAndTestLinearRegModel(X_cols, training_DF, testing_DF)\n",
    "\n",
    "    #  [x][1] = Mean squared error regression loss (bc its the smallest value lol)\n",
    "    mserr_training = results[1][1]\n",
    "    mserr_testing = results[2][1]\n",
    "\n",
    "    print \"{:<40}\".format(item), \"training_error:\\t\", mserr_training\n",
    "#     print item\n",
    "    # print \"d1 testing_error\\t\", mserr_testing\n",
    "    # print \"The min error values were:\", min(results[1]), min(results[2])\n",
    "    # print \"std of hot is:\", results[3]\n",
    "    # -------------------------------------------------\n",
    "\n",
    "\n"
   ]
  },
  {
   "cell_type": "code",
   "execution_count": 23,
   "metadata": {},
   "outputs": [
    {
     "name": "stdout",
     "output_type": "stream",
     "text": [
      "dance1 dance2 dance3 dance4                                            testing_error:\t\t0.022512001244532513\n",
      "energy1 energy2 energy3 energy4                                        testing_error:\t\t0.021322151342341906\n",
      "dance1 dance2 dance3 dance4 energy1 energy2 energy3 energy4            testing_error:\t\t0.020914384178874878\n",
      "artist_familiarity artist_hotttnesss                                   testing_error:\t\t0.021339939044369476\n",
      "alleng alldance allmeta                                                testing_error:\t\t0.020902199348699035\n"
     ]
    }
   ],
   "source": [
    "dancelist = 'dance1 dance2 dance3 dance4 '\n",
    "energylist = 'energy1 energy2 energy3 energy4 '\n",
    "\n",
    "acousitc =[]\n",
    "acousitc.append(dancelist)\n",
    "acousitc.append(energylist)\n",
    "acousitc.append(dancelist+energylist)\n",
    "acousitc.append(\"artist_familiarity artist_hotttnesss\")\n",
    "acousitc.append(dancelist+energylist+\"artist_familiarity artist_hotttnesss\")\n",
    "\n",
    "for item in acousitc:\n",
    "    # dance1\n",
    "    X_cols = item\n",
    "    results = util.RunAndTestLinearRegModel(X_cols, training_DF, testing_DF)\n",
    "\n",
    "    #  [x][1] = Mean squared error regression loss (bc its the smallest value lol)\n",
    "    mserr_training = results[1][1]\n",
    "    mserr_testing = results[2][1]\n",
    "\n",
    "    if(len(item)>70):\n",
    "        item='alleng alldance allmeta'\n",
    "    \n",
    "#     print \"{:<70}\".format(item), \"training_error:\\t\", mserr_training\n",
    "    print \"{:<70}\".format(item), \"testing_error:\\t\\t\", mserr_testing\n",
    "    # print \"The min error values were:\", min(results[1]), min(results[2])\n",
    "    # print \"std of hot is:\", results[3]\n",
    "    # -------------------------------------------------\n",
    "\n",
    "\n"
   ]
  },
  {
   "cell_type": "code",
   "execution_count": 24,
   "metadata": {},
   "outputs": [
    {
     "name": "stdout",
     "output_type": "stream",
     "text": [
      "alleng alldance allmeta                                                training_error:\t0.01988942736648771\n",
      "alleng alldance allmeta                                                training_error:\t\t0.020902199348699035\n",
      "std of hot is:\t\t0.1679281094688551\n",
      "12.447111692504151\n"
     ]
    }
   ],
   "source": [
    "finalset = [dancelist+energylist+\"artist_familiarity artist_hotttnesss\"]\n",
    "\n",
    "for item in finalset:\n",
    "    X_cols = item\n",
    "    results = util.RunAndTestLinearRegModel(X_cols, training_DF, testing_DF)\n",
    "\n",
    "    #  [x][1] = Mean squared error regression loss (bc its the smallest value lol)\n",
    "    mserr_training = results[1][1]\n",
    "    mserr_testing = results[2][1]\n",
    "\n",
    "    if(len(item)>70):\n",
    "        item='alleng alldance allmeta'\n",
    "    \n",
    "    print \"{:<70}\".format(item), \"training_error:\\t\", mserr_training\n",
    "    print \"{:<70}\".format(item), \"training_error:\\t\\t\", mserr_testing\n",
    "    # print \"The min error values were:\", min(results[1]), min(results[2])\n",
    "    print \"std of hot is:\\t\\t\", results[3]\n",
    "    print mserr_testing/results[3]*100\n",
    "    # -------------------------------------------------\n",
    "\n"
   ]
  },
  {
   "cell_type": "code",
   "execution_count": null,
   "metadata": {},
   "outputs": [],
   "source": []
  },
  {
   "cell_type": "markdown",
   "metadata": {},
   "source": [
    "## THROW IT ALL IN THERE \n"
   ]
  },
  {
   "cell_type": "code",
   "execution_count": 25,
   "metadata": {},
   "outputs": [
    {
     "name": "stdout",
     "output_type": "stream",
     "text": [
      "allfeatures                                                            training_error:\t0.019739023142623494\n",
      "allfeatures                                                            training_error:\t0.020922138808010943\n"
     ]
    }
   ],
   "source": [
    "rawacoustic = \" key loudness duration tempo time_signature segments_avg tatums_avg beats_avg bars_avg sections_avg  \"\n",
    "above = ' dance1 dance2 dance3 dance4 energy1 energy2 energy3 energy4 artist_familiarity artist_hotttnesss  '\n",
    "actual_all = [rawacoustic+above]\n",
    "\n",
    "for item in actual_all:\n",
    "    X_cols = item\n",
    "    results = util.RunAndTestLinearRegModel(X_cols, training_DF, testing_DF)\n",
    "\n",
    "    #  [x][1] = Mean squared error regression loss (bc its the smallest value lol)\n",
    "    mserr_training = results[1][1]\n",
    "    mserr_testing = results[2][1]\n",
    "\n",
    "    if(len(item)>70):\n",
    "        item=\"allfeatures\"\n",
    "    \n",
    "    print \"{:<70}\".format(item), \"training_error:\\t\", mserr_training\n",
    "    print \"{:<70}\".format(item), \"training_error:\\t\", mserr_testing\n",
    "    # print \"The min error values were:\", min(results[1]), min(results[2])\n",
    "    # print \"std of hot is:\", results[3]\n",
    "    # -------------------------------------------------\n"
   ]
  },
  {
   "cell_type": "code",
   "execution_count": null,
   "metadata": {},
   "outputs": [],
   "source": []
  },
  {
   "cell_type": "code",
   "execution_count": null,
   "metadata": {},
   "outputs": [],
   "source": []
  },
  {
   "cell_type": "code",
   "execution_count": null,
   "metadata": {},
   "outputs": [],
   "source": []
  },
  {
   "cell_type": "code",
   "execution_count": null,
   "metadata": {},
   "outputs": [],
   "source": []
  }
 ],
 "metadata": {
  "kernelspec": {
   "display_name": "Python 2",
   "language": "python",
   "name": "python2"
  },
  "language_info": {
   "codemirror_mode": {
    "name": "ipython",
    "version": 2
   },
   "file_extension": ".py",
   "mimetype": "text/x-python",
   "name": "python",
   "nbconvert_exporter": "python",
   "pygments_lexer": "ipython2",
   "version": "2.7.16"
  }
 },
 "nbformat": 4,
 "nbformat_minor": 2
}
