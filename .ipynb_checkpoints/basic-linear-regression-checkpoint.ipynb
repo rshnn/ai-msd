{
 "cells": [
  {
   "cell_type": "markdown",
   "metadata": {},
   "source": [
    "# Basic Linear Regression Model"
   ]
  },
  {
   "cell_type": "code",
   "execution_count": 1,
   "metadata": {},
   "outputs": [
    {
     "name": "stdout",
     "output_type": "stream",
     "text": [
      "This jupyter notebook was executed with:\n",
      "2.7.14 |Anaconda custom (64-bit)| (default, Oct 16 2017, 17:29:19) \n",
      "[GCC 7.2.0]\n"
     ]
    }
   ],
   "source": [
    "import sys\n",
    "ver_info = sys.version\n",
    "print(\"This jupyter notebook was executed with:\\n{0}\".format(ver_info));\n"
   ]
  },
  {
   "cell_type": "markdown",
   "metadata": {},
   "source": [
    "## Imports"
   ]
  },
  {
   "cell_type": "code",
   "execution_count": 2,
   "metadata": {},
   "outputs": [
    {
     "name": "stderr",
     "output_type": "stream",
     "text": [
      "/home/ronak/anaconda2/lib/python2.7/site-packages/pandas/core/computation/__init__.py:18: UserWarning: The installed version of numexpr 2.2.2 is not supported in pandas and will be not be used\n",
      "The minimum supported version is 2.4.6\n",
      "\n",
      "  ver=ver, min_ver=_MIN_NUMEXPR_VERSION), UserWarning)\n"
     ]
    }
   ],
   "source": [
    "import numpy as np\n",
    "import matplotlib as mpl\n",
    "import matplotlib.pyplot as plt\n",
    "import pandas as pd\n",
    "from scipy import stats, integrate\n",
    "import seaborn as sns\n",
    "\n",
    "import pprint\n",
    "p = pprint.PrettyPrinter(indent=4)\n",
    "\n",
    "import config as config\n",
    "\n",
    "%matplotlib inline\n"
   ]
  },
  {
   "cell_type": "markdown",
   "metadata": {},
   "source": [
    "## Importing utilities object\n",
    "+ imports dataset as lists (a training and test set)\n"
   ]
  },
  {
   "cell_type": "code",
   "execution_count": 39,
   "metadata": {
    "collapsed": true
   },
   "outputs": [],
   "source": [
    "%run utilities.py\n",
    "util = Utilities({}, use_json=False)\n",
    "training_list, testing_list = util.get_datasets()\n",
    "\n",
    "# turning the datasets into pandas DataFrames \n",
    "training_DF, testing_DF = util.create_dataframes(training_list, testing_list)\n",
    "\n",
    "# generate the energy and dance measures \n",
    "training_DF, testing_DF = util.generate_energy_measure(training_DF, testing_DF)\n",
    "training_DF, testing_DF = util.generate_dance_measure(training_DF, testing_DF)\n"
   ]
  },
  {
   "cell_type": "markdown",
   "metadata": {},
   "source": [
    "# Makin Linear Reg Learners!"
   ]
  },
  {
   "cell_type": "code",
   "execution_count": 4,
   "metadata": {
    "collapsed": true
   },
   "outputs": [],
   "source": [
    "from sklearn.linear_model import LinearRegression\n",
    "from sklearn import metrics \n",
    "# Look at utilities.py for RunAndTestLinearRegModel() "
   ]
  },
  {
   "cell_type": "markdown",
   "metadata": {},
   "source": [
    "### using metadata (familiarity and artist_hott)"
   ]
  },
  {
   "cell_type": "code",
   "execution_count": 5,
   "metadata": {},
   "outputs": [
    {
     "name": "stdout",
     "output_type": "stream",
     "text": [
      "0.257759453285\n",
      "0.229069025657\n",
      "(LinearRegression(copy_X=True, fit_intercept=True, n_jobs=1, normalize=False), (0.11820472422468073, 0.020696194016284818, 0.14386171838360898), (0.12213984332468682, 0.022448121260793208, 0.14982697107261164), 0.16792575913061697)\n",
      "artist_familiarity                       training_error:\t0.0206961940163\n",
      "artist_familiarity                       testing_error:\t\t\t0.0224481212608\n",
      "0.230903735477\n",
      "0.239690819697\n",
      "(LinearRegression(copy_X=True, fit_intercept=True, n_jobs=1, normalize=False), (0.12107324471027003, 0.021445022881349616, 0.14644119257008806), (0.12325936002677913, 0.022138833751855987, 0.14879124218802661), 0.16792575913061697)\n",
      "artist_hotttnesss                        training_error:\t0.0214450228813\n",
      "artist_hotttnesss                        testing_error:\t\t\t0.0221388337519\n",
      "0.273957607071\n",
      "0.261383549338\n",
      "(LinearRegression(copy_X=True, fit_intercept=True, n_jobs=1, normalize=False), (0.11690619461123085, 0.020244534328675932, 0.14228328900006471), (0.12005688677609087, 0.021507180540789733, 0.14665326638295423), 0.16792575913061697)\n",
      "artist_hotttnesss artist_familiarity     training_error:\t0.0202445343287\n",
      "artist_hotttnesss artist_familiarity     testing_error:\t\t\t0.0215071805408\n"
     ]
    }
   ],
   "source": [
    "metadata = ['artist_familiarity', 'artist_hotttnesss', 'artist_hotttnesss artist_familiarity']\n",
    "\n",
    "for item in metadata:\n",
    "    X_cols = item\n",
    "    results = util.RunAndTestLinearRegModel(X_cols, training_DF, testing_DF)\n",
    "    print results\n",
    "    #  [x][1] = Mean squared error regression loss (bc its the smallest value lol)\n",
    "    mserr_training = results[1][1]\n",
    "    mserr_testing = results[2][1]\n",
    "\n",
    "    print \"{:<40}\".format(item), \"training_error:\\t\", mserr_training\n",
    "    print \"{:<40}\".format(item), \"testing_error:\\t\\t\\t\", mserr_testing\n",
    "    # print \"The min error values were:\", min(results[1]), min(results[2])\n",
    "    # print \"std of hot is:\", results[3]\n",
    "    # -------------------------------------------------\n"
   ]
  },
  {
   "cell_type": "markdown",
   "metadata": {},
   "source": [
    "#### Conclusions?\n",
    "can see that a combination of both features perform better"
   ]
  },
  {
   "cell_type": "markdown",
   "metadata": {},
   "source": [
    "### using acoustic features "
   ]
  },
  {
   "cell_type": "code",
   "execution_count": 7,
   "metadata": {},
   "outputs": [
    {
     "name": "stdout",
     "output_type": "stream",
     "text": [
      "0.000892686527032\n",
      "-0.00124168653543\n",
      "segments_avg                                                 training_error:\t0.0278585141896\n",
      "0.0108613108102\n",
      "0.00247782814445\n",
      "tatums_avg                                                   training_error:\t0.0275805549981\n",
      "0.00807847581699\n",
      "-0.00125946894654\n",
      "beats_avg                                                    training_error:\t0.0276581499142\n",
      "0.000683020588159\n",
      "-0.000718366399362\n",
      "bars_avg                                                     training_error:\t0.0278643603899\n",
      "0.00229772673562\n",
      "0.000112281134306\n",
      "sections_avg                                                 training_error:\t0.0278193368839\n",
      "0.0226225704259\n",
      "-0.000819707609975\n",
      "segments_avg tatums_avg beats_avg bars_avg sections_avg      training_error:\t0.027252611029\n",
      "0.000155924403092\n",
      "-0.000267163686666\n",
      "key                                                          training_error:\t0.0278790576265\n",
      "0.0405493012897\n",
      "0.0524462781841\n",
      "loudness                                                     training_error:\t0.0267527527261\n",
      "0.000101032618952\n",
      "-0.000583641984639\n",
      "duration                                                     training_error:\t0.0278805881964\n",
      "0.00620011392559\n",
      "0.000819214258406\n",
      "tempo                                                        training_error:\t0.0277105250402\n",
      "0.00158366574801\n",
      "0.00171576345553\n",
      "time_signature                                               training_error:\t0.0278392473359\n",
      "0.0438321774549\n",
      "0.0490173128993\n",
      "key loudness duration tempo time_signature                   training_error:\t0.0266612149594\n",
      "0.167925759131\n"
     ]
    }
   ],
   "source": [
    "allsegs = 'segments_avg tatums_avg beats_avg bars_avg sections_avg '\n",
    "allrawacous = 'key loudness duration tempo time_signature'\n",
    "\n",
    "raw_acous = []\n",
    "for each in allsegs.split():\n",
    "    raw_acous.append(each)\n",
    "\n",
    "raw_acous.append(allsegs)\n",
    "\n",
    "for each in allrawacous.split():\n",
    "    raw_acous.append(each)   \n",
    "raw_acous.append(allrawacous)\n",
    "\n",
    "for item in raw_acous:\n",
    "    X_cols = item\n",
    "    results = util.RunAndTestLinearRegModel(X_cols, training_DF, testing_DF)\n",
    "\n",
    "    #  [x][1] = Mean squared error regression loss (bc its the smallest value lol)\n",
    "    mserr_training = results[1][1]\n",
    "    mserr_testing = results[2][1]\n",
    "\n",
    "    print \"{:<60}\".format(item), \"training_error:\\t\", mserr_training\n",
    "#     print \"{:<40}\".format(item), \"testing_error:\\t\\t\\t\", mserr_testing\n",
    "    # print \"The min error values were:\", min(results[1]), min(results[2])\n",
    "#     print \"std of hot is:\", results[3]\n",
    "    # -------------------------------------------------\n",
    "print results[3]"
   ]
  },
  {
   "cell_type": "code",
   "execution_count": 8,
   "metadata": {},
   "outputs": [
    {
     "data": {
      "text/plain": [
       "11.910203208423416"
      ]
     },
     "execution_count": 8,
     "metadata": {},
     "output_type": "execute_result"
    }
   ],
   "source": [
    "0.02/0.167923247404*100"
   ]
  },
  {
   "cell_type": "markdown",
   "metadata": {},
   "source": [
    "## Finding the best energy measure"
   ]
  },
  {
   "cell_type": "code",
   "execution_count": 9,
   "metadata": {},
   "outputs": [
    {
     "name": "stdout",
     "output_type": "stream",
     "text": [
      "0.247648184537\n",
      "0.242628529697\n",
      "energy1                                  training_error:\t0.0209781306212\n",
      "0.21854476571\n",
      "0.199347721655\n",
      "energy2                                  training_error:\t0.0217896330448\n",
      "0.238214096603\n",
      "0.227968275102\n",
      "energy3                                  training_error:\t0.021241185119\n",
      "0.175033553416\n",
      "0.155648000228\n",
      "energy4                                  training_error:\t0.0230028738136\n",
      "0.24956606931\n",
      "0.241873319948\n",
      "energy1 energy2 energy3 energy4          training_error:\t0.0209246534627\n"
     ]
    }
   ],
   "source": [
    "energylsit = ['energy1', 'energy2', 'energy3', 'energy4', 'energy1 energy2 energy3 energy4']\n",
    "\n",
    "for item in energylsit:\n",
    "    X_cols = item\n",
    "    results = util.RunAndTestLinearRegModel(X_cols, training_DF, testing_DF)\n",
    "\n",
    "    #  [x][1] = Mean squared error regression loss (bc its the smallest value lol)\n",
    "    mserr_training = results[1][1]\n",
    "    mserr_testing = results[2][1]\n",
    "\n",
    "    print \"{:<40}\".format(item), \"training_error:\\t\", mserr_training\n",
    "    # print \"d1 testing_error\\t\", mserr_testing\n",
    "    # print \"The min error values were:\", min(results[1]), min(results[2])\n",
    "    # print \"std of hot is:\", results[3]\n",
    "    # -------------------------------------------------\n",
    "\n",
    "\n"
   ]
  },
  {
   "cell_type": "code",
   "execution_count": 10,
   "metadata": {
    "scrolled": true
   },
   "outputs": [
    {
     "name": "stdout",
     "output_type": "stream",
     "text": [
      "0.251261519755\n",
      "0.244211703531\n",
      "energy1 energy2 energy3 energy4 tatums_avg beats_avg                   training_error:\t0.0208773785307\n",
      "0.274408851513\n",
      "0.249058123149\n",
      "energy1 energy2 energy3 energy4 tempo loudness                         training_error:\t0.020231952097\n",
      "0.274615041856\n",
      "0.248481804235\n",
      "energy1 energy2 energy3 energy4 tempo loudness tatums_avg beats_avg    training_error:\t0.0202262028081\n"
     ]
    }
   ],
   "source": [
    "# Comparing acoustic results\n",
    "acous_compare = [\"energy1 energy2 energy3 energy4 tatums_avg beats_avg\", \n",
    "                 \"energy1 energy2 energy3 energy4 tempo loudness\", \n",
    "                 \"energy1 energy2 energy3 energy4 tempo loudness tatums_avg beats_avg\"]\n",
    "\n",
    "for item in acous_compare:\n",
    "    X_cols = item\n",
    "    results = util.RunAndTestLinearRegModel(X_cols, training_DF, testing_DF)\n",
    "\n",
    "    #  [x][1] = Mean squared error regression loss (bc its the smallest value lol)\n",
    "    mserr_training = results[1][1]\n",
    "    mserr_testing = results[2][1]\n",
    "\n",
    "    print \"{:<70}\".format(item), \"training_error:\\t\", mserr_training\n",
    "    # print \"d1 testing_error\\t\", mserr_testing\n",
    "    # print \"The min error values were:\", min(results[1]), min(results[2])\n",
    "    # print \"std of hot is:\", results[3]\n",
    "    # -------------------------------------------------\n",
    "\n",
    "\n",
    "\n"
   ]
  },
  {
   "cell_type": "markdown",
   "metadata": {},
   "source": [
    "## lets play with the dance measure now"
   ]
  },
  {
   "cell_type": "code",
   "execution_count": 11,
   "metadata": {},
   "outputs": [
    {
     "name": "stdout",
     "output_type": "stream",
     "text": [
      "0.177931831207\n",
      "0.190498914474\n",
      "dance1                                   training_error:\t0.0229220599592\n",
      "0.204373773047\n",
      "0.213208102282\n",
      "dance2                                   training_error:\t0.0221847685772\n",
      "0.148131605021\n",
      "0.133664591171\n",
      "dance3                                   training_error:\t0.0237529917449\n",
      "0.147023628541\n",
      "0.128476419809\n",
      "dance4                                   training_error:\t0.0237838859021\n",
      "0.215834367672\n",
      "0.220552547393\n",
      "dance1 dance2 dance3 dance4              training_error:\t0.0218652081719\n"
     ]
    }
   ],
   "source": [
    "dancelist = ['dance1', 'dance2', 'dance3', 'dance4', 'dance1 dance2 dance3 dance4']\n",
    "\n",
    "for item in dancelist:\n",
    "    # dance1\n",
    "    X_cols = item\n",
    "    results = util.RunAndTestLinearRegModel(X_cols, training_DF, testing_DF)\n",
    "\n",
    "    #  [x][1] = Mean squared error regression loss (bc its the smallest value lol)\n",
    "    mserr_training = results[1][1]\n",
    "    mserr_testing = results[2][1]\n",
    "\n",
    "    print \"{:<40}\".format(item), \"training_error:\\t\", mserr_training\n",
    "    # print \"d1 testing_error\\t\", mserr_testing\n",
    "    # print \"The min error values were:\", min(results[1]), min(results[2])\n",
    "    # print \"std of hot is:\", results[3]\n",
    "    # -------------------------------------------------\n",
    "\n",
    "\n"
   ]
  },
  {
   "cell_type": "code",
   "execution_count": 12,
   "metadata": {},
   "outputs": [
    {
     "name": "stdout",
     "output_type": "stream",
     "text": [
      "0.215834367672\n",
      "0.220552547393\n",
      "dance1 dance2 dance3 dance4                                            training_error:\t0.0218652081719\n",
      "0.24956606931\n",
      "0.241873319948\n",
      "energy1 energy2 energy3 energy4                                        training_error:\t0.0209246534627\n",
      "0.275459694276\n",
      "0.270364099157\n",
      "dance1 dance2 dance3 dance4 energy1 energy2 energy3 energy4            training_error:\t0.0202026510223\n",
      "0.273957607071\n",
      "0.261383549338\n",
      "artist_familiarity artist_hotttnesss                                   training_error:\t0.0202445343287\n",
      "0.288873692876\n",
      "0.276540371315\n",
      "alleng alldance allmeta                                                training_error:\t0.0198286230622\n"
     ]
    }
   ],
   "source": [
    "dancelist = 'dance1 dance2 dance3 dance4 '\n",
    "energylist = 'energy1 energy2 energy3 energy4 '\n",
    "\n",
    "acousitc =[]\n",
    "acousitc.append(dancelist)\n",
    "acousitc.append(energylist)\n",
    "acousitc.append(dancelist+energylist)\n",
    "acousitc.append(\"artist_familiarity artist_hotttnesss\")\n",
    "acousitc.append(dancelist+energylist+\"artist_familiarity artist_hotttnesss\")\n",
    "\n",
    "for item in acousitc:\n",
    "    # dance1\n",
    "    X_cols = item\n",
    "    results = util.RunAndTestLinearRegModel(X_cols, training_DF, testing_DF)\n",
    "\n",
    "    #  [x][1] = Mean squared error regression loss (bc its the smallest value lol)\n",
    "    mserr_training = results[1][1]\n",
    "    mserr_testing = results[2][1]\n",
    "\n",
    "    if(len(item)>70):\n",
    "        item='alleng alldance allmeta'\n",
    "    \n",
    "    print \"{:<70}\".format(item), \"training_error:\\t\", mserr_training\n",
    "#     print \"{:<70}\".format(item), \"training_error:\\t\\t\", mserr_testing\n",
    "    # print \"The min error values were:\", min(results[1]), min(results[2])\n",
    "    # print \"std of hot is:\", results[3]\n",
    "    # -------------------------------------------------\n",
    "\n",
    "\n"
   ]
  },
  {
   "cell_type": "code",
   "execution_count": 13,
   "metadata": {},
   "outputs": [
    {
     "name": "stdout",
     "output_type": "stream",
     "text": [
      "0.288873692876\n",
      "0.276540371315\n",
      "alleng alldance allmeta                                                training_error:\t0.0198286230622\n",
      "alleng alldance allmeta                                                training_error:\t\t0.0210658411875\n",
      "std of hot is:\t\t0.167925759131\n",
      "12.544734826\n"
     ]
    }
   ],
   "source": [
    "finalset = [dancelist+energylist+\"artist_familiarity artist_hotttnesss\"]\n",
    "\n",
    "for item in finalset:\n",
    "    X_cols = item\n",
    "    results = util.RunAndTestLinearRegModel(X_cols, training_DF, testing_DF)\n",
    "\n",
    "    #  [x][1] = Mean squared error regression loss (bc its the smallest value lol)\n",
    "    mserr_training = results[1][1]\n",
    "    mserr_testing = results[2][1]\n",
    "\n",
    "    if(len(item)>70):\n",
    "        item='alleng alldance allmeta'\n",
    "    \n",
    "    print \"{:<70}\".format(item), \"training_error:\\t\", mserr_training\n",
    "    print \"{:<70}\".format(item), \"training_error:\\t\\t\", mserr_testing\n",
    "    # print \"The min error values were:\", min(results[1]), min(results[2])\n",
    "    print \"std of hot is:\\t\\t\", results[3]\n",
    "    print mserr_testing/results[3]*100\n",
    "    # -------------------------------------------------\n",
    "\n"
   ]
  },
  {
   "cell_type": "code",
   "execution_count": null,
   "metadata": {
    "collapsed": true
   },
   "outputs": [],
   "source": []
  },
  {
   "cell_type": "markdown",
   "metadata": {},
   "source": [
    "## THROW IT ALL IN THERE \n"
   ]
  },
  {
   "cell_type": "code",
   "execution_count": 22,
   "metadata": {},
   "outputs": [
    {
     "name": "stdout",
     "output_type": "stream",
     "text": [
      "Score for Training: \t0.286145232424\n",
      "Score for Testing: \t0.288867410552\n",
      "allfeatures                                                            training_error:\t0.0201135742009\n",
      "allfeatures                                                            training_error:\t0.0200105582837\n"
     ]
    }
   ],
   "source": [
    "all_features = [dancelist+energylist+'tempo loudness tatums_avg beats_avg'+\" artist_familiarity artist_hotttnesss\"]\n",
    "\n",
    "for item in all_features:\n",
    "    X_cols = item\n",
    "    results = util.RunAndTestLinearRegModel(X_cols, training_DF, testing_DF)\n",
    "\n",
    "    #  [x][1] = Mean squared error regression loss (bc its the smallest value lol)\n",
    "    mserr_training = results[1][1]\n",
    "    mserr_testing = results[2][1]\n",
    "\n",
    "    if(len(item)>70):\n",
    "        item=\"allfeatures\"\n",
    "    \n",
    "    print \"{:<70}\".format(item), \"training_error:\\t\", mserr_training\n",
    "    print \"{:<70}\".format(item), \"training_error:\\t\", mserr_testing\n",
    "    # print \"The min error values were:\", min(results[1]), min(results[2])\n",
    "    # print \"std of hot is:\", results[3]\n",
    "    # -------------------------------------------------\n"
   ]
  },
  {
   "cell_type": "markdown",
   "metadata": {},
   "source": [
    "# KNN STUFF"
   ]
  },
  {
   "cell_type": "markdown",
   "metadata": {},
   "source": [
    "### using metadata (familiarity and artist_hott)"
   ]
  },
  {
   "cell_type": "code",
   "execution_count": 47,
   "metadata": {},
   "outputs": [
    {
     "name": "stdout",
     "output_type": "stream",
     "text": [
      "Score for Training: \t0.547496790757\n",
      "Score for Testing: \t0.275529865125\n",
      "artist_familiarity                       training_error:\t\t0.0335744356211\n",
      "artist_familiarity                       testing_error:\t\t\t0.0433221522441\n",
      "artist_familiarity                       discrete training_error:\t0.0248876765083\n",
      "artist_familiarity                       discrete testing_error:\t0.0346531791908\n",
      "\n",
      "Score for Training: \t0.551668806162\n",
      "Score for Testing: \t0.2591522158\n",
      "artist_hotttnesss                        training_error:\t\t0.0340256567354\n",
      "artist_hotttnesss                        testing_error:\t\t\t0.0460462486485\n",
      "artist_hotttnesss                        discrete training_error:\t0.0254749679076\n",
      "artist_hotttnesss                        discrete testing_error:\t0.0371579961464\n",
      "\n",
      "Score for Training: \t0.548459563543\n",
      "Score for Testing: \t0.281310211946\n",
      "artist_hotttnesss artist_familiarity     training_error:\t\t0.0325157355157\n",
      "artist_hotttnesss artist_familiarity     testing_error:\t\t\t0.0419812007135\n",
      "artist_hotttnesss artist_familiarity     discrete training_error:\t0.0241238767651\n",
      "artist_hotttnesss artist_familiarity     discrete testing_error:\t0.0329479768786\n",
      "\n"
     ]
    }
   ],
   "source": [
    "metadata = ['artist_familiarity', 'artist_hotttnesss', 'artist_hotttnesss artist_familiarity']\n",
    "\n",
    "for item in metadata:\n",
    "    X_cols = item\n",
    "    results = util.RunAndTestKNNModel(X_cols, training_DF, testing_DF)\n",
    "\n",
    "    #  [x][1] = Mean squared error regression loss (bc its the smallest value lol)\n",
    "    mserr_training = results[1][1]\n",
    "    mserr_testing = results[2][1]\n",
    "    discrete_mserr_training = results[4][1]\n",
    "    discrete_mserr_testing = results[5][1]\n",
    "\n",
    "    print \"{:<40}\".format(item), \"training_error:\\t\\t\", mserr_training\n",
    "    print \"{:<40}\".format(item), \"testing_error:\\t\\t\\t\", mserr_testing\n",
    "    print \"{:<40}\".format(item), \"discrete training_error:\\t\", discrete_mserr_training\n",
    "    print \"{:<40}\".format(item), \"discrete testing_error:\\t\", discrete_mserr_testing\n",
    "    print \"\"\n",
    "    # print \"The min error values were:\", min(results[1]), min(results[2])\n",
    "    # print \"std of hot is:\", results[3]\n",
    "    # -------------------------------------------------"
   ]
  },
  {
   "cell_type": "markdown",
   "metadata": {},
   "source": [
    "### using acoustic features "
   ]
  },
  {
   "cell_type": "code",
   "execution_count": 50,
   "metadata": {},
   "outputs": [
    {
     "name": "stdout",
     "output_type": "stream",
     "text": [
      "Score for Training: \t0.500641848524\n",
      "Score for Testing: \t0.176300578035\n",
      "segments_avg                                                 training_error:\t\t0.0524303039622\n",
      "segments_avg                                                 testing_error:\t\t0.0683258090829\n",
      "segments_avg                                                 discrete training_error:\t0.0400898587933\n",
      "segments_avg                                                 discrete testing_error:\t0.0562716763006\n",
      "\n",
      "Score for Training: \t0.491335044929\n",
      "Score for Testing: \t0.184007707129\n",
      "tatums_avg                                                   training_error:\t\t0.0521997292321\n",
      "tatums_avg                                                   testing_error:\t\t0.065075683163\n",
      "tatums_avg                                                   discrete training_error:\t0.0402342747112\n",
      "tatums_avg                                                   discrete testing_error:\t0.0531599229287\n",
      "\n",
      "Score for Training: \t0.502246469833\n",
      "Score for Testing: \t0.158959537572\n",
      "beats_avg                                                    training_error:\t\t0.054042224259\n",
      "beats_avg                                                    testing_error:\t\t0.0686245173775\n",
      "beats_avg                                                    discrete training_error:\t0.0416784338896\n",
      "beats_avg                                                    discrete testing_error:\t0.0562909441233\n",
      "\n",
      "Score for Training: \t0.490051347882\n",
      "Score for Testing: \t0.210019267823\n",
      "bars_avg                                                     training_error:\t\t0.0539515475841\n",
      "bars_avg                                                     testing_error:\t\t0.0692829985027\n",
      "bars_avg                                                     discrete training_error:\t0.0415372272144\n",
      "bars_avg                                                     discrete testing_error:\t0.0562813102119\n",
      "\n",
      "Score for Training: \t0.490693196406\n",
      "Score for Testing: \t0.196531791908\n",
      "sections_avg                                                 training_error:\t\t0.0545291809314\n",
      "sections_avg                                                 testing_error:\t\t0.068824530068\n",
      "sections_avg                                                 discrete training_error:\t0.0417811296534\n",
      "sections_avg                                                 discrete testing_error:\t0.0560693641618\n",
      "\n",
      "Score for Training: \t0.495507060334\n",
      "Score for Testing: \t0.184007707129\n",
      "segments_avg tatums_avg beats_avg bars_avg sections_avg      training_error:\t\t0.0533264308901\n",
      "segments_avg tatums_avg beats_avg bars_avg sections_avg      testing_error:\t\t0.068514701254\n",
      "segments_avg tatums_avg beats_avg bars_avg sections_avg      discrete training_error:\t0.0408697047497\n",
      "segments_avg tatums_avg beats_avg bars_avg sections_avg      discrete testing_error:\t0.056676300578\n",
      "\n",
      "Score for Training: \t0.200577663671\n",
      "Score for Testing: \t0.18978805395\n",
      "key                                                          training_error:\t\t0.0650752837736\n",
      "key                                                          testing_error:\t\t0.0629711045431\n",
      "key                                                          discrete training_error:\t0.0533664955071\n",
      "key                                                          discrete testing_error:\t0.0511560693642\n",
      "\n",
      "Score for Training: \t0.497111681643\n",
      "Score for Testing: \t0.197495183044\n",
      "loudness                                                     training_error:\t\t0.0514752135081\n",
      "loudness                                                     testing_error:\t\t0.0661051897282\n",
      "loudness                                                     discrete training_error:\t0.0392747111682\n",
      "loudness                                                     discrete testing_error:\t0.054161849711\n",
      "\n",
      "Score for Training: \t0.48459563543\n",
      "Score for Testing: \t0.21098265896\n",
      "duration                                                     training_error:\t\t0.0544813176318\n",
      "duration                                                     testing_error:\t\t0.065497780758\n",
      "duration                                                     discrete training_error:\t0.0420410783055\n",
      "duration                                                     discrete testing_error:\t0.0535260115607\n",
      "\n",
      "Score for Training: \t0.499358151476\n",
      "Score for Testing: \t0.19267822736\n",
      "tempo                                                        training_error:\t\t0.0526616470613\n",
      "tempo                                                        testing_error:\t\t0.0681462736682\n",
      "tempo                                                        discrete training_error:\t0.0401508344031\n",
      "tempo                                                        discrete testing_error:\t0.0556262042389\n",
      "\n",
      "Score for Training: \t0.218549422336\n",
      "Score for Testing: \t0.208092485549\n",
      "time_signature                                               training_error:\t\t0.0880903968966\n",
      "time_signature                                               testing_error:\t\t0.087735062421\n",
      "time_signature                                               discrete training_error:\t0.0674358151476\n",
      "time_signature                                               discrete testing_error:\t0.0667148362235\n",
      "\n",
      "Score for Training: \t0.497753530167\n",
      "Score for Testing: \t0.194605009634\n",
      "key loudness duration tempo time_signature                   training_error:\t\t0.0517030324724\n",
      "key loudness duration tempo time_signature                   testing_error:\t\t0.068286901362\n",
      "key loudness duration tempo time_signature                   discrete training_error:\t0.0399229781772\n",
      "key loudness duration tempo time_signature                   discrete testing_error:\t0.0555780346821\n",
      "\n",
      "0.167895061754\n"
     ]
    }
   ],
   "source": [
    "allsegs = 'segments_avg tatums_avg beats_avg bars_avg sections_avg '\n",
    "allrawacous = 'key loudness duration tempo time_signature'\n",
    "\n",
    "raw_acous = []\n",
    "for each in allsegs.split():\n",
    "    raw_acous.append(each)\n",
    "\n",
    "raw_acous.append(allsegs)\n",
    "\n",
    "for each in allrawacous.split():\n",
    "    raw_acous.append(each)   \n",
    "raw_acous.append(allrawacous)\n",
    "\n",
    "for item in raw_acous:\n",
    "    X_cols = item\n",
    "    results = util.RunAndTestKNNModel(X_cols, training_DF, testing_DF)\n",
    "\n",
    "    #  [x][1] = Mean squared error regression loss (bc its the smallest value lol)\n",
    "    mserr_training = results[1][1]\n",
    "    mserr_testing = results[2][1]\n",
    "    discrete_mserr_training = results[4][1]\n",
    "    discrete_mserr_testing = results[5][1]\n",
    "\n",
    "    print \"{:<60}\".format(item), \"training_error:\\t\\t\", mserr_training\n",
    "    print \"{:<60}\".format(item), \"testing_error:\\t\\t\", mserr_testing\n",
    "    print \"{:<60}\".format(item), \"discrete training_error:\\t\", discrete_mserr_training\n",
    "    print \"{:<60}\".format(item), \"discrete testing_error:\\t\", discrete_mserr_testing\n",
    "    print \"\"\n",
    "    # print \"The min error values were:\", min(results[1]), min(results[2])\n",
    "#     print \"std of hot is:\", results[3]\n",
    "    # -------------------------------------------------\n",
    "print results[3]"
   ]
  },
  {
   "cell_type": "markdown",
   "metadata": {},
   "source": [
    "### Finding the best energy measure"
   ]
  },
  {
   "cell_type": "code",
   "execution_count": 52,
   "metadata": {},
   "outputs": [
    {
     "name": "stdout",
     "output_type": "stream",
     "text": [
      "Score for Training: \t0.533697047497\n",
      "Score for Testing: \t0.215799614644\n",
      "energy1                                  training_error:\t\t0.0404173562557\n",
      "energy1                                  testing_error:\t\t\t0.0493273516751\n",
      "energy1                                  discrete training_error:\t0.0301732991014\n",
      "energy1                                  discrete testing_error:\t0.0391425818882\n",
      "\n",
      "Score for Training: \t0.523427471117\n",
      "Score for Testing: \t0.219653179191\n",
      "energy2                                  training_error:\t\t0.0410751471039\n",
      "energy2                                  testing_error:\t\t\t0.0558969606136\n",
      "energy2                                  discrete training_error:\t0.0310237483954\n",
      "energy2                                  discrete testing_error:\t0.0454527938343\n",
      "\n",
      "Score for Training: \t0.514441591784\n",
      "Score for Testing: \t0.193641618497\n",
      "energy3                                  training_error:\t\t0.0411504492464\n",
      "energy3                                  testing_error:\t\t\t0.0543778902112\n",
      "energy3                                  discrete training_error:\t0.0307670089859\n",
      "energy3                                  discrete testing_error:\t0.043978805395\n",
      "\n",
      "Score for Training: \t0.522464698331\n",
      "Score for Testing: \t0.198458574181\n",
      "energy4                                  training_error:\t\t0.044508831982\n",
      "energy4                                  testing_error:\t\t\t0.0596149125518\n",
      "energy4                                  discrete training_error:\t0.0334756097561\n",
      "energy4                                  discrete testing_error:\t0.0481695568401\n",
      "\n",
      "Score for Training: \t0.530487804878\n",
      "Score for Testing: \t0.207129094412\n",
      "energy1 energy2 energy3 energy4          training_error:\t\t0.0401595745732\n",
      "energy1 energy2 energy3 energy4          testing_error:\t\t\t0.0537105974095\n",
      "energy1 energy2 energy3 energy4          discrete training_error:\t0.0296501925546\n",
      "energy1 energy2 energy3 energy4          discrete testing_error:\t0.0425529865125\n",
      "\n"
     ]
    }
   ],
   "source": [
    "energylsit = ['energy1', 'energy2', 'energy3', 'energy4', 'energy1 energy2 energy3 energy4']\n",
    "\n",
    "for item in energylsit:\n",
    "    X_cols = item\n",
    "    results = util.RunAndTestKNNModel(X_cols, training_DF, testing_DF)\n",
    "\n",
    "    #  [x][1] = Mean squared error regression loss (bc its the smallest value lol)\n",
    "    mserr_training = results[1][1]\n",
    "    mserr_testing = results[2][1]\n",
    "    discrete_mserr_training = results[4][1]\n",
    "    discrete_mserr_testing = results[5][1]\n",
    "\n",
    "    print \"{:<40}\".format(item), \"training_error:\\t\\t\", mserr_training\n",
    "    print \"{:<40}\".format(item), \"testing_error:\\t\\t\\t\", mserr_testing\n",
    "    print \"{:<40}\".format(item), \"discrete training_error:\\t\", discrete_mserr_training\n",
    "    print \"{:<40}\".format(item), \"discrete testing_error:\\t\", discrete_mserr_testing\n",
    "    print \"\"\n",
    "#     print \"d1 testing_error\\t\", mserr_testing\n",
    "    # print \"The min error values were:\", min(results[1]), min(results[2])\n",
    "    # print \"std of hot is:\", results[3]\n",
    "    # -------------------------------------------------\n",
    "\n",
    "\n"
   ]
  },
  {
   "cell_type": "code",
   "execution_count": 54,
   "metadata": {},
   "outputs": [
    {
     "name": "stdout",
     "output_type": "stream",
     "text": [
      "Score for Training: \t0.532413350449\n",
      "Score for Testing: \t0.212909441233\n",
      "energy1 energy2 energy3 energy4 tatums_avg beats_avg                   training_error:\t\t0.0397032286584\n",
      "energy1 energy2 energy3 energy4 tatums_avg beats_avg                   testing_error:\t\t0.0533025429889\n",
      "energy1 energy2 energy3 energy4 tatums_avg beats_avg                   discrete training_error:\t0.0293421052632\n",
      "energy1 energy2 energy3 energy4 tatums_avg beats_avg                   discrete testing_error:\t0.0423217726397\n",
      "\n",
      "Score for Training: \t0.492939666239\n",
      "Score for Testing: \t0.201348747592\n",
      "energy1 energy2 energy3 energy4 tempo loudness                         training_error:\t\t0.0499003756899\n",
      "energy1 energy2 energy3 energy4 tempo loudness                         testing_error:\t\t0.0644063148819\n",
      "energy1 energy2 energy3 energy4 tempo loudness                         discrete training_error:\t0.0380519897304\n",
      "energy1 energy2 energy3 energy4 tempo loudness                         discrete testing_error:\t0.0520520231214\n",
      "\n",
      "Score for Training: \t0.495507060334\n",
      "Score for Testing: \t0.199421965318\n",
      "energy1 energy2 energy3 energy4 tempo loudness tatums_avg beats_avg    training_error:\t\t0.0497358624388\n",
      "energy1 energy2 energy3 energy4 tempo loudness tatums_avg beats_avg    testing_error:\t\t0.0648721864694\n",
      "energy1 energy2 energy3 energy4 tempo loudness tatums_avg beats_avg    discrete training_error:\t0.0378754813864\n",
      "energy1 energy2 energy3 energy4 tempo loudness tatums_avg beats_avg    discrete testing_error:\t0.0524662813102\n",
      "\n"
     ]
    }
   ],
   "source": [
    "# Comparing acoustic results\n",
    "acous_compare = [\"energy1 energy2 energy3 energy4 tatums_avg beats_avg\", \n",
    "                 \"energy1 energy2 energy3 energy4 tempo loudness\", \n",
    "                 \"energy1 energy2 energy3 energy4 tempo loudness tatums_avg beats_avg\"]\n",
    "\n",
    "for item in acous_compare:\n",
    "    X_cols = item\n",
    "    results = util.RunAndTestKNNModel(X_cols, training_DF, testing_DF)\n",
    "\n",
    "    #  [x][1] = Mean squared error regression loss (bc its the smallest value lol)\n",
    "    mserr_training = results[1][1]\n",
    "    mserr_testing = results[2][1]\n",
    "    discrete_mserr_training = results[4][1]\n",
    "    discrete_mserr_testing = results[5][1]\n",
    "\n",
    "    print \"{:<70}\".format(item), \"training_error:\\t\\t\", mserr_training\n",
    "    print \"{:<70}\".format(item), \"testing_error:\\t\\t\", mserr_testing\n",
    "    print \"{:<70}\".format(item), \"discrete training_error:\\t\", discrete_mserr_training\n",
    "    print \"{:<70}\".format(item), \"discrete testing_error:\\t\", discrete_mserr_testing\n",
    "    print \"\"\n",
    "#     print \"d1 testing_error\\t\", mserr_testing\n",
    "    # print \"The min error values were:\", min(results[1]), min(results[2])\n",
    "    # print \"std of hot is:\", results[3]\n",
    "    # -------------------------------------------------\n",
    "\n",
    "\n"
   ]
  },
  {
   "cell_type": "markdown",
   "metadata": {},
   "source": [
    "### lets play with the dance measure now"
   ]
  },
  {
   "cell_type": "code",
   "execution_count": 56,
   "metadata": {},
   "outputs": [
    {
     "name": "stdout",
     "output_type": "stream",
     "text": [
      "Score for Training: \t0.522785622593\n",
      "Score for Testing: \t0.220616570328\n",
      "dance1                                   training_error:\t\t0.0441942630669\n",
      "dance1                                   testing_error:\t\t\t0.0575315100588\n",
      "dance1                                   discrete training_error:\t0.033501283697\n",
      "dance1                                   discrete testing_error:\t0.0466377649326\n",
      "\n",
      "Score for Training: \t0.508664955071\n",
      "Score for Testing: \t0.23506743738\n",
      "dance2                                   training_error:\t\t0.043166390997\n",
      "dance2                                   testing_error:\t\t\t0.0558991052907\n",
      "dance2                                   discrete training_error:\t0.0326059050064\n",
      "dance2                                   discrete testing_error:\t0.0446628131021\n",
      "\n",
      "Score for Training: \t0.501283697047\n",
      "Score for Testing: \t0.201348747592\n",
      "dance3                                   training_error:\t\t0.0459147568593\n",
      "dance3                                   testing_error:\t\t\t0.0602404837395\n",
      "dance3                                   discrete training_error:\t0.0345603337612\n",
      "dance3                                   discrete testing_error:\t0.0482369942197\n",
      "\n",
      "Score for Training: \t0.504172015404\n",
      "Score for Testing: \t0.195568400771\n",
      "dance4                                   training_error:\t\t0.0459401509065\n",
      "dance4                                   testing_error:\t\t\t0.0590352224943\n",
      "dance4                                   discrete training_error:\t0.0346405648267\n",
      "dance4                                   discrete testing_error:\t0.0479672447013\n",
      "\n",
      "Score for Training: \t0.522143774069\n",
      "Score for Testing: \t0.224470134875\n",
      "dance1 dance2 dance3 dance4              training_error:\t\t0.0408217827934\n",
      "dance1 dance2 dance3 dance4              testing_error:\t\t\t0.0540229779066\n",
      "dance1 dance2 dance3 dance4              discrete training_error:\t0.0305263157895\n",
      "dance1 dance2 dance3 dance4              discrete testing_error:\t0.0433333333333\n",
      "\n"
     ]
    }
   ],
   "source": [
    "dancelist = ['dance1', 'dance2', 'dance3', 'dance4', 'dance1 dance2 dance3 dance4']\n",
    "\n",
    "for item in dancelist:\n",
    "    # dance1\n",
    "    X_cols = item\n",
    "    results = util.RunAndTestKNNModel(X_cols, training_DF, testing_DF)\n",
    "\n",
    "    #  [x][1] = Mean squared error regression loss (bc its the smallest value lol)\n",
    "    mserr_training = results[1][1]\n",
    "    mserr_testing = results[2][1]\n",
    "    discrete_mserr_training = results[4][1]\n",
    "    discrete_mserr_testing = results[5][1]\n",
    "\n",
    "    print \"{:<40}\".format(item), \"training_error:\\t\\t\", mserr_training\n",
    "    print \"{:<40}\".format(item), \"testing_error:\\t\\t\\t\", mserr_testing\n",
    "    print \"{:<40}\".format(item), \"discrete training_error:\\t\", discrete_mserr_training\n",
    "    print \"{:<40}\".format(item), \"discrete testing_error:\\t\", discrete_mserr_testing\n",
    "    print \"\"\n",
    "    # print \"d1 testing_error\\t\", mserr_testing\n",
    "    # print \"The min error values were:\", min(results[1]), min(results[2])\n",
    "    # print \"std of hot is:\", results[3]\n",
    "    # -------------------------------------------------\n",
    "\n"
   ]
  },
  {
   "cell_type": "code",
   "execution_count": 58,
   "metadata": {},
   "outputs": [
    {
     "name": "stdout",
     "output_type": "stream",
     "text": [
      "Score for Training: \t0.522143774069\n",
      "Score for Testing: \t0.224470134875\n",
      "dance1 dance2 dance3 dance4                                            training_error:\t\t0.0408217827934\n",
      "dance1 dance2 dance3 dance4                                            testing_error:\t\t0.0540229779066\n",
      "dance1 dance2 dance3 dance4                                            discrete training_error:\t0.0305263157895\n",
      "dance1 dance2 dance3 dance4                                            discrete testing_error:\t0.0433333333333\n",
      "\n",
      "Score for Training: \t0.530487804878\n",
      "Score for Testing: \t0.207129094412\n",
      "energy1 energy2 energy3 energy4                                        training_error:\t\t0.0401595745732\n",
      "energy1 energy2 energy3 energy4                                        testing_error:\t\t0.0537105974095\n",
      "energy1 energy2 energy3 energy4                                        discrete training_error:\t0.0296501925546\n",
      "energy1 energy2 energy3 energy4                                        discrete testing_error:\t0.0425529865125\n",
      "\n",
      "Score for Training: \t0.521501925546\n",
      "Score for Testing: \t0.227360308285\n",
      "dance1 dance2 dance3 dance4 energy1 energy2 energy3 energy4            training_error:\t\t0.0399205473038\n",
      "dance1 dance2 dance3 dance4 energy1 energy2 energy3 energy4            testing_error:\t\t0.0505236653251\n",
      "dance1 dance2 dance3 dance4 energy1 energy2 energy3 energy4            discrete training_error:\t0.0295186136072\n",
      "dance1 dance2 dance3 dance4 energy1 energy2 energy3 energy4            discrete testing_error:\t0.0399807321773\n",
      "\n",
      "Score for Training: \t0.548459563543\n",
      "Score for Testing: \t0.281310211946\n",
      "artist_familiarity artist_hotttnesss                                   training_error:\t\t0.0325157355157\n",
      "artist_familiarity artist_hotttnesss                                   testing_error:\t\t0.0419812007135\n",
      "artist_familiarity artist_hotttnesss                                   discrete training_error:\t0.0241238767651\n",
      "artist_familiarity artist_hotttnesss                                   discrete testing_error:\t0.0329479768786\n",
      "\n",
      "Score for Training: \t0.539473684211\n",
      "Score for Testing: \t0.236994219653\n",
      "alleng alldance allmeta                                                training_error:\t\t0.039204796047\n",
      "alleng alldance allmeta                                                testing_error:\t\t0.0497268113929\n",
      "alleng alldance allmeta                                                discrete training_error:\t0.028973042362\n",
      "alleng alldance allmeta                                                discrete testing_error:\t0.0393256262042\n",
      "\n"
     ]
    }
   ],
   "source": [
    "dancelist = 'dance1 dance2 dance3 dance4 '\n",
    "energylist = 'energy1 energy2 energy3 energy4 '\n",
    "\n",
    "acousitc =[]\n",
    "acousitc.append(dancelist)\n",
    "acousitc.append(energylist)\n",
    "acousitc.append(dancelist+energylist)\n",
    "acousitc.append(\"artist_familiarity artist_hotttnesss\")\n",
    "acousitc.append(dancelist+energylist+\"artist_familiarity artist_hotttnesss\")\n",
    "\n",
    "for item in acousitc:\n",
    "    # dance1\n",
    "    X_cols = item\n",
    "    results = util.RunAndTestKNNModel(X_cols, training_DF, testing_DF)\n",
    "\n",
    "    #  [x][1] = Mean squared error regression loss (bc its the smallest value lol)\n",
    "    mserr_training = results[1][1]\n",
    "    mserr_testing = results[2][1]\n",
    "    discrete_mserr_training = results[4][1]\n",
    "    discrete_mserr_testing = results[5][1]\n",
    "\n",
    "    if(len(item)>70):\n",
    "        item='alleng alldance allmeta'\n",
    "    \n",
    "    print \"{:<70}\".format(item), \"training_error:\\t\\t\", mserr_training\n",
    "    print \"{:<70}\".format(item), \"testing_error:\\t\\t\", mserr_testing\n",
    "    print \"{:<70}\".format(item), \"discrete training_error:\\t\", discrete_mserr_training\n",
    "    print \"{:<70}\".format(item), \"discrete testing_error:\\t\", discrete_mserr_testing\n",
    "    print \"\"\n",
    "    # print \"The min error values were:\", min(results[1]), min(results[2])\n",
    "    # print \"std of hot is:\", results[3]\n",
    "    # -------------------------------------------------\n",
    "\n",
    "\n"
   ]
  },
  {
   "cell_type": "code",
   "execution_count": 60,
   "metadata": {},
   "outputs": [
    {
     "name": "stdout",
     "output_type": "stream",
     "text": [
      "Score for Training: \t0.539473684211\n",
      "Score for Testing: \t0.236994219653\n",
      "alleng alldance allmeta                                                training_error:\t\t0.039204796047\n",
      "alleng alldance allmeta                                                testing_error:\t\t0.0497268113929\n",
      "alleng alldance allmeta                                                discrete training_error:\t0.028973042362\n",
      "alleng alldance allmeta                                                discrete testing_error:\t0.0393256262042\n",
      "\n",
      "std of hot is:\t\t0.167895061754\n"
     ]
    }
   ],
   "source": [
    "finalset = [dancelist+energylist+\"artist_familiarity artist_hotttnesss\"]\n",
    "\n",
    "for item in finalset:\n",
    "    X_cols = item\n",
    "    results = util.RunAndTestKNNModel(X_cols, training_DF, testing_DF)\n",
    "\n",
    "    #  [x][1] = Mean squared error regression loss (bc its the smallest value lol)\n",
    "    mserr_training = results[1][1]\n",
    "    mserr_testing = results[2][1]\n",
    "    discrete_mserr_training = results[4][1]\n",
    "    discrete_mserr_testing = results[5][1]\n",
    "\n",
    "    if(len(item)>70):\n",
    "        item='alleng alldance allmeta'\n",
    "\n",
    "    print \"{:<70}\".format(item), \"training_error:\\t\\t\", mserr_training\n",
    "    print \"{:<70}\".format(item), \"testing_error:\\t\\t\", mserr_testing\n",
    "    print \"{:<70}\".format(item), \"discrete training_error:\\t\", discrete_mserr_training\n",
    "    print \"{:<70}\".format(item), \"discrete testing_error:\\t\", discrete_mserr_testing\n",
    "    print \"\"\n",
    "    # print \"The min error values were:\", min(results[1]), min(results[2])\n",
    "    print \"std of hot is:\\t\\t\", results[3]\n",
    "#     print mserr_testing/results[3]*100\n",
    "    # -------------------------------------------------\n",
    "\n"
   ]
  },
  {
   "cell_type": "markdown",
   "metadata": {},
   "source": [
    "### THROW IT ALL IN THERE "
   ]
  },
  {
   "cell_type": "code",
   "execution_count": 62,
   "metadata": {},
   "outputs": [
    {
     "name": "stdout",
     "output_type": "stream",
     "text": [
      "Score for Training: \t0.506739409499\n",
      "Score for Testing: \t0.21098265896\n",
      "allfeatures                                                            training_error:\t\t0.0453057779332\n",
      "allfeatures                                                            testing_error:\t\t0.0584209837508\n",
      "allfeatures                                                            discrete training_error:\t0.0339666238768\n",
      "allfeatures                                                            discrete testing_error:\t0.0463776493256\n"
     ]
    }
   ],
   "source": [
    "all_features = [dancelist+energylist+'tempo loudness tatums_avg beats_avg'+\" artist_familiarity artist_hotttnesss\"]\n",
    "\n",
    "for item in all_features:\n",
    "    X_cols = item\n",
    "#     results = KNN(X_cols, training_DF, testing_DF)\n",
    "    results = util.RunAndTestKNNModel(X_cols, training_DF, testing_DF)\n",
    "\n",
    "    #  [x][1] = Mean squared error regression loss (bc its the smallest value lol)\n",
    "    mserr_training = results[1][1]\n",
    "    mserr_testing = results[2][1]\n",
    "    discrete_mserr_training = results[4][1]\n",
    "    discrete_mserr_testing = results[5][1]\n",
    "\n",
    "    if(len(item)>70):\n",
    "        item=\"allfeatures\"\n",
    "    \n",
    "    print \"{:<70}\".format(item), \"training_error:\\t\\t\", mserr_training\n",
    "    print \"{:<70}\".format(item), \"testing_error:\\t\\t\", mserr_testing\n",
    "    print \"{:<70}\".format(item), \"discrete training_error:\\t\", discrete_mserr_training\n",
    "    print \"{:<70}\".format(item), \"discrete testing_error:\\t\", discrete_mserr_testing\n",
    "    # print \"The min error values were:\", min(results[1]), min(results[2])\n",
    "    # print \"std of hot is:\", results[3]\n",
    "    # -------------------------------------------------\n"
   ]
  },
  {
   "cell_type": "code",
   "execution_count": null,
   "metadata": {
    "collapsed": true
   },
   "outputs": [],
   "source": []
  },
  {
   "cell_type": "code",
   "execution_count": null,
   "metadata": {
    "collapsed": true
   },
   "outputs": [],
   "source": []
  }
 ],
 "metadata": {
  "kernelspec": {
   "display_name": "Python 2",
   "language": "python",
   "name": "python2"
  },
  "language_info": {
   "codemirror_mode": {
    "name": "ipython",
    "version": 2
   },
   "file_extension": ".py",
   "mimetype": "text/x-python",
   "name": "python",
   "nbconvert_exporter": "python",
   "pygments_lexer": "ipython2",
   "version": "2.7.14"
  }
 },
 "nbformat": 4,
 "nbformat_minor": 2
}
