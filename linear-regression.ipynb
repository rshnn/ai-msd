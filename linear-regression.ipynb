{
 "cells": [
  {
   "cell_type": "markdown",
   "metadata": {},
   "source": [
    "# Basic Linear Regression"
   ]
  },
  {
   "cell_type": "markdown",
   "metadata": {},
   "source": [
    "## Imports"
   ]
  },
  {
   "cell_type": "code",
   "execution_count": 1,
   "metadata": {},
   "outputs": [],
   "source": [
    "import matplotlib.pyplot as plt\n",
    "import pandas as pd\n",
    "import seaborn as sns\n",
    "import config as config\n",
    "from models.linear_regression import LinearRegressionManager \n",
    "from model_evaluator import ModelEvaluator\n",
    "\n",
    "import pprint\n",
    "p = pprint.PrettyPrinter(indent=4)\n",
    "\n",
    "\n",
    "%matplotlib inline\n"
   ]
  },
  {
   "cell_type": "markdown",
   "metadata": {},
   "source": [
    "## Importing utilities object & building dataset \n"
   ]
  },
  {
   "cell_type": "code",
   "execution_count": 2,
   "metadata": {},
   "outputs": [],
   "source": [
    "%run utilities.py\n",
    "util = Utilities({}, use_json=False)\n",
    "master_DF = util.get_master_dataframe()\n",
    "\n",
    "# add constructed features  \n",
    "master_DF = util.generate_energy_measure(master_DF)\n",
    "master_DF = util.generate_dance_measure(master_DF)\n",
    "\n",
    "# normalize numeric values \n",
    "master_norm_DF = util.normalize_numeric_columns(master_DF) \n",
    "\n",
    "\n",
    "# partition into train, crossvalidation, and test sets \n",
    "train, cv, test = util.split_master_df(master_norm_DF)\n"
   ]
  },
  {
   "cell_type": "markdown",
   "metadata": {},
   "source": [
    "## Cross validation to choose model features optimal for prediction \n",
    "+ acoustic features \n",
    "+ metadata features \n",
    "+ combination "
   ]
  },
  {
   "cell_type": "code",
   "execution_count": 3,
   "metadata": {},
   "outputs": [],
   "source": [
    "linreg_manager = LinearRegressionManager()"
   ]
  },
  {
   "cell_type": "markdown",
   "metadata": {},
   "source": [
    "### Acoustic features "
   ]
  },
  {
   "cell_type": "code",
   "execution_count": 4,
   "metadata": {},
   "outputs": [
    {
     "data": {
      "text/plain": [
       "(Index([u'loudness', u'tatums_avg', u'segments_avg'], dtype='object'),\n",
       " 0.08004308398102489)"
      ]
     },
     "execution_count": 4,
     "metadata": {},
     "output_type": "execute_result"
    }
   ],
   "source": [
    "acoustic_df, score = linreg_manager.find_optimal_acoustic(train, cv)\n",
    "acoustic_df.columns, score "
   ]
  },
  {
   "cell_type": "markdown",
   "metadata": {},
   "source": [
    "### Metadata features"
   ]
  },
  {
   "cell_type": "code",
   "execution_count": 5,
   "metadata": {},
   "outputs": [
    {
     "data": {
      "text/plain": [
       "(Index([u'artist_hotttnesss', u'artist_familiarity'], dtype='object'),\n",
       " 0.2953257739560675)"
      ]
     },
     "execution_count": 5,
     "metadata": {},
     "output_type": "execute_result"
    }
   ],
   "source": [
    "metadata_df, score = linreg_manager.find_optimal_metadata(train, cv)\n",
    "metadata_df.columns, score "
   ]
  },
  {
   "cell_type": "markdown",
   "metadata": {},
   "source": [
    "### Constructed features (energy and dance) + metadata "
   ]
  },
  {
   "cell_type": "code",
   "execution_count": 6,
   "metadata": {},
   "outputs": [
    {
     "data": {
      "text/plain": [
       "(Index([u'artist_hotttnesss', u'artist_familiarity'], dtype='object'),\n",
       " 0.2953257739560675)"
      ]
     },
     "execution_count": 6,
     "metadata": {},
     "output_type": "execute_result"
    }
   ],
   "source": [
    "constructed_df, score = linreg_manager.find_optimal_constructed(train, cv)\n",
    "constructed_df.columns, score "
   ]
  },
  {
   "cell_type": "markdown",
   "metadata": {},
   "source": [
    "### All features for maximum overfitting "
   ]
  },
  {
   "cell_type": "code",
   "execution_count": 7,
   "metadata": {},
   "outputs": [
    {
     "data": {
      "text/plain": [
       "0.3078703874898726"
      ]
     },
     "execution_count": 7,
     "metadata": {},
     "output_type": "execute_result"
    }
   ],
   "source": [
    "# super long \n",
    "all_feature_list = config.acoustic_features + config.metadata_feaures + config.constructed_features\n",
    "all_model = LinearRegressionManager()\n",
    "X = train[all_feature_list]\n",
    "y = train['song_hotttnesss']\n",
    "\n",
    "X_cv = cv[all_feature_list]\n",
    "y_cv = cv['song_hotttnesss']\n",
    "\n",
    "all_model.train(X, y)\n",
    "all_model.R2_score(X_cv, y_cv)\n"
   ]
  },
  {
   "cell_type": "markdown",
   "metadata": {},
   "source": [
    "### Error on test set using best model "
   ]
  },
  {
   "cell_type": "code",
   "execution_count": 8,
   "metadata": {},
   "outputs": [
    {
     "data": {
      "text/plain": [
       "(LinearRegression(copy_X=True, fit_intercept=True, n_jobs=None,\n",
       "          normalize=False),\n",
       " {'MSE': 0.030393725902695585,\n",
       "  'mean_abs': 0.14300881350188488,\n",
       "  'mean_err': 0.17433796460523332},\n",
       " {'MSE': 0.032108972300629,\n",
       "  'mean_abs': 0.14659137455924526,\n",
       "  'mean_err': 0.17918976617158971},\n",
       " 0.20953139938705823)"
      ]
     },
     "execution_count": 8,
     "metadata": {},
     "output_type": "execute_result"
    }
   ],
   "source": [
    "linreg_manager.errors(train, test, all_feature_list)"
   ]
  },
  {
   "cell_type": "code",
   "execution_count": null,
   "metadata": {},
   "outputs": [],
   "source": []
  },
  {
   "cell_type": "markdown",
   "metadata": {},
   "source": [
    "### Example of how to use LinearRegressionModel"
   ]
  },
  {
   "cell_type": "code",
   "execution_count": null,
   "metadata": {},
   "outputs": [],
   "source": [
    "X = train['artist_hotttnesss artist_familiarity'.split()]\n",
    "y = train['song_hotttnesss']\n",
    "\n",
    "X_cv = cv['artist_hotttnesss artist_familiarity'.split()]\n",
    "y_cv = cv['song_hotttnesss']\n",
    "\n",
    "X_test = test['artist_hotttnesss artist_familiarity'.split()]\n",
    "y_test = test['song_hotttnesss']\n"
   ]
  },
  {
   "cell_type": "code",
   "execution_count": null,
   "metadata": {},
   "outputs": [],
   "source": [
    "meval = ModelEvaluator()\n",
    "linreg = LinearRegressionModel()\n",
    "meval.cross_validation_score(linreg, X_cv, y_cv, 5)\n"
   ]
  },
  {
   "cell_type": "code",
   "execution_count": null,
   "metadata": {},
   "outputs": [],
   "source": []
  },
  {
   "cell_type": "markdown",
   "metadata": {},
   "source": [
    "### using acoustic features "
   ]
  },
  {
   "cell_type": "code",
   "execution_count": 16,
   "metadata": {
    "scrolled": true
   },
   "outputs": [
    {
     "data": {
      "text/plain": [
       "(LinearRegression(copy_X=True, fit_intercept=True, n_jobs=None,\n",
       "          normalize=False),\n",
       " {'MSE': 0.041235484634284114,\n",
       "  'mean_abs': 0.17093583117288189,\n",
       "  'mean_err': 0.20306522261156418},\n",
       " {'MSE': 0.04356677206941965,\n",
       "  'mean_abs': 0.17437613651456246,\n",
       "  'mean_err': 0.20872654854957873},\n",
       " 0.20953139938705823)"
      ]
     },
     "execution_count": 16,
     "metadata": {},
     "output_type": "execute_result"
    }
   ],
   "source": [
    "allsegs = 'segments_avg tatums_avg beats_avg bars_avg sections_avg'.split()\n",
    "\n",
    "linreg_manager.errors(train, test, allsegs)\n",
    "\n"
   ]
  },
  {
   "cell_type": "code",
   "execution_count": 18,
   "metadata": {},
   "outputs": [
    {
     "data": {
      "text/plain": [
       "(LinearRegression(copy_X=True, fit_intercept=True, n_jobs=None,\n",
       "          normalize=False),\n",
       " {'MSE': 0.04014705799714451,\n",
       "  'mean_abs': 0.16834453640710054,\n",
       "  'mean_err': 0.200367307705485},\n",
       " {'MSE': 0.042689291907287846,\n",
       "  'mean_abs': 0.17253130372040182,\n",
       "  'mean_err': 0.20661387152678748},\n",
       " 0.20953139938705823)"
      ]
     },
     "execution_count": 18,
     "metadata": {},
     "output_type": "execute_result"
    }
   ],
   "source": [
    "allrawacous = 'key loudness duration tempo time_signature'.split()\n",
    "\n",
    "linreg_manager.errors(train, test, allrawacous)\n"
   ]
  },
  {
   "cell_type": "code",
   "execution_count": null,
   "metadata": {},
   "outputs": [],
   "source": []
  },
  {
   "cell_type": "markdown",
   "metadata": {},
   "source": [
    "## Finding the best energy measure"
   ]
  },
  {
   "cell_type": "code",
   "execution_count": 22,
   "metadata": {},
   "outputs": [
    {
     "data": {
      "text/plain": [
       "(Index([u'energy1', u'energy2'], dtype='object'), 0.28649674937880687)"
      ]
     },
     "execution_count": 22,
     "metadata": {},
     "output_type": "execute_result"
    }
   ],
   "source": [
    "meval = ModelEvaluator()\n",
    "energy_names = ['energy1', 'energy2', 'energy3', 'energy4', 'energy']\n",
    "energy_df, score = linreg_manager.find_optimal_featureset(train, cv, energy_names) \n",
    "\n",
    "energy_df.columns, score"
   ]
  },
  {
   "cell_type": "code",
   "execution_count": null,
   "metadata": {},
   "outputs": [],
   "source": []
  },
  {
   "cell_type": "markdown",
   "metadata": {},
   "source": [
    "## lets play with the dance measure now"
   ]
  },
  {
   "cell_type": "code",
   "execution_count": 23,
   "metadata": {},
   "outputs": [
    {
     "data": {
      "text/plain": [
       "(Index([u'dance1', u'dance2', u'dance4'], dtype='object'), 0.23675632079995534)"
      ]
     },
     "execution_count": 23,
     "metadata": {},
     "output_type": "execute_result"
    }
   ],
   "source": [
    "dance_names = ['dance1', 'dance2', 'dance3', 'dance4']\n",
    "dance_df, score = linreg_manager.find_optimal_featureset(train, cv, dance_names) \n",
    "\n",
    "dance_df.columns, score"
   ]
  },
  {
   "cell_type": "code",
   "execution_count": 25,
   "metadata": {},
   "outputs": [
    {
     "data": {
      "text/plain": [
       "(Index([u'dance2', u'dance3', u'dance4', u'energy1'], dtype='object'),\n",
       " 0.3071753272395724)"
      ]
     },
     "execution_count": 25,
     "metadata": {},
     "output_type": "execute_result"
    }
   ],
   "source": [
    "dance_energy_list = dance_names + energy_names \n",
    "df, score = linreg_manager.find_optimal_featureset(train, cv, dance_energy_list) \n",
    "\n",
    "df.columns, score"
   ]
  },
  {
   "cell_type": "markdown",
   "metadata": {},
   "source": [
    "## Highest performing predictor uses featureset: dance2, dance3, dance4, energy1"
   ]
  },
  {
   "cell_type": "code",
   "execution_count": 28,
   "metadata": {},
   "outputs": [
    {
     "data": {
      "text/plain": [
       "{'MSE': 0.03243810957579446,\n",
       " 'mean_abs': 0.14829774215451902,\n",
       " 'mean_err': 0.1801058288223745}"
      ]
     },
     "execution_count": 28,
     "metadata": {},
     "output_type": "execute_result"
    }
   ],
   "source": [
    "model, training_err, testing_err, hot_std = linreg_manager.errors(train, test, dance_energy_list)\n",
    "testing_err"
   ]
  },
  {
   "cell_type": "code",
   "execution_count": null,
   "metadata": {},
   "outputs": [],
   "source": []
  }
 ],
 "metadata": {
  "kernelspec": {
   "display_name": "Python 2",
   "language": "python",
   "name": "python2"
  },
  "language_info": {
   "codemirror_mode": {
    "name": "ipython",
    "version": 2
   },
   "file_extension": ".py",
   "mimetype": "text/x-python",
   "name": "python",
   "nbconvert_exporter": "python",
   "pygments_lexer": "ipython2",
   "version": "2.7.16"
  }
 },
 "nbformat": 4,
 "nbformat_minor": 2
}
