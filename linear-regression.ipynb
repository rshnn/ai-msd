{
 "cells": [
  {
   "cell_type": "markdown",
   "metadata": {},
   "source": [
    "# Basic Linear Regression"
   ]
  },
  {
   "cell_type": "markdown",
   "metadata": {},
   "source": [
    "## Imports"
   ]
  },
  {
   "cell_type": "code",
   "execution_count": 1,
   "metadata": {},
   "outputs": [],
   "source": [
    "import matplotlib.pyplot as plt\n",
    "import pandas as pd\n",
    "import seaborn as sns\n",
    "import config as config\n",
    "from models.linear_regression import LinearRegressionManager \n",
    "from model_evaluator import ModelEvaluator\n",
    "\n",
    "import pprint\n",
    "p = pprint.PrettyPrinter(indent=4)\n",
    "\n",
    "\n",
    "%matplotlib inline\n"
   ]
  },
  {
   "cell_type": "markdown",
   "metadata": {},
   "source": [
    "## Importing utilities object & building dataset \n"
   ]
  },
  {
   "cell_type": "code",
   "execution_count": 2,
   "metadata": {},
   "outputs": [],
   "source": [
    "%run utilities.py\n",
    "util = Utilities({}, use_json=False)\n",
    "master_DF = util.get_master_dataframe()\n",
    "\n",
    "# add constructed features  \n",
    "master_DF = util.generate_energy_measure(master_DF)\n",
    "master_DF = util.generate_dance_measure(master_DF)\n",
    "\n",
    "# normalize numeric values \n",
    "master_norm_DF = util.normalize_numeric_columns(master_DF) \n",
    "\n",
    "\n",
    "# partition into train, crossvalidation, and test sets \n",
    "train, cv, test = util.split_master_df(master_norm_DF)\n"
   ]
  },
  {
   "cell_type": "markdown",
   "metadata": {},
   "source": [
    "## Cross validation to choose model features optimal for prediction \n",
    "+ acoustic features \n",
    "+ metadata features \n",
    "+ combination "
   ]
  },
  {
   "cell_type": "code",
   "execution_count": 3,
   "metadata": {},
   "outputs": [],
   "source": [
    "linreg_manager = LinearRegressionManager()"
   ]
  },
  {
   "cell_type": "markdown",
   "metadata": {},
   "source": [
    "### Acoustic features "
   ]
  },
  {
   "cell_type": "code",
   "execution_count": 4,
   "metadata": {},
   "outputs": [
    {
     "data": {
      "text/plain": [
       "(Index([u'loudness', u'time_signature', u'tatums_avg', u'segments_avg',\n",
       "        u'bars_avg', u'sections_avg'],\n",
       "       dtype='object'), 0.059799364615435786)"
      ]
     },
     "execution_count": 4,
     "metadata": {},
     "output_type": "execute_result"
    }
   ],
   "source": [
    "acoustic_df, score = linreg_manager.find_optimal_acoustic(train, cv)\n",
    "acoustic_df.columns, score "
   ]
  },
  {
   "cell_type": "markdown",
   "metadata": {},
   "source": [
    "### Metadata features"
   ]
  },
  {
   "cell_type": "code",
   "execution_count": 5,
   "metadata": {},
   "outputs": [
    {
     "data": {
      "text/plain": [
       "(Index([u'artist_hotttnesss', u'artist_familiarity'], dtype='object'),\n",
       " 0.31661902336894177)"
      ]
     },
     "execution_count": 5,
     "metadata": {},
     "output_type": "execute_result"
    }
   ],
   "source": [
    "metadata_df, score = linreg_manager.find_optimal_metadata(train, cv)\n",
    "metadata_df.columns, score "
   ]
  },
  {
   "cell_type": "markdown",
   "metadata": {},
   "source": [
    "### Constructed features (energy and dance) + metadata "
   ]
  },
  {
   "cell_type": "code",
   "execution_count": 6,
   "metadata": {},
   "outputs": [
    {
     "data": {
      "text/plain": [
       "(Index([u'duration', u'artist_hotttnesss', u'artist_familiarity'], dtype='object'),\n",
       " 0.3166811436034833)"
      ]
     },
     "execution_count": 6,
     "metadata": {},
     "output_type": "execute_result"
    }
   ],
   "source": [
    "constructed_df, score = linreg_manager.find_optimal_constructed(train, cv)\n",
    "constructed_df.columns, score "
   ]
  },
  {
   "cell_type": "markdown",
   "metadata": {},
   "source": [
    "### All features for maximum overfitting "
   ]
  },
  {
   "cell_type": "code",
   "execution_count": 7,
   "metadata": {},
   "outputs": [
    {
     "data": {
      "text/plain": [
       "0.3223642617663598"
      ]
     },
     "execution_count": 7,
     "metadata": {},
     "output_type": "execute_result"
    }
   ],
   "source": [
    "# super long \n",
    "all_feature_list = config.acoustic_features + config.metadata_feaures + config.constructed_features\n",
    "all_model = LinearRegressionManager()\n",
    "X = train[all_feature_list]\n",
    "y = train['song_hotttnesss']\n",
    "\n",
    "X_cv = cv[all_feature_list]\n",
    "y_cv = cv['song_hotttnesss']\n",
    "\n",
    "all_model.train(X, y)\n",
    "all_model.R2_score(X_cv, y_cv)\n"
   ]
  },
  {
   "cell_type": "markdown",
   "metadata": {},
   "source": [
    "### Error on test set using best model "
   ]
  },
  {
   "cell_type": "code",
   "execution_count": 8,
   "metadata": {},
   "outputs": [
    {
     "data": {
      "text/plain": [
       "(LinearRegression(copy_X=True, fit_intercept=True, n_jobs=1, normalize=False),\n",
       " {'MSE': 0.030747403974795928,\n",
       "  'mean_abs': 0.14352546785001283,\n",
       "  'mean_err': 0.17534937688738997},\n",
       " {'MSE': 0.030779303639932275,\n",
       "  'mean_abs': 0.14356469700605598,\n",
       "  'mean_err': 0.17544031361101778},\n",
       " 0.20375084648767097)"
      ]
     },
     "execution_count": 8,
     "metadata": {},
     "output_type": "execute_result"
    }
   ],
   "source": [
    "linreg_manager.errors(train, test, all_feature_list)"
   ]
  },
  {
   "cell_type": "code",
   "execution_count": null,
   "metadata": {},
   "outputs": [],
   "source": []
  },
  {
   "cell_type": "code",
   "execution_count": 9,
   "metadata": {},
   "outputs": [],
   "source": [
    "X = train['artist_hotttnesss artist_familiarity'.split()]\n",
    "y = train['song_hotttnesss']\n",
    "\n",
    "X_cv = cv['artist_hotttnesss artist_familiarity'.split()]\n",
    "y_cv = cv['song_hotttnesss']\n",
    "\n",
    "X_test = test['artist_hotttnesss artist_familiarity'.split()]\n",
    "y_test = test['song_hotttnesss']\n"
   ]
  },
  {
   "cell_type": "markdown",
   "metadata": {},
   "source": [
    "### using acoustic features "
   ]
  },
  {
   "cell_type": "code",
   "execution_count": 10,
   "metadata": {
    "scrolled": true
   },
   "outputs": [
    {
     "data": {
      "text/plain": [
       "(LinearRegression(copy_X=True, fit_intercept=True, n_jobs=1, normalize=False),\n",
       " {'MSE': 0.04158310474733874,\n",
       "  'mean_abs': 0.17134140661451086,\n",
       "  'mean_err': 0.20391935844185746},\n",
       " {'MSE': 0.04098019908307169,\n",
       "  'mean_abs': 0.1698261130798567,\n",
       "  'mean_err': 0.20243566652907705},\n",
       " 0.20375084648767097)"
      ]
     },
     "execution_count": 10,
     "metadata": {},
     "output_type": "execute_result"
    }
   ],
   "source": [
    "allsegs = 'segments_avg tatums_avg beats_avg bars_avg sections_avg'.split()\n",
    "\n",
    "linreg_manager.errors(train, test, allsegs)\n",
    "\n"
   ]
  },
  {
   "cell_type": "code",
   "execution_count": 11,
   "metadata": {},
   "outputs": [
    {
     "data": {
      "text/plain": [
       "(LinearRegression(copy_X=True, fit_intercept=True, n_jobs=1, normalize=False),\n",
       " {'MSE': 0.040195714412381775,\n",
       "  'mean_abs': 0.1674827354958183,\n",
       "  'mean_err': 0.2004886889886354},\n",
       " {'MSE': 0.04035046054027063,\n",
       "  'mean_abs': 0.1674601980182983,\n",
       "  'mean_err': 0.20087424060907022},\n",
       " 0.20375084648767097)"
      ]
     },
     "execution_count": 11,
     "metadata": {},
     "output_type": "execute_result"
    }
   ],
   "source": [
    "allrawacous = 'key loudness duration tempo time_signature'.split()\n",
    "\n",
    "linreg_manager.errors(train, test, allrawacous)\n"
   ]
  },
  {
   "cell_type": "code",
   "execution_count": null,
   "metadata": {},
   "outputs": [],
   "source": []
  },
  {
   "cell_type": "markdown",
   "metadata": {},
   "source": [
    "## Finding the best energy measure"
   ]
  },
  {
   "cell_type": "code",
   "execution_count": 12,
   "metadata": {},
   "outputs": [
    {
     "data": {
      "text/plain": [
       "(Index([u'energy1', u'energy4'], dtype='object'), 0.2841501822259611)"
      ]
     },
     "execution_count": 12,
     "metadata": {},
     "output_type": "execute_result"
    }
   ],
   "source": [
    "meval = ModelEvaluator()\n",
    "energy_names = ['energy1', 'energy2', 'energy3', 'energy4', 'energy']\n",
    "energy_df, score = linreg_manager.find_optimal_featureset(train, cv, energy_names) \n",
    "\n",
    "energy_df.columns, score"
   ]
  },
  {
   "cell_type": "code",
   "execution_count": null,
   "metadata": {},
   "outputs": [],
   "source": []
  },
  {
   "cell_type": "markdown",
   "metadata": {},
   "source": [
    "## lets play with the dance measure now"
   ]
  },
  {
   "cell_type": "code",
   "execution_count": 13,
   "metadata": {},
   "outputs": [
    {
     "data": {
      "text/plain": [
       "(Index([u'dance1', u'dance2', u'dance3'], dtype='object'), 0.23637861251406134)"
      ]
     },
     "execution_count": 13,
     "metadata": {},
     "output_type": "execute_result"
    }
   ],
   "source": [
    "dance_names = ['dance1', 'dance2', 'dance3', 'dance4']\n",
    "dance_df, score = linreg_manager.find_optimal_featureset(train, cv, dance_names) \n",
    "\n",
    "dance_df.columns, score"
   ]
  },
  {
   "cell_type": "markdown",
   "metadata": {},
   "source": [
    "## Combine energy and dance"
   ]
  },
  {
   "cell_type": "code",
   "execution_count": 14,
   "metadata": {},
   "outputs": [
    {
     "data": {
      "text/plain": [
       "(Index([u'dance1', u'dance3', u'dance4', u'energy1', u'energy3', u'energy4'], dtype='object'),\n",
       " 0.3107035855112257)"
      ]
     },
     "execution_count": 14,
     "metadata": {},
     "output_type": "execute_result"
    }
   ],
   "source": [
    "dance_energy_list = dance_names + energy_names \n",
    "df, score = linreg_manager.find_optimal_featureset(train, cv, dance_energy_list) \n",
    "\n",
    "df.columns, score"
   ]
  },
  {
   "cell_type": "markdown",
   "metadata": {},
   "source": [
    "## Highest performing predictor used on test set "
   ]
  },
  {
   "cell_type": "code",
   "execution_count": 17,
   "metadata": {},
   "outputs": [
    {
     "data": {
      "text/plain": [
       "{'MSE': 0.031063399073083284,\n",
       " 'mean_abs': 0.14419936325310542,\n",
       " 'mean_err': 0.17624811792777614}"
      ]
     },
     "execution_count": 17,
     "metadata": {},
     "output_type": "execute_result"
    }
   ],
   "source": [
    "features = df.columns\n",
    "model, training_err, testing_err, hot_std = linreg_manager.errors(train, test, features)\n",
    "testing_err"
   ]
  },
  {
   "cell_type": "code",
   "execution_count": 20,
   "metadata": {},
   "outputs": [
    {
     "data": {
      "text/plain": [
       "0.25084261658508844"
      ]
     },
     "execution_count": 20,
     "metadata": {},
     "output_type": "execute_result"
    }
   ],
   "source": [
    "X_test = test[features]\n",
    "y_test = test['song_hotttnesss']\n",
    "\n",
    "model.score(X_test, y_test)"
   ]
  },
  {
   "cell_type": "code",
   "execution_count": null,
   "metadata": {},
   "outputs": [],
   "source": []
  }
 ],
 "metadata": {
  "kernelspec": {
   "display_name": "Python 2",
   "language": "python",
   "name": "python2"
  },
  "language_info": {
   "codemirror_mode": {
    "name": "ipython",
    "version": 2
   },
   "file_extension": ".py",
   "mimetype": "text/x-python",
   "name": "python",
   "nbconvert_exporter": "python",
   "pygments_lexer": "ipython2",
   "version": "2.7.14"
  }
 },
 "nbformat": 4,
 "nbformat_minor": 2
}
