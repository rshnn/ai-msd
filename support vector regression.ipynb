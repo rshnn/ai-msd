{
 "cells": [
  {
   "cell_type": "markdown",
   "metadata": {},
   "source": [
    "# Support vector regression "
   ]
  },
  {
   "cell_type": "markdown",
   "metadata": {},
   "source": [
    "## Imports"
   ]
  },
  {
   "cell_type": "code",
   "execution_count": 2,
   "metadata": {},
   "outputs": [],
   "source": [
    "import numpy as np\n",
    "import matplotlib as mpl\n",
    "import matplotlib.pyplot as plt\n",
    "import pandas as pd\n",
    "from scipy import stats, integrate\n",
    "import seaborn as sns\n",
    "\n",
    "import pprint\n",
    "p = pprint.PrettyPrinter(indent=4)\n",
    "\n",
    "import config as config\n",
    "\n",
    "%matplotlib inline\n"
   ]
  },
  {
   "cell_type": "markdown",
   "metadata": {},
   "source": [
    "## utilities and dataset\n",
    "+ Imports untilities and generates the dataset as pandas Dataframes \n",
    "+ Check config.py for the training/testing set ratio (currently TRAIN_FRAC = 0.75) "
   ]
  },
  {
   "cell_type": "code",
   "execution_count": 3,
   "metadata": {},
   "outputs": [],
   "source": [
    "%run utilities.py\n",
    "util = Utilities({}, use_json=False)\n",
    "training_list, testing_list = util.get_datasets()\n",
    "\n",
    "# turning the datasets into pandas DataFrames \n",
    "training_DF, testing_DF = util.create_dataframes(training_list, testing_list)\n",
    "\n",
    "# generate the energy and dance measures \n",
    "training_DF, testing_DF = util.generate_energy_measure(training_DF, testing_DF)\n",
    "training_DF, testing_DF = util.generate_dance_measure(training_DF, testing_DF)\n"
   ]
  },
  {
   "cell_type": "markdown",
   "metadata": {},
   "source": [
    "## Making svr learners"
   ]
  },
  {
   "cell_type": "code",
   "execution_count": 4,
   "metadata": {},
   "outputs": [],
   "source": [
    "from sklearn.svm import SVR\n",
    "from sklearn import metrics \n",
    "# Look at utilities.py for RunAndTestLinearRegModel() "
   ]
  },
  {
   "cell_type": "code",
   "execution_count": 5,
   "metadata": {},
   "outputs": [],
   "source": [
    "%run utilities.py\n",
    "def printerWrapper(input_string_list, train=False, test=False):\n",
    "    \n",
    "    for item in input_string_list:\n",
    "        X_cols = item\n",
    "        results = util.RunAndTestSVRModel(X_cols, training_DF, testing_DF)\n",
    "        #  [x][1] = Mean squared error regression loss (bc its the smallest value lol)\n",
    "        mserr_training = results[0]\n",
    "        mserr_testing = results[1]\n",
    "        if train: \n",
    "#             print \"{:<40}\".format(item), \"training_error_rbf:\\t\", mserr_training[0]\n",
    "            print \"{:<40}\".format(item), \"training_error_lin:\\t\", mserr_training[1]\n",
    "#             print \"{:<40}\".format(item), \"training_error_poly:\\t\", mserr_training[2]\n",
    "        if test:\n",
    "#             print \"{:<40}\".format(item), \"testing_error_rbf:\\t\\t\\t\", mserr_testing[0]\n",
    "            print \"{:<40}\".format(item), \"testing_error_lin:\\t\\t\\t\", mserr_testing[1]\n",
    "#             print \"{:<40}\".format(item), \"testing_error_poly:\\t\\t\\t\", mserr_testing[2]\n",
    "        # print \"The min error values were:\", min(results[1]), min(results[2])\n",
    "        # print \"std of hot is:\", results[3]\n",
    "        # -------------------------------------------------\n"
   ]
  },
  {
   "cell_type": "markdown",
   "metadata": {},
   "source": [
    "### Using metadata (art_hot and art_fam)"
   ]
  },
  {
   "cell_type": "code",
   "execution_count": 6,
   "metadata": {},
   "outputs": [
    {
     "name": "stdout",
     "output_type": "stream",
     "text": [
      "artist_familiarity                       testing_error_lin:\t\t\t0.020997354516764582\n",
      "artist_hotttnesss                        testing_error_lin:\t\t\t0.02066705198772561\n",
      "artist_hotttnesss artist_familiarity     testing_error_lin:\t\t\t0.020068291575617073\n"
     ]
    }
   ],
   "source": [
    "metadata = ['artist_familiarity', 'artist_hotttnesss', 'artist_hotttnesss artist_familiarity']\n",
    "printerWrapper(metadata, False, True)"
   ]
  },
  {
   "cell_type": "markdown",
   "metadata": {},
   "source": [
    "### using acoustic features"
   ]
  },
  {
   "cell_type": "code",
   "execution_count": null,
   "metadata": {},
   "outputs": [],
   "source": [
    "allsegs = 'segments_avg tatums_avg beats_avg bars_avg sections_avg '\n",
    "allrawacous = 'key loudness duration tempo time_signature'\n",
    "\n",
    "raw_acous = []\n",
    "for each in allsegs.split():\n",
    "    raw_acous.append(each)\n",
    "\n",
    "raw_acous.append(allsegs)\n",
    "\n",
    "\n",
    "for each in allrawacous.split():\n",
    "    raw_acous.append(each)   \n",
    "raw_acous.append(allrawacous)\n",
    "raw_acous.append((allrawacous+ ' ' + allsegs))\n",
    "\n",
    "printerWrapper(raw_acous, True, True)\n"
   ]
  },
  {
   "cell_type": "markdown",
   "metadata": {},
   "source": [
    "### Find best energy measure"
   ]
  },
  {
   "cell_type": "code",
   "execution_count": null,
   "metadata": {},
   "outputs": [],
   "source": [
    "energylsit = ['energy1', 'energy2', 'energy3', 'energy4', 'energy1 energy2 energy3 energy4']\n",
    "printerWrapper(energylsit, True, True)\n",
    "\n"
   ]
  },
  {
   "cell_type": "markdown",
   "metadata": {},
   "source": [
    "### dance now"
   ]
  },
  {
   "cell_type": "code",
   "execution_count": null,
   "metadata": {},
   "outputs": [],
   "source": [
    "dancelist = ['dance1', 'dance2', 'dance3', 'dance4', 'dance1 dance2 dance3 dance4']\n",
    "\n",
    "printerWrapper(dancelist, True, True)"
   ]
  },
  {
   "cell_type": "markdown",
   "metadata": {},
   "source": [
    "### All Acoustic"
   ]
  },
  {
   "cell_type": "code",
   "execution_count": null,
   "metadata": {},
   "outputs": [],
   "source": [
    "dancelist = 'dance1 dance2 dance3 dance4 '\n",
    "energylist = 'energy1 energy2 energy3 energy4 '\n",
    "\n",
    "acousitc =[]\n",
    "acousitc.append(dancelist)\n",
    "acousitc.append(energylist)\n",
    "acousitc.append(dancelist+energylist)\n",
    "acousitc.append(\"artist_familiarity artist_hotttnesss\")\n",
    "acousitc.append(dancelist+energylist+\"artist_familiarity artist_hotttnesss\")\n",
    "\n",
    "printerWrapper(acousitc, True, True)\n"
   ]
  },
  {
   "cell_type": "markdown",
   "metadata": {},
   "source": [
    "### Final "
   ]
  },
  {
   "cell_type": "code",
   "execution_count": null,
   "metadata": {},
   "outputs": [],
   "source": [
    "finalset = [dancelist+energylist+\"artist_familiarity artist_hotttnesss\"]\n",
    "\n",
    "printerWrapper(finalset, True, True)\n"
   ]
  },
  {
   "cell_type": "code",
   "execution_count": null,
   "metadata": {},
   "outputs": [],
   "source": [
    "rawacoustic = \" key loudness duration tempo time_signature segments_avg tatums_avg beats_avg bars_avg sections_avg  \"\n",
    "above = ' dance1 dance2 dance3 dance4 energy1 energy2 energy3 energy4 artist_familiarity artist_hotttnesss  '\n",
    "actual_all = rawacoustic+above\n",
    "\n",
    "printerWrapper([actual_all], True, True)"
   ]
  },
  {
   "cell_type": "code",
   "execution_count": null,
   "metadata": {},
   "outputs": [],
   "source": []
  },
  {
   "cell_type": "code",
   "execution_count": null,
   "metadata": {},
   "outputs": [],
   "source": []
  },
  {
   "cell_type": "code",
   "execution_count": null,
   "metadata": {},
   "outputs": [],
   "source": []
  }
 ],
 "metadata": {
  "kernelspec": {
   "display_name": "Python 2",
   "language": "python",
   "name": "python2"
  },
  "language_info": {
   "codemirror_mode": {
    "name": "ipython",
    "version": 2
   },
   "file_extension": ".py",
   "mimetype": "text/x-python",
   "name": "python",
   "nbconvert_exporter": "python",
   "pygments_lexer": "ipython2",
   "version": "2.7.14"
  }
 },
 "nbformat": 4,
 "nbformat_minor": 2
}
