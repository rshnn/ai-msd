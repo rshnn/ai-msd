{
 "cells": [
  {
   "cell_type": "markdown",
   "metadata": {},
   "source": [
    "# Support vector regression "
   ]
  },
  {
   "cell_type": "code",
   "execution_count": 1,
   "metadata": {},
   "outputs": [
    {
     "name": "stdout",
     "output_type": "stream",
     "text": [
      "This jupyter notebook was executed with:\n",
      "2.7.14 |Anaconda, Inc.| (default, Nov 20 2017, 18:04:19) \n",
      "[GCC 7.2.0]\n"
     ]
    }
   ],
   "source": [
    "import sys\n",
    "ver_info = sys.version\n",
    "print(\"This jupyter notebook was executed with:\\n{0}\".format(ver_info));\n"
   ]
  },
  {
   "cell_type": "markdown",
   "metadata": {},
   "source": [
    "## Imports"
   ]
  },
  {
   "cell_type": "code",
   "execution_count": 2,
   "metadata": {},
   "outputs": [],
   "source": [
    "import numpy as np\n",
    "import matplotlib as mpl\n",
    "import matplotlib.pyplot as plt\n",
    "import pandas as pd\n",
    "from scipy import stats, integrate\n",
    "import seaborn as sns\n",
    "\n",
    "import pprint\n",
    "p = pprint.PrettyPrinter(indent=4)\n",
    "\n",
    "import config as config\n",
    "\n",
    "%matplotlib inline\n"
   ]
  },
  {
   "cell_type": "markdown",
   "metadata": {},
   "source": [
    "## utilities and dataset\n",
    "+ Imports untilities and generates the dataset as pandas Dataframes \n",
    "+ Check config.py for the training/testing set ratio (currently TRAIN_FRAC = 0.75) "
   ]
  },
  {
   "cell_type": "code",
   "execution_count": 3,
   "metadata": {},
   "outputs": [
    {
     "name": "stderr",
     "output_type": "stream",
     "text": [
      "/home/rshn/anaconda3/envs/python2/lib/python2.7/site-packages/pandas/core/computation/check.py:17: UserWarning: The installed version of numexpr 2.2.2 is not supported in pandas and will be not be used\n",
      "The minimum supported version is 2.4.6\n",
      "\n",
      "  ver=ver, min_ver=_MIN_NUMEXPR_VERSION), UserWarning)\n"
     ]
    }
   ],
   "source": [
    "%run utilities.py\n",
    "util = Utilities({}, use_json=False)\n",
    "training_list, testing_list = util.get_datasets()\n",
    "\n",
    "# turning the datasets into pandas DataFrames \n",
    "training_DF, testing_DF = util.create_dataframes(training_list, testing_list)\n",
    "\n",
    "# generate the energy and dance measures \n",
    "training_DF, testing_DF = util.generate_energy_measure(training_DF, testing_DF)\n",
    "training_DF, testing_DF = util.generate_dance_measure(training_DF, testing_DF)\n"
   ]
  },
  {
   "cell_type": "markdown",
   "metadata": {},
   "source": [
    "## Making svr learners"
   ]
  },
  {
   "cell_type": "code",
   "execution_count": 4,
   "metadata": {},
   "outputs": [],
   "source": [
    "from sklearn.svm import SVR\n",
    "from sklearn import metrics \n",
    "# Look at utilities.py for RunAndTestLinearRegModel() "
   ]
  },
  {
   "cell_type": "code",
   "execution_count": 5,
   "metadata": {},
   "outputs": [],
   "source": [
    "%run utilities.py\n",
    "def printerWrapper(input_string_list, train=False, test=False):\n",
    "    \n",
    "    for item in input_string_list:\n",
    "        X_cols = item\n",
    "        results = util.RunAndTestSVRModel(X_cols, training_DF, testing_DF)\n",
    "        #  [x][1] = Mean squared error regression loss (bc its the smallest value lol)\n",
    "        mserr_training = results[0]\n",
    "        mserr_testing = results[1]\n",
    "        if train: \n",
    "#             print \"{:<40}\".format(item), \"training_error_rbf:\\t\", mserr_training[0]\n",
    "            print \"{:<40}\".format(item), \"training_error_lin:\\t\", mserr_training[1]\n",
    "#             print \"{:<40}\".format(item), \"training_error_poly:\\t\", mserr_training[2]\n",
    "        if test:\n",
    "#             print \"{:<40}\".format(item), \"testing_error_rbf:\\t\\t\\t\", mserr_testing[0]\n",
    "            print \"{:<40}\".format(item), \"testing_error_lin:\\t\\t\\t\", mserr_testing[1]\n",
    "#             print \"{:<40}\".format(item), \"testing_error_poly:\\t\\t\\t\", mserr_testing[2]\n",
    "        # print \"The min error values were:\", min(results[1]), min(results[2])\n",
    "        # print \"std of hot is:\", results[3]\n",
    "        # -------------------------------------------------\n"
   ]
  },
  {
   "cell_type": "markdown",
   "metadata": {},
   "source": [
    "### Using metadata (art_hot and art_fam)"
   ]
  },
  {
   "cell_type": "code",
   "execution_count": 14,
   "metadata": {},
   "outputs": [
    {
     "name": "stdout",
     "output_type": "stream",
     "text": [
      "artist_familiarity                       testing_error_lin:\t\t\t0.0207823330334\n",
      "artist_hotttnesss                        testing_error_lin:\t\t\t0.0221534696807\n",
      "artist_hotttnesss artist_familiarity     testing_error_lin:\t\t\t0.0206913126232\n"
     ]
    }
   ],
   "source": [
    "metadata = ['artist_familiarity', 'artist_hotttnesss', 'artist_hotttnesss artist_familiarity']\n",
    "printerWrapper(metadata, False, True)"
   ]
  },
  {
   "cell_type": "markdown",
   "metadata": {},
   "source": [
    "### using acoustic features"
   ]
  },
  {
   "cell_type": "code",
   "execution_count": 7,
   "metadata": {},
   "outputs": [
    {
     "name": "stdout",
     "output_type": "stream",
     "text": [
      "segments_avg                             training_error_lin:\t0.028380827084\n",
      "segments_avg                             testing_error_lin:\t\t\t0.0281333776869\n",
      "tatums_avg                               training_error_lin:\t0.0281005834203\n",
      "tatums_avg                               testing_error_lin:\t\t\t0.027818376399\n",
      "beats_avg                                training_error_lin:\t0.0281014890502\n",
      "beats_avg                                testing_error_lin:\t\t\t0.0281330018524\n",
      "bars_avg                                 training_error_lin:\t0.0283467300269\n",
      "bars_avg                                 testing_error_lin:\t\t\t0.0281307474524\n",
      "sections_avg                             training_error_lin:\t0.02833380791\n",
      "sections_avg                             testing_error_lin:\t\t\t0.0281769396472\n",
      "segments_avg tatums_avg beats_avg bars_avg sections_avg  training_error_lin:\t0.027862563086\n",
      "segments_avg tatums_avg beats_avg bars_avg sections_avg  testing_error_lin:\t\t\t0.0277782635166\n",
      "key                                      training_error_lin:\t0.0283646655923\n",
      "key                                      testing_error_lin:\t\t\t0.0281211124207\n",
      "loudness                                 training_error_lin:\t0.0270572855884\n",
      "loudness                                 testing_error_lin:\t\t\t0.0269383679225\n",
      "duration                                 training_error_lin:\t0.0283825954095\n",
      "duration                                 testing_error_lin:\t\t\t0.0280901833334\n",
      "tempo                                    training_error_lin:\t0.0281577050825\n",
      "tempo                                    testing_error_lin:\t\t\t0.0282058009196\n",
      "time_signature                           training_error_lin:\t0.0283171504712\n",
      "time_signature                           testing_error_lin:\t\t\t0.0280831150021\n",
      "key loudness duration tempo time_signature training_error_lin:\t0.0269309561756\n",
      "key loudness duration tempo time_signature testing_error_lin:\t\t\t0.0270448232328\n",
      "key loudness duration tempo time_signature segments_avg tatums_avg beats_avg bars_avg sections_avg  training_error_lin:\t0.0266940073282\n",
      "key loudness duration tempo time_signature segments_avg tatums_avg beats_avg bars_avg sections_avg  testing_error_lin:\t\t\t0.026651993487\n"
     ]
    }
   ],
   "source": [
    "allsegs = 'segments_avg tatums_avg beats_avg bars_avg sections_avg '\n",
    "allrawacous = 'key loudness duration tempo time_signature'\n",
    "\n",
    "raw_acous = []\n",
    "for each in allsegs.split():\n",
    "    raw_acous.append(each)\n",
    "\n",
    "raw_acous.append(allsegs)\n",
    "\n",
    "\n",
    "for each in allrawacous.split():\n",
    "    raw_acous.append(each)   \n",
    "raw_acous.append(allrawacous)\n",
    "raw_acous.append((allrawacous+ ' ' + allsegs))\n",
    "\n",
    "printerWrapper(raw_acous, True, True)\n"
   ]
  },
  {
   "cell_type": "markdown",
   "metadata": {},
   "source": [
    "### Find best energy measure"
   ]
  },
  {
   "cell_type": "code",
   "execution_count": 8,
   "metadata": {},
   "outputs": [
    {
     "name": "stdout",
     "output_type": "stream",
     "text": [
      "energy1                                  training_error_lin:\t0.0213848348243\n",
      "energy1                                  testing_error_lin:\t\t\t0.0208953239173\n",
      "energy2                                  training_error_lin:\t0.0221882118538\n",
      "energy2                                  testing_error_lin:\t\t\t0.0222673200505\n",
      "energy3                                  training_error_lin:\t0.0217659300591\n",
      "energy3                                  testing_error_lin:\t\t\t0.020998582028\n",
      "energy4                                  training_error_lin:\t0.0235614575931\n",
      "energy4                                  testing_error_lin:\t\t\t0.0231838824006\n",
      "energy1 energy2 energy3 energy4          training_error_lin:\t0.0213338199646\n",
      "energy1 energy2 energy3 energy4          testing_error_lin:\t\t\t0.0209878456166\n"
     ]
    }
   ],
   "source": [
    "energylsit = ['energy1', 'energy2', 'energy3', 'energy4', 'energy1 energy2 energy3 energy4']\n",
    "printerWrapper(energylsit, True, True)\n",
    "\n"
   ]
  },
  {
   "cell_type": "markdown",
   "metadata": {},
   "source": [
    "### dance now"
   ]
  },
  {
   "cell_type": "code",
   "execution_count": 9,
   "metadata": {},
   "outputs": [
    {
     "name": "stdout",
     "output_type": "stream",
     "text": [
      "dance1                                   training_error_lin:\t0.0229828024711\n",
      "dance1                                   testing_error_lin:\t\t\t0.0237196332055\n",
      "dance2                                   training_error_lin:\t0.0221998733703\n",
      "dance2                                   testing_error_lin:\t\t\t0.0230825418749\n",
      "dance3                                   training_error_lin:\t0.0241291890035\n",
      "dance3                                   testing_error_lin:\t\t\t0.0244062939743\n",
      "dance4                                   training_error_lin:\t0.0241820826992\n",
      "dance4                                   testing_error_lin:\t\t\t0.024481880518\n",
      "dance1 dance2 dance3 dance4              training_error_lin:\t0.0218754722092\n",
      "dance1 dance2 dance3 dance4              testing_error_lin:\t\t\t0.0229647884515\n"
     ]
    }
   ],
   "source": [
    "dancelist = ['dance1', 'dance2', 'dance3', 'dance4', 'dance1 dance2 dance3 dance4']\n",
    "\n",
    "printerWrapper(dancelist, True, True)"
   ]
  },
  {
   "cell_type": "markdown",
   "metadata": {},
   "source": [
    "### All Acoustic"
   ]
  },
  {
   "cell_type": "code",
   "execution_count": 10,
   "metadata": {},
   "outputs": [
    {
     "name": "stdout",
     "output_type": "stream",
     "text": [
      "dance1 dance2 dance3 dance4              training_error_lin:\t0.0218754722092\n",
      "dance1 dance2 dance3 dance4              testing_error_lin:\t\t\t0.0229647884515\n",
      "energy1 energy2 energy3 energy4          training_error_lin:\t0.0213338199646\n",
      "energy1 energy2 energy3 energy4          testing_error_lin:\t\t\t0.0209878456166\n",
      "dance1 dance2 dance3 dance4 energy1 energy2 energy3 energy4  training_error_lin:\t0.0204930947419\n",
      "dance1 dance2 dance3 dance4 energy1 energy2 energy3 energy4  testing_error_lin:\t\t\t0.0207891643069\n",
      "artist_familiarity artist_hotttnesss     training_error_lin:\t0.0205565154158\n",
      "artist_familiarity artist_hotttnesss     testing_error_lin:\t\t\t0.0206913126232\n",
      "dance1 dance2 dance3 dance4 energy1 energy2 energy3 energy4 artist_familiarity artist_hotttnesss training_error_lin:\t0.0201394821972\n",
      "dance1 dance2 dance3 dance4 energy1 energy2 energy3 energy4 artist_familiarity artist_hotttnesss testing_error_lin:\t\t\t0.0204195550606\n"
     ]
    }
   ],
   "source": [
    "dancelist = 'dance1 dance2 dance3 dance4 '\n",
    "energylist = 'energy1 energy2 energy3 energy4 '\n",
    "\n",
    "acousitc =[]\n",
    "acousitc.append(dancelist)\n",
    "acousitc.append(energylist)\n",
    "acousitc.append(dancelist+energylist)\n",
    "acousitc.append(\"artist_familiarity artist_hotttnesss\")\n",
    "acousitc.append(dancelist+energylist+\"artist_familiarity artist_hotttnesss\")\n",
    "\n",
    "printerWrapper(acousitc, True, True)\n"
   ]
  },
  {
   "cell_type": "markdown",
   "metadata": {},
   "source": [
    "### Final "
   ]
  },
  {
   "cell_type": "code",
   "execution_count": 11,
   "metadata": {},
   "outputs": [
    {
     "name": "stdout",
     "output_type": "stream",
     "text": [
      "dance1 dance2 dance3 dance4 energy1 energy2 energy3 energy4 artist_familiarity artist_hotttnesss training_error_lin:\t0.0201394821972\n",
      "dance1 dance2 dance3 dance4 energy1 energy2 energy3 energy4 artist_familiarity artist_hotttnesss testing_error_lin:\t\t\t0.0204195550606\n"
     ]
    }
   ],
   "source": [
    "finalset = [dancelist+energylist+\"artist_familiarity artist_hotttnesss\"]\n",
    "\n",
    "printerWrapper(finalset, True, True)\n"
   ]
  },
  {
   "cell_type": "code",
   "execution_count": 12,
   "metadata": {},
   "outputs": [
    {
     "name": "stdout",
     "output_type": "stream",
     "text": [
      " key loudness duration tempo time_signature segments_avg tatums_avg beats_avg bars_avg sections_avg   dance1 dance2 dance3 dance4 energy1 energy2 energy3 energy4 artist_familiarity artist_hotttnesss   training_error_lin:\t0.0200916788824\n",
      " key loudness duration tempo time_signature segments_avg tatums_avg beats_avg bars_avg sections_avg   dance1 dance2 dance3 dance4 energy1 energy2 energy3 energy4 artist_familiarity artist_hotttnesss   testing_error_lin:\t\t\t0.0205697598433\n"
     ]
    }
   ],
   "source": [
    "rawacoustic = \" key loudness duration tempo time_signature segments_avg tatums_avg beats_avg bars_avg sections_avg  \"\n",
    "above = ' dance1 dance2 dance3 dance4 energy1 energy2 energy3 energy4 artist_familiarity artist_hotttnesss  '\n",
    "actual_all = rawacoustic+above\n",
    "\n",
    "printerWrapper([actual_all], True, True)"
   ]
  },
  {
   "cell_type": "code",
   "execution_count": null,
   "metadata": {},
   "outputs": [],
   "source": []
  },
  {
   "cell_type": "code",
   "execution_count": null,
   "metadata": {},
   "outputs": [],
   "source": []
  }
 ],
 "metadata": {
  "kernelspec": {
   "display_name": "Python 2",
   "language": "python",
   "name": "python2"
  },
  "language_info": {
   "codemirror_mode": {
    "name": "ipython",
    "version": 2
   },
   "file_extension": ".py",
   "mimetype": "text/x-python",
   "name": "python",
   "nbconvert_exporter": "python",
   "pygments_lexer": "ipython2",
   "version": "2.7.14"
  }
 },
 "nbformat": 4,
 "nbformat_minor": 2
}
