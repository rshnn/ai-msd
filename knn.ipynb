{
 "cells": [
  {
   "cell_type": "markdown",
   "metadata": {},
   "source": [
    "# k Nearest Neighbors"
   ]
  },
  {
   "cell_type": "markdown",
   "metadata": {},
   "source": [
    "## Imports"
   ]
  },
  {
   "cell_type": "code",
   "execution_count": 1,
   "metadata": {},
   "outputs": [],
   "source": [
    "import numpy as np\n",
    "import matplotlib as mpl\n",
    "import matplotlib.pyplot as plt\n",
    "import pandas as pd\n",
    "from scipy import stats, integrate\n",
    "import seaborn as sns\n",
    "\n",
    "import pprint\n",
    "p = pprint.PrettyPrinter(indent=4)\n",
    "\n",
    "import config as config\n",
    "\n",
    "%matplotlib inline\n"
   ]
  },
  {
   "cell_type": "markdown",
   "metadata": {},
   "source": [
    "## Importing utilities object\n",
    "+ imports dataset as lists (a training and test set)\n"
   ]
  },
  {
   "cell_type": "code",
   "execution_count": 2,
   "metadata": {},
   "outputs": [],
   "source": [
    "%run utilities.py\n",
    "util = Utilities({}, use_json=False)\n",
    "training_list, cv_list, testing_list = util.get_datasets()\n",
    "\n",
    "# turning the datasets into pandas DataFrames \n",
    "training_DF, cv_DF, testing_DF = util.create_dataframes(training_list, cv_list, testing_list)\n",
    "\n",
    "# generate the energy and dance measures \n",
    "training_DF, cv_DF, testing_DF = util.generate_energy_measure(training_DF, cv_DF, testing_DF)\n",
    "training_DF, cv_DF, testing_DF = util.generate_dance_measure(training_DF, cv_DF, testing_DF)\n"
   ]
  },
  {
   "cell_type": "code",
   "execution_count": null,
   "metadata": {},
   "outputs": [],
   "source": []
  },
  {
   "cell_type": "code",
   "execution_count": 3,
   "metadata": {},
   "outputs": [],
   "source": [
    "from models.linear_regression_model import LinearRegressionModel"
   ]
  },
  {
   "cell_type": "code",
   "execution_count": 4,
   "metadata": {},
   "outputs": [],
   "source": [
    "X = training_DF['artist_familiarity artist_hotttnesss artist_familiarity'.split()] \n",
    "y = training_DF['song_hotttnesss']"
   ]
  },
  {
   "cell_type": "code",
   "execution_count": null,
   "metadata": {},
   "outputs": [],
   "source": []
  },
  {
   "cell_type": "code",
   "execution_count": 13,
   "metadata": {},
   "outputs": [
    {
     "data": {
      "text/plain": [
       "array([0.45881342])"
      ]
     },
     "execution_count": 13,
     "metadata": {},
     "output_type": "execute_result"
    }
   ],
   "source": [
    "mod = LinearRegressionModel()\n",
    "mod.train(X, y)\n",
    "mod.predict([X.loc[3]])"
   ]
  },
  {
   "cell_type": "code",
   "execution_count": null,
   "metadata": {},
   "outputs": [],
   "source": []
  },
  {
   "cell_type": "code",
   "execution_count": null,
   "metadata": {},
   "outputs": [],
   "source": []
  },
  {
   "cell_type": "code",
   "execution_count": 12,
   "metadata": {},
   "outputs": [],
   "source": [
    "df"
   ]
  },
  {
   "cell_type": "code",
   "execution_count": 13,
   "metadata": {},
   "outputs": [],
   "source": [
    "df_norm = (df - df.mean()) / (df.max() - df.min())"
   ]
  },
  {
   "cell_type": "code",
   "execution_count": 17,
   "metadata": {},
   "outputs": [
    {
     "data": {
      "text/plain": [
       "track_id               object\n",
       "title                  object\n",
       "song_id                object\n",
       "release                object\n",
       "artist_id              object\n",
       "artist_mbid            object\n",
       "artist_name            object\n",
       "duration              float64\n",
       "artist_familiarity    float64\n",
       "artist_hotttnesss     float64\n",
       "year                    int64\n",
       "track_7digitalid        int64\n",
       "shs_perf                int64\n",
       "shs_work                int64\n",
       "song_hotttnesss       float64\n",
       "danceability          float64\n",
       "energy                float64\n",
       "key                     int64\n",
       "tempo                 float64\n",
       "loudness              float64\n",
       "time_signature          int64\n",
       "segments_avg          float64\n",
       "tatums_avg            float64\n",
       "beats_avg             float64\n",
       "bars_avg              float64\n",
       "sections_avg          float64\n",
       "energy1               float64\n",
       "energy2               float64\n",
       "energy3               float64\n",
       "energy4               float64\n",
       "dance1                float64\n",
       "dance2                float64\n",
       "dance3                float64\n",
       "dance4                float64\n",
       "dtype: object"
      ]
     },
     "execution_count": 17,
     "metadata": {},
     "output_type": "execute_result"
    }
   ],
   "source": [
    "training_DF.dtypes"
   ]
  },
  {
   "cell_type": "code",
   "execution_count": 32,
   "metadata": {},
   "outputs": [],
   "source": [
    "numeric_cols = training_DF._get_numeric_data().columns \n",
    "for col in numeric_cols: \n",
    "    training_DF[numeric_cols] "
   ]
  },
  {
   "cell_type": "code",
   "execution_count": 36,
   "metadata": {},
   "outputs": [],
   "source": [
    "from sklearn import preprocessing\n",
    "min_max_scaler = preprocessing.MinMaxScaler()\n",
    "x_scaled = min_max_scaler.fit_transform(X)\n"
   ]
  },
  {
   "cell_type": "code",
   "execution_count": 38,
   "metadata": {},
   "outputs": [
    {
     "data": {
      "text/html": [
       "<div>\n",
       "<style scoped>\n",
       "    .dataframe tbody tr th:only-of-type {\n",
       "        vertical-align: middle;\n",
       "    }\n",
       "\n",
       "    .dataframe tbody tr th {\n",
       "        vertical-align: top;\n",
       "    }\n",
       "\n",
       "    .dataframe thead th {\n",
       "        text-align: right;\n",
       "    }\n",
       "</style>\n",
       "<table border=\"1\" class=\"dataframe\">\n",
       "  <thead>\n",
       "    <tr style=\"text-align: right;\">\n",
       "      <th></th>\n",
       "      <th>artist_familiarity</th>\n",
       "      <th>artist_hotttnesss</th>\n",
       "      <th>artist_familiarity</th>\n",
       "    </tr>\n",
       "  </thead>\n",
       "  <tbody>\n",
       "    <tr>\n",
       "      <th>0</th>\n",
       "      <td>0.731066</td>\n",
       "      <td>0.509879</td>\n",
       "      <td>0.731066</td>\n",
       "    </tr>\n",
       "    <tr>\n",
       "      <th>1</th>\n",
       "      <td>0.581475</td>\n",
       "      <td>0.298377</td>\n",
       "      <td>0.581475</td>\n",
       "    </tr>\n",
       "    <tr>\n",
       "      <th>2</th>\n",
       "      <td>0.483075</td>\n",
       "      <td>0.339457</td>\n",
       "      <td>0.483075</td>\n",
       "    </tr>\n",
       "    <tr>\n",
       "      <th>3</th>\n",
       "      <td>0.583443</td>\n",
       "      <td>0.385788</td>\n",
       "      <td>0.583443</td>\n",
       "    </tr>\n",
       "    <tr>\n",
       "      <th>4</th>\n",
       "      <td>0.594833</td>\n",
       "      <td>0.378650</td>\n",
       "      <td>0.594833</td>\n",
       "    </tr>\n",
       "  </tbody>\n",
       "</table>\n",
       "</div>"
      ],
      "text/plain": [
       "   artist_familiarity  artist_hotttnesss  artist_familiarity\n",
       "0            0.731066           0.509879            0.731066\n",
       "1            0.581475           0.298377            0.581475\n",
       "2            0.483075           0.339457            0.483075\n",
       "3            0.583443           0.385788            0.583443\n",
       "4            0.594833           0.378650            0.594833"
      ]
     },
     "execution_count": 38,
     "metadata": {},
     "output_type": "execute_result"
    }
   ],
   "source": [
    "X.head()"
   ]
  },
  {
   "cell_type": "code",
   "execution_count": 39,
   "metadata": {},
   "outputs": [
    {
     "data": {
      "text/plain": [
       "array([[0.73106576, 0.43732872, 0.73106576],\n",
       "       [0.58147522, 0.20461207, 0.58147522],\n",
       "       [0.48307464, 0.24981297, 0.48307464],\n",
       "       ...,\n",
       "       [0.59160201, 0.28946763, 0.59160201],\n",
       "       [0.62112105, 0.35569189, 0.62112105],\n",
       "       [0.66621616, 0.48121172, 0.66621616]])"
      ]
     },
     "execution_count": 39,
     "metadata": {},
     "output_type": "execute_result"
    }
   ],
   "source": [
    "x_scaled"
   ]
  },
  {
   "cell_type": "code",
   "execution_count": null,
   "metadata": {},
   "outputs": [],
   "source": []
  },
  {
   "cell_type": "code",
   "execution_count": null,
   "metadata": {},
   "outputs": [],
   "source": []
  },
  {
   "cell_type": "markdown",
   "metadata": {},
   "source": [
    "# Makin Linear Reg Learners!"
   ]
  },
  {
   "cell_type": "code",
   "execution_count": null,
   "metadata": {},
   "outputs": [],
   "source": [
    "from sklearn.linear_model import LinearRegression\n",
    "from sklearn import metrics \n",
    "# Look at utilities.py for RunAndTestLinearRegModel() "
   ]
  },
  {
   "cell_type": "markdown",
   "metadata": {},
   "source": [
    "### using metadata (familiarity and artist_hott)"
   ]
  },
  {
   "cell_type": "code",
   "execution_count": null,
   "metadata": {},
   "outputs": [],
   "source": [
    "metadata = ['artist_familiarity', 'artist_hotttnesss', 'artist_hotttnesss artist_familiarity']\n",
    "\n",
    "for item in metadata:\n",
    "    X_cols = item\n",
    "    results = util.RunAndTestLinearRegModel(X_cols, training_DF, testing_DF)\n",
    "#     print results\n",
    "    #  [x][1] = Mean squared error regression loss (bc its the smallest value lol)\n",
    "    mserr_training = results[1][1]\n",
    "    mserr_testing = results[2][1]\n",
    "\n",
    "    print \"{:<40}\".format(item), \"training_error:\\t\", mserr_training\n",
    "    print \"{:<40}\".format(item), \"testing_error:\\t\\t\\t\", mserr_testing\n",
    "    # print \"The min error values were:\", min(results[1]), min(results[2])\n",
    "    # print \"std of hot is:\", results[3]\n",
    "    # -------------------------------------------------\n"
   ]
  },
  {
   "cell_type": "markdown",
   "metadata": {},
   "source": [
    "#### Conclusions?\n",
    "can see that a combination of both features perform better"
   ]
  },
  {
   "cell_type": "markdown",
   "metadata": {},
   "source": [
    "### using acoustic features "
   ]
  },
  {
   "cell_type": "code",
   "execution_count": null,
   "metadata": {},
   "outputs": [],
   "source": [
    "allsegs = 'segments_avg tatums_avg beats_avg bars_avg sections_avg '\n",
    "allrawacous = 'key loudness duration tempo time_signature'\n",
    "\n",
    "raw_acous = []\n",
    "for each in allsegs.split():\n",
    "    raw_acous.append(each)\n",
    "\n",
    "raw_acous.append(allsegs)\n",
    "\n",
    "for each in allrawacous.split():\n",
    "    raw_acous.append(each)   \n",
    "raw_acous.append(allrawacous)\n",
    "\n",
    "for item in raw_acous:\n",
    "    X_cols = item\n",
    "    results = util.RunAndTestLinearRegModel(X_cols, training_DF, testing_DF)\n",
    "\n",
    "    #  [x][1] = Mean squared error regression loss (bc its the smallest value lol)\n",
    "    mserr_training = results[1][1]\n",
    "    mserr_testing = results[2][1]\n",
    "\n",
    "    print \"{:<60}\".format(item), \"training_error:\\t\", mserr_training\n",
    "#     print \"{:<40}\".format(item), \"testing_error:\\t\\t\\t\", mserr_testing\n",
    "    # print \"The min error values were:\", min(results[1]), min(results[2])\n",
    "#     print \"std of hot is:\", results[3]\n",
    "    # -------------------------------------------------\n",
    "print results[3]"
   ]
  },
  {
   "cell_type": "code",
   "execution_count": null,
   "metadata": {},
   "outputs": [],
   "source": [
    "0.02/0.167923247404*100"
   ]
  },
  {
   "cell_type": "markdown",
   "metadata": {},
   "source": [
    "## Finding the best energy measure"
   ]
  },
  {
   "cell_type": "code",
   "execution_count": null,
   "metadata": {},
   "outputs": [],
   "source": [
    "energylsit = ['energy1', 'energy2', 'energy3', 'energy4', 'energy1 energy2 energy3 energy4']\n",
    "\n",
    "for item in energylsit:\n",
    "    X_cols = item\n",
    "    results = util.RunAndTestLinearRegModel(X_cols, training_DF, testing_DF)\n",
    "\n",
    "    #  [x][1] = Mean squared error regression loss (bc its the smallest value lol)\n",
    "    mserr_training = results[1][1]\n",
    "    mserr_testing = results[2][1]\n",
    "\n",
    "    print \"{:<40}\".format(item), \"training_error:\\t\", mserr_training\n",
    "    # print \"d1 testing_error\\t\", mserr_testing\n",
    "    # print \"The min error values were:\", min(results[1]), min(results[2])\n",
    "    # print \"std of hot is:\", results[3]\n",
    "    # -------------------------------------------------\n",
    "\n",
    "\n"
   ]
  },
  {
   "cell_type": "code",
   "execution_count": null,
   "metadata": {
    "scrolled": true
   },
   "outputs": [],
   "source": [
    "# Comparing acoustic results\n",
    "acous_compare = [\"energy1 energy2 energy3 energy4 tatums_avg beats_avg\", \n",
    "                 \"energy1 energy2 energy3 energy4 tempo loudness\", \n",
    "                 \"energy1 energy2 energy3 energy4 tempo loudness tatums_avg beats_avg\"]\n",
    "\n",
    "for item in acous_compare:\n",
    "    X_cols = item\n",
    "    results = util.RunAndTestLinearRegModel(X_cols, training_DF, testing_DF)\n",
    "\n",
    "    #  [x][1] = Mean squared error regression loss (bc its the smallest value lol)\n",
    "    mserr_training = results[1][1]\n",
    "    mserr_testing = results[2][1]\n",
    "\n",
    "    print \"{:<70}\".format(item), \"training_error:\\t\", mserr_training\n",
    "    # print \"d1 testing_error\\t\", mserr_testing\n",
    "    # print \"The min error values were:\", min(results[1]), min(results[2])\n",
    "    # print \"std of hot is:\", results[3]\n",
    "    # -------------------------------------------------\n",
    "\n",
    "\n",
    "\n"
   ]
  },
  {
   "cell_type": "markdown",
   "metadata": {},
   "source": [
    "## lets play with the dance measure now"
   ]
  },
  {
   "cell_type": "code",
   "execution_count": null,
   "metadata": {},
   "outputs": [],
   "source": [
    "dancelist = ['dance1', 'dance2', 'dance3', 'dance4', 'dance1 dance2 dance3 dance4']\n",
    "\n",
    "for item in dancelist:\n",
    "    # dance1\n",
    "    X_cols = item\n",
    "    results = util.RunAndTestLinearRegModel(X_cols, training_DF, testing_DF)\n",
    "\n",
    "    #  [x][1] = Mean squared error regression loss (bc its the smallest value lol)\n",
    "    mserr_training = results[1][1]\n",
    "    mserr_testing = results[2][1]\n",
    "\n",
    "    print \"{:<40}\".format(item), \"training_error:\\t\", mserr_training\n",
    "    # print \"d1 testing_error\\t\", mserr_testing\n",
    "    # print \"The min error values were:\", min(results[1]), min(results[2])\n",
    "    # print \"std of hot is:\", results[3]\n",
    "    # -------------------------------------------------\n",
    "\n",
    "\n"
   ]
  },
  {
   "cell_type": "code",
   "execution_count": null,
   "metadata": {},
   "outputs": [],
   "source": [
    "dancelist = 'dance1 dance2 dance3 dance4 '\n",
    "energylist = 'energy1 energy2 energy3 energy4 '\n",
    "\n",
    "acousitc =[]\n",
    "acousitc.append(dancelist)\n",
    "acousitc.append(energylist)\n",
    "acousitc.append(dancelist+energylist)\n",
    "acousitc.append(\"artist_familiarity artist_hotttnesss\")\n",
    "acousitc.append(dancelist+energylist+\"artist_familiarity artist_hotttnesss\")\n",
    "\n",
    "for item in acousitc:\n",
    "    # dance1\n",
    "    X_cols = item\n",
    "    results = util.RunAndTestLinearRegModel(X_cols, training_DF, testing_DF)\n",
    "\n",
    "    #  [x][1] = Mean squared error regression loss (bc its the smallest value lol)\n",
    "    mserr_training = results[1][1]\n",
    "    mserr_testing = results[2][1]\n",
    "\n",
    "    if(len(item)>70):\n",
    "        item='alleng alldance allmeta'\n",
    "    \n",
    "    print \"{:<70}\".format(item), \"training_error:\\t\", mserr_training\n",
    "#     print \"{:<70}\".format(item), \"training_error:\\t\\t\", mserr_testing\n",
    "    # print \"The min error values were:\", min(results[1]), min(results[2])\n",
    "    # print \"std of hot is:\", results[3]\n",
    "    # -------------------------------------------------\n",
    "\n",
    "\n"
   ]
  },
  {
   "cell_type": "code",
   "execution_count": null,
   "metadata": {},
   "outputs": [],
   "source": [
    "finalset = [dancelist+energylist+\"artist_familiarity artist_hotttnesss\"]\n",
    "\n",
    "for item in finalset:\n",
    "    X_cols = item\n",
    "    results = util.RunAndTestLinearRegModel(X_cols, training_DF, testing_DF)\n",
    "\n",
    "    #  [x][1] = Mean squared error regression loss (bc its the smallest value lol)\n",
    "    mserr_training = results[1][1]\n",
    "    mserr_testing = results[2][1]\n",
    "\n",
    "    if(len(item)>70):\n",
    "        item='alleng alldance allmeta'\n",
    "    \n",
    "    print \"{:<70}\".format(item), \"training_error:\\t\", mserr_training\n",
    "    print \"{:<70}\".format(item), \"training_error:\\t\\t\", mserr_testing\n",
    "    # print \"The min error values were:\", min(results[1]), min(results[2])\n",
    "    print \"std of hot is:\\t\\t\", results[3]\n",
    "    print mserr_testing/results[3]*100\n",
    "    # -------------------------------------------------\n",
    "\n"
   ]
  },
  {
   "cell_type": "code",
   "execution_count": null,
   "metadata": {},
   "outputs": [],
   "source": []
  },
  {
   "cell_type": "markdown",
   "metadata": {},
   "source": [
    "## THROW IT ALL IN THERE \n"
   ]
  },
  {
   "cell_type": "code",
   "execution_count": null,
   "metadata": {},
   "outputs": [],
   "source": [
    "all_features = [dancelist+energylist+'tempo loudness tatums_avg beats_avg'+\" artist_familiarity artist_hotttnesss\"]\n",
    "\n",
    "for item in all_features:\n",
    "    X_cols = item\n",
    "    results = util.RunAndTestLinearRegModel(X_cols, training_DF, testing_DF)\n",
    "\n",
    "    #  [x][1] = Mean squared error regression loss (bc its the smallest value lol)\n",
    "    mserr_training = results[1][1]\n",
    "    mserr_testing = results[2][1]\n",
    "\n",
    "    if(len(item)>70):\n",
    "        item=\"allfeatures\"\n",
    "    \n",
    "    print \"{:<70}\".format(item), \"training_error:\\t\", mserr_training\n",
    "    print \"{:<70}\".format(item), \"training_error:\\t\", mserr_testing\n",
    "    # print \"The min error values were:\", min(results[1]), min(results[2])\n",
    "    # print \"std of hot is:\", results[3]\n",
    "    # -------------------------------------------------\n"
   ]
  },
  {
   "cell_type": "code",
   "execution_count": null,
   "metadata": {},
   "outputs": [],
   "source": []
  },
  {
   "cell_type": "code",
   "execution_count": null,
   "metadata": {},
   "outputs": [],
   "source": []
  },
  {
   "cell_type": "code",
   "execution_count": null,
   "metadata": {},
   "outputs": [],
   "source": []
  },
  {
   "cell_type": "code",
   "execution_count": null,
   "metadata": {},
   "outputs": [],
   "source": []
  },
  {
   "cell_type": "code",
   "execution_count": null,
   "metadata": {},
   "outputs": [],
   "source": []
  },
  {
   "cell_type": "code",
   "execution_count": null,
   "metadata": {},
   "outputs": [],
   "source": []
  },
  {
   "cell_type": "markdown",
   "metadata": {},
   "source": [
    "\n",
    "---\n"
   ]
  },
  {
   "cell_type": "markdown",
   "metadata": {},
   "source": [
    "# KNN STUFF"
   ]
  },
  {
   "cell_type": "markdown",
   "metadata": {},
   "source": [
    "### using metadata (familiarity and artist_hott)"
   ]
  },
  {
   "cell_type": "code",
   "execution_count": null,
   "metadata": {},
   "outputs": [],
   "source": [
    "metadata = ['artist_familiarity', 'artist_hotttnesss', 'artist_hotttnesss artist_familiarity']\n",
    "\n",
    "for item in metadata:\n",
    "    X_cols = item\n",
    "    results = util.RunAndTestKNNModel(X_cols, training_DF, testing_DF, 7)\n",
    "\n",
    "    #  [x][1] = Mean squared error regression loss (bc its the smallest value lol)\n",
    "    mserr_training = results[1][1]\n",
    "    mserr_testing = results[2][1]\n",
    "    discrete_mserr_training = results[4][1]\n",
    "    discrete_mserr_testing = results[5][1]\n",
    "\n",
    "    print \"{:<40}\".format(item), \"training_error:\\t\\t\", mserr_training\n",
    "    print \"{:<40}\".format(item), \"testing_error:\\t\\t\\t\", mserr_testing\n",
    "    print \"{:<40}\".format(item), \"discrete training_error:\\t\", discrete_mserr_training\n",
    "    print \"{:<40}\".format(item), \"discrete testing_error:\\t\", discrete_mserr_testing\n",
    "    print \"\"\n",
    "    # print \"The min error values were:\", min(results[1]), min(results[2])\n",
    "    # print \"std of hot is:\", results[3]\n",
    "    # -------------------------------------------------"
   ]
  },
  {
   "cell_type": "markdown",
   "metadata": {},
   "source": [
    "### using acoustic features "
   ]
  },
  {
   "cell_type": "code",
   "execution_count": null,
   "metadata": {},
   "outputs": [],
   "source": [
    "allsegs = 'segments_avg tatums_avg beats_avg bars_avg sections_avg '\n",
    "allrawacous = 'key loudness duration tempo time_signature'\n",
    "\n",
    "raw_acous = []\n",
    "for each in allsegs.split():\n",
    "    raw_acous.append(each)\n",
    "\n",
    "raw_acous.append(allsegs)\n",
    "\n",
    "for each in allrawacous.split():\n",
    "    raw_acous.append(each)   \n",
    "raw_acous.append(allrawacous)\n",
    "\n",
    "for item in raw_acous:\n",
    "    X_cols = item\n",
    "    results = util.RunAndTestKNNModel(X_cols, training_DF, testing_DF)\n",
    "\n",
    "    #  [x][1] = Mean squared error regression loss (bc its the smallest value lol)\n",
    "    mserr_training = results[1][1]\n",
    "    mserr_testing = results[2][1]\n",
    "    discrete_mserr_training = results[4][1]\n",
    "    discrete_mserr_testing = results[5][1]\n",
    "\n",
    "    print \"{:<60}\".format(item), \"training_error:\\t\\t\", mserr_training\n",
    "    print \"{:<60}\".format(item), \"testing_error:\\t\\t\", mserr_testing\n",
    "    print \"{:<60}\".format(item), \"discrete training_error:\\t\", discrete_mserr_training\n",
    "    print \"{:<60}\".format(item), \"discrete testing_error:\\t\", discrete_mserr_testing\n",
    "    print \"\"\n",
    "    # print \"The min error values were:\", min(results[1]), min(results[2])\n",
    "#     print \"std of hot is:\", results[3]\n",
    "    # -------------------------------------------------\n",
    "print results[3]"
   ]
  },
  {
   "cell_type": "markdown",
   "metadata": {},
   "source": [
    "### Finding the best energy measure"
   ]
  },
  {
   "cell_type": "code",
   "execution_count": null,
   "metadata": {},
   "outputs": [],
   "source": [
    "energylsit = ['energy1', 'energy2', 'energy3', 'energy4', 'energy1 energy2 energy3 energy4']\n",
    "\n",
    "for item in energylsit:\n",
    "    X_cols = item\n",
    "    results = util.RunAndTestKNNModel(X_cols, training_DF, testing_DF)\n",
    "\n",
    "    #  [x][1] = Mean squared error regression loss (bc its the smallest value lol)\n",
    "    mserr_training = results[1][1]\n",
    "    mserr_testing = results[2][1]\n",
    "    discrete_mserr_training = results[4][1]\n",
    "    discrete_mserr_testing = results[5][1]\n",
    "\n",
    "    print \"{:<40}\".format(item), \"training_error:\\t\\t\", mserr_training\n",
    "    print \"{:<40}\".format(item), \"testing_error:\\t\\t\\t\", mserr_testing\n",
    "    print \"{:<40}\".format(item), \"discrete training_error:\\t\", discrete_mserr_training\n",
    "    print \"{:<40}\".format(item), \"discrete testing_error:\\t\", discrete_mserr_testing\n",
    "    print \"\"\n",
    "#     print \"d1 testing_error\\t\", mserr_testing\n",
    "    # print \"The min error values were:\", min(results[1]), min(results[2])\n",
    "    # print \"std of hot is:\", results[3]\n",
    "    # -------------------------------------------------\n",
    "\n",
    "\n"
   ]
  },
  {
   "cell_type": "code",
   "execution_count": null,
   "metadata": {},
   "outputs": [],
   "source": [
    "# Comparing acoustic results\n",
    "acous_compare = [\"energy1 energy2 energy3 energy4 tatums_avg beats_avg\", \n",
    "                 \"energy1 energy2 energy3 energy4 tempo loudness\", \n",
    "                 \"energy1 energy2 energy3 energy4 tempo loudness tatums_avg beats_avg\"]\n",
    "\n",
    "for item in acous_compare:\n",
    "    X_cols = item\n",
    "    results = util.RunAndTestKNNModel(X_cols, training_DF, testing_DF)\n",
    "\n",
    "    #  [x][1] = Mean squared error regression loss (bc its the smallest value lol)\n",
    "    mserr_training = results[1][1]\n",
    "    mserr_testing = results[2][1]\n",
    "    discrete_mserr_training = results[4][1]\n",
    "    discrete_mserr_testing = results[5][1]\n",
    "\n",
    "    print \"{:<70}\".format(item), \"training_error:\\t\\t\", mserr_training\n",
    "    print \"{:<70}\".format(item), \"testing_error:\\t\\t\", mserr_testing\n",
    "    print \"{:<70}\".format(item), \"discrete training_error:\\t\", discrete_mserr_training\n",
    "    print \"{:<70}\".format(item), \"discrete testing_error:\\t\", discrete_mserr_testing\n",
    "    print \"\"\n",
    "#     print \"d1 testing_error\\t\", mserr_testing\n",
    "    # print \"The min error values were:\", min(results[1]), min(results[2])\n",
    "    # print \"std of hot is:\", results[3]\n",
    "    # -------------------------------------------------\n",
    "\n",
    "\n"
   ]
  },
  {
   "cell_type": "markdown",
   "metadata": {},
   "source": [
    "### lets play with the dance measure now"
   ]
  },
  {
   "cell_type": "code",
   "execution_count": null,
   "metadata": {},
   "outputs": [],
   "source": [
    "dancelist = ['dance1', 'dance2', 'dance3', 'dance4', 'dance1 dance2 dance3 dance4']\n",
    "\n",
    "for item in dancelist:\n",
    "    # dance1\n",
    "    X_cols = item\n",
    "    results = util.RunAndTestKNNModel(X_cols, training_DF, testing_DF)\n",
    "\n",
    "    #  [x][1] = Mean squared error regression loss (bc its the smallest value lol)\n",
    "    mserr_training = results[1][1]\n",
    "    mserr_testing = results[2][1]\n",
    "    discrete_mserr_training = results[4][1]\n",
    "    discrete_mserr_testing = results[5][1]\n",
    "\n",
    "    print \"{:<40}\".format(item), \"training_error:\\t\\t\", mserr_training\n",
    "    print \"{:<40}\".format(item), \"testing_error:\\t\\t\\t\", mserr_testing\n",
    "    print \"{:<40}\".format(item), \"discrete training_error:\\t\", discrete_mserr_training\n",
    "    print \"{:<40}\".format(item), \"discrete testing_error:\\t\", discrete_mserr_testing\n",
    "    print \"\"\n",
    "    # print \"d1 testing_error\\t\", mserr_testing\n",
    "    # print \"The min error values were:\", min(results[1]), min(results[2])\n",
    "    # print \"std of hot is:\", results[3]\n",
    "    # -------------------------------------------------\n",
    "\n"
   ]
  },
  {
   "cell_type": "code",
   "execution_count": null,
   "metadata": {},
   "outputs": [],
   "source": [
    "dancelist = 'dance1 dance2 dance3 dance4 '\n",
    "energylist = 'energy1 energy2 energy3 energy4 '\n",
    "\n",
    "acousitc =[]\n",
    "acousitc.append(dancelist)\n",
    "acousitc.append(energylist)\n",
    "acousitc.append(dancelist+energylist)\n",
    "acousitc.append(\"artist_familiarity artist_hotttnesss\")\n",
    "acousitc.append(dancelist+energylist+\"artist_familiarity artist_hotttnesss\")\n",
    "\n",
    "for item in acousitc:\n",
    "    # dance1\n",
    "    X_cols = item\n",
    "    results = util.RunAndTestKNNModel(X_cols, training_DF, testing_DF)\n",
    "\n",
    "    #  [x][1] = Mean squared error regression loss (bc its the smallest value lol)\n",
    "    mserr_training = results[1][1]\n",
    "    mserr_testing = results[2][1]\n",
    "    discrete_mserr_training = results[4][1]\n",
    "    discrete_mserr_testing = results[5][1]\n",
    "\n",
    "    if(len(item)>70):\n",
    "        item='alleng alldance allmeta'\n",
    "    \n",
    "    print \"{:<70}\".format(item), \"training_error:\\t\\t\", mserr_training\n",
    "    print \"{:<70}\".format(item), \"testing_error:\\t\\t\", mserr_testing\n",
    "    print \"{:<70}\".format(item), \"discrete training_error:\\t\", discrete_mserr_training\n",
    "    print \"{:<70}\".format(item), \"discrete testing_error:\\t\", discrete_mserr_testing\n",
    "    print \"\"\n",
    "    # print \"The min error values were:\", min(results[1]), min(results[2])\n",
    "    # print \"std of hot is:\", results[3]\n",
    "    # -------------------------------------------------\n",
    "\n",
    "\n"
   ]
  },
  {
   "cell_type": "code",
   "execution_count": null,
   "metadata": {},
   "outputs": [],
   "source": [
    "finalset = [dancelist+energylist+\"artist_familiarity artist_hotttnesss\"]\n",
    "\n",
    "for item in finalset:\n",
    "    X_cols = item\n",
    "    results = util.RunAndTestKNNModel(X_cols, training_DF, testing_DF)\n",
    "\n",
    "    #  [x][1] = Mean squared error regression loss (bc its the smallest value lol)\n",
    "    mserr_training = results[1][1]\n",
    "    mserr_testing = results[2][1]\n",
    "    discrete_mserr_training = results[4][1]\n",
    "    discrete_mserr_testing = results[5][1]\n",
    "\n",
    "    if(len(item)>70):\n",
    "        item='alleng alldance allmeta'\n",
    "\n",
    "    print \"{:<70}\".format(item), \"training_error:\\t\\t\", mserr_training\n",
    "    print \"{:<70}\".format(item), \"testing_error:\\t\\t\", mserr_testing\n",
    "    print \"{:<70}\".format(item), \"discrete training_error:\\t\", discrete_mserr_training\n",
    "    print \"{:<70}\".format(item), \"discrete testing_error:\\t\", discrete_mserr_testing\n",
    "    print \"\"\n",
    "    # print \"The min error values were:\", min(results[1]), min(results[2])\n",
    "    print \"std of hot is:\\t\\t\", results[3]\n",
    "#     print mserr_testing/results[3]*100\n",
    "    # -------------------------------------------------\n",
    "\n"
   ]
  },
  {
   "cell_type": "markdown",
   "metadata": {},
   "source": [
    "### THROW IT ALL IN THERE "
   ]
  },
  {
   "cell_type": "code",
   "execution_count": null,
   "metadata": {},
   "outputs": [],
   "source": [
    "all_features = [dancelist+energylist+'tempo loudness tatums_avg beats_avg'+\" artist_familiarity artist_hotttnesss\"]\n",
    "\n",
    "for item in all_features:\n",
    "    X_cols = item\n",
    "#     results = KNN(X_cols, training_DF, testing_DF)\n",
    "    results = util.RunAndTestKNNModel(X_cols, training_DF, testing_DF)\n",
    "\n",
    "    #  [x][1] = Mean squared error regression loss (bc its the smallest value lol)\n",
    "    mserr_training = results[1][1]\n",
    "    mserr_testing = results[2][1]\n",
    "    discrete_mserr_training = results[4][1]\n",
    "    discrete_mserr_testing = results[5][1]\n",
    "\n",
    "    if(len(item)>70):\n",
    "        item=\"allfeatures\"\n",
    "    \n",
    "    print \"{:<70}\".format(item), \"training_error:\\t\\t\", mserr_training\n",
    "    print \"{:<70}\".format(item), \"testing_error:\\t\\t\", mserr_testing\n",
    "    print \"{:<70}\".format(item), \"discrete training_error:\\t\", discrete_mserr_training\n",
    "    print \"{:<70}\".format(item), \"discrete testing_error:\\t\", discrete_mserr_testing\n",
    "    # print \"The min error values were:\", min(results[1]), min(results[2])\n",
    "    # print \"std of hot is:\", results[3]\n",
    "    # -------------------------------------------------\n"
   ]
  },
  {
   "cell_type": "code",
   "execution_count": null,
   "metadata": {},
   "outputs": [],
   "source": []
  },
  {
   "cell_type": "code",
   "execution_count": null,
   "metadata": {},
   "outputs": [],
   "source": []
  }
 ],
 "metadata": {
  "kernelspec": {
   "display_name": "Python 2",
   "language": "python",
   "name": "python2"
  },
  "language_info": {
   "codemirror_mode": {
    "name": "ipython",
    "version": 2
   },
   "file_extension": ".py",
   "mimetype": "text/x-python",
   "name": "python",
   "nbconvert_exporter": "python",
   "pygments_lexer": "ipython2",
   "version": "2.7.16"
  }
 },
 "nbformat": 4,
 "nbformat_minor": 2
}
